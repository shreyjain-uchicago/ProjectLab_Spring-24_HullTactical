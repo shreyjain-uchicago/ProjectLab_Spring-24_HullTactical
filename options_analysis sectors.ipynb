{
 "cells": [
  {
   "cell_type": "code",
   "execution_count": 1,
   "metadata": {},
   "outputs": [],
   "source": [
    "import os\n",
    "import datetime\n",
    "from datetime import timedelta\n",
    "import quandl\n",
    "import matplotlib.pyplot as plt\n",
    "\n",
    "import matplotlib.pyplot as plt\n",
    "import pandas as pd\n",
    "import numpy as np\n",
    "import scipy as sp\n",
    "import plotnine as p9\n",
    "from sklearn.preprocessing import MinMaxScaler\n",
    "from scipy.stats import zscore\n",
    "\n",
    "import warnings\n",
    "import functools\n",
    "import wrds\n",
    "import sys\n",
    "# Ignore all warnings\n",
    "warnings.filterwarnings(\"ignore\")"
   ]
  },
  {
   "cell_type": "code",
   "execution_count": 2,
   "metadata": {},
   "outputs": [
    {
     "name": "stdout",
     "output_type": "stream",
     "text": [
      "WRDS recommends setting up a .pgpass file.\n",
      "Created .pgpass file successfully.\n",
      "You can create this file yourself at any time with the create_pgpass_file() function.\n",
      "Loading library list...\n",
      "Done\n"
     ]
    }
   ],
   "source": [
    "db = wrds.Connection()\n"
   ]
  },
  {
   "cell_type": "code",
   "execution_count": 3,
   "metadata": {},
   "outputs": [
    {
     "data": {
      "text/html": [
       "<div>\n",
       "<style scoped>\n",
       "    .dataframe tbody tr th:only-of-type {\n",
       "        vertical-align: middle;\n",
       "    }\n",
       "\n",
       "    .dataframe tbody tr th {\n",
       "        vertical-align: top;\n",
       "    }\n",
       "\n",
       "    .dataframe thead th {\n",
       "        text-align: right;\n",
       "    }\n",
       "</style>\n",
       "<table border=\"1\" class=\"dataframe\">\n",
       "  <thead>\n",
       "    <tr style=\"text-align: right;\">\n",
       "      <th></th>\n",
       "      <th>Unnamed: 0</th>\n",
       "      <th>index</th>\n",
       "      <th>Short_ticker</th>\n",
       "      <th>Name</th>\n",
       "      <th>Ticker</th>\n",
       "      <th>Date</th>\n",
       "      <th>Event Type</th>\n",
       "      <th>Adjusted Trading Date</th>\n",
       "      <th>trade_entry</th>\n",
       "      <th>trade_exit</th>\n",
       "    </tr>\n",
       "  </thead>\n",
       "  <tbody>\n",
       "    <tr>\n",
       "      <th>0</th>\n",
       "      <td>0</td>\n",
       "      <td>396</td>\n",
       "      <td>A</td>\n",
       "      <td>Agilent Technologies Inc</td>\n",
       "      <td>A US</td>\n",
       "      <td>2018-02-14 16:05:00</td>\n",
       "      <td>ER</td>\n",
       "      <td>2018-02-15 00:00:00+00:00</td>\n",
       "      <td>2018-02-14 16:05:00</td>\n",
       "      <td>2018-02-15 16:05:00</td>\n",
       "    </tr>\n",
       "    <tr>\n",
       "      <th>1</th>\n",
       "      <td>1</td>\n",
       "      <td>1298</td>\n",
       "      <td>A</td>\n",
       "      <td>Agilent Technologies Inc</td>\n",
       "      <td>A US</td>\n",
       "      <td>2018-05-14 16:05:00</td>\n",
       "      <td>ER</td>\n",
       "      <td>2018-05-15 00:00:00+00:00</td>\n",
       "      <td>2018-05-14 16:05:00</td>\n",
       "      <td>2018-05-15 16:05:00</td>\n",
       "    </tr>\n",
       "    <tr>\n",
       "      <th>2</th>\n",
       "      <td>2</td>\n",
       "      <td>2023</td>\n",
       "      <td>A</td>\n",
       "      <td>Agilent Technologies Inc</td>\n",
       "      <td>A US</td>\n",
       "      <td>2018-08-14 16:05:00</td>\n",
       "      <td>ER</td>\n",
       "      <td>2018-08-15 00:00:00+00:00</td>\n",
       "      <td>2018-08-14 16:05:00</td>\n",
       "      <td>2018-08-15 16:05:00</td>\n",
       "    </tr>\n",
       "    <tr>\n",
       "      <th>3</th>\n",
       "      <td>3</td>\n",
       "      <td>2754</td>\n",
       "      <td>A</td>\n",
       "      <td>Agilent Technologies Inc</td>\n",
       "      <td>A US</td>\n",
       "      <td>2018-11-19 16:05:00</td>\n",
       "      <td>ER</td>\n",
       "      <td>2018-11-20 00:00:00+00:00</td>\n",
       "      <td>2018-11-19 16:05:00</td>\n",
       "      <td>2018-11-20 16:05:00</td>\n",
       "    </tr>\n",
       "    <tr>\n",
       "      <th>4</th>\n",
       "      <td>4</td>\n",
       "      <td>3297</td>\n",
       "      <td>A</td>\n",
       "      <td>Agilent Technologies Inc</td>\n",
       "      <td>A US</td>\n",
       "      <td>2019-02-20 16:05:00</td>\n",
       "      <td>ER</td>\n",
       "      <td>2019-02-21 00:00:00+00:00</td>\n",
       "      <td>2019-02-20 16:05:00</td>\n",
       "      <td>2019-02-21 16:05:00</td>\n",
       "    </tr>\n",
       "    <tr>\n",
       "      <th>...</th>\n",
       "      <td>...</td>\n",
       "      <td>...</td>\n",
       "      <td>...</td>\n",
       "      <td>...</td>\n",
       "      <td>...</td>\n",
       "      <td>...</td>\n",
       "      <td>...</td>\n",
       "      <td>...</td>\n",
       "      <td>...</td>\n",
       "      <td>...</td>\n",
       "    </tr>\n",
       "    <tr>\n",
       "      <th>19471</th>\n",
       "      <td>19471</td>\n",
       "      <td>15969</td>\n",
       "      <td>ZTS</td>\n",
       "      <td>Zoetis Inc</td>\n",
       "      <td>ZTS US</td>\n",
       "      <td>2023-02-14 07:00:00</td>\n",
       "      <td>ER</td>\n",
       "      <td>2023-02-13 00:00:00+00:00</td>\n",
       "      <td>2023-02-13 07:00:00</td>\n",
       "      <td>2023-02-14 07:00:00</td>\n",
       "    </tr>\n",
       "    <tr>\n",
       "      <th>19472</th>\n",
       "      <td>19472</td>\n",
       "      <td>16912</td>\n",
       "      <td>ZTS</td>\n",
       "      <td>Zoetis Inc</td>\n",
       "      <td>ZTS US</td>\n",
       "      <td>2023-05-04 07:00:00</td>\n",
       "      <td>ER</td>\n",
       "      <td>2023-05-03 00:00:00+00:00</td>\n",
       "      <td>2023-05-03 07:00:00</td>\n",
       "      <td>2023-05-04 07:00:00</td>\n",
       "    </tr>\n",
       "    <tr>\n",
       "      <th>19473</th>\n",
       "      <td>19473</td>\n",
       "      <td>17936</td>\n",
       "      <td>ZTS</td>\n",
       "      <td>Zoetis Inc</td>\n",
       "      <td>ZTS US</td>\n",
       "      <td>2023-08-08 07:00:00</td>\n",
       "      <td>ER</td>\n",
       "      <td>2023-08-07 00:00:00+00:00</td>\n",
       "      <td>2023-08-07 07:00:00</td>\n",
       "      <td>2023-08-08 07:00:00</td>\n",
       "    </tr>\n",
       "    <tr>\n",
       "      <th>19474</th>\n",
       "      <td>19474</td>\n",
       "      <td>18652</td>\n",
       "      <td>ZTS</td>\n",
       "      <td>Zoetis Inc</td>\n",
       "      <td>ZTS US</td>\n",
       "      <td>2023-11-02 07:00:00</td>\n",
       "      <td>ER</td>\n",
       "      <td>2023-11-01 00:00:00+00:00</td>\n",
       "      <td>2023-11-01 07:00:00</td>\n",
       "      <td>2023-11-02 07:00:00</td>\n",
       "    </tr>\n",
       "    <tr>\n",
       "      <th>19475</th>\n",
       "      <td>19475</td>\n",
       "      <td>19471</td>\n",
       "      <td>ZTS</td>\n",
       "      <td>Zoetis Inc</td>\n",
       "      <td>ZTS US</td>\n",
       "      <td>2024-02-13 07:00:00</td>\n",
       "      <td>ER</td>\n",
       "      <td>2024-02-12 00:00:00+00:00</td>\n",
       "      <td>2024-02-12 07:00:00</td>\n",
       "      <td>2024-02-13 07:00:00</td>\n",
       "    </tr>\n",
       "  </tbody>\n",
       "</table>\n",
       "<p>19476 rows × 10 columns</p>\n",
       "</div>"
      ],
      "text/plain": [
       "       Unnamed: 0  index Short_ticker                      Name  Ticker  \\\n",
       "0               0    396            A  Agilent Technologies Inc    A US   \n",
       "1               1   1298            A  Agilent Technologies Inc    A US   \n",
       "2               2   2023            A  Agilent Technologies Inc    A US   \n",
       "3               3   2754            A  Agilent Technologies Inc    A US   \n",
       "4               4   3297            A  Agilent Technologies Inc    A US   \n",
       "...           ...    ...          ...                       ...     ...   \n",
       "19471       19471  15969          ZTS                Zoetis Inc  ZTS US   \n",
       "19472       19472  16912          ZTS                Zoetis Inc  ZTS US   \n",
       "19473       19473  17936          ZTS                Zoetis Inc  ZTS US   \n",
       "19474       19474  18652          ZTS                Zoetis Inc  ZTS US   \n",
       "19475       19475  19471          ZTS                Zoetis Inc  ZTS US   \n",
       "\n",
       "                      Date Event Type      Adjusted Trading Date  \\\n",
       "0      2018-02-14 16:05:00         ER  2018-02-15 00:00:00+00:00   \n",
       "1      2018-05-14 16:05:00         ER  2018-05-15 00:00:00+00:00   \n",
       "2      2018-08-14 16:05:00         ER  2018-08-15 00:00:00+00:00   \n",
       "3      2018-11-19 16:05:00         ER  2018-11-20 00:00:00+00:00   \n",
       "4      2019-02-20 16:05:00         ER  2019-02-21 00:00:00+00:00   \n",
       "...                    ...        ...                        ...   \n",
       "19471  2023-02-14 07:00:00         ER  2023-02-13 00:00:00+00:00   \n",
       "19472  2023-05-04 07:00:00         ER  2023-05-03 00:00:00+00:00   \n",
       "19473  2023-08-08 07:00:00         ER  2023-08-07 00:00:00+00:00   \n",
       "19474  2023-11-02 07:00:00         ER  2023-11-01 00:00:00+00:00   \n",
       "19475  2024-02-13 07:00:00         ER  2024-02-12 00:00:00+00:00   \n",
       "\n",
       "               trade_entry           trade_exit  \n",
       "0      2018-02-14 16:05:00  2018-02-15 16:05:00  \n",
       "1      2018-05-14 16:05:00  2018-05-15 16:05:00  \n",
       "2      2018-08-14 16:05:00  2018-08-15 16:05:00  \n",
       "3      2018-11-19 16:05:00  2018-11-20 16:05:00  \n",
       "4      2019-02-20 16:05:00  2019-02-21 16:05:00  \n",
       "...                    ...                  ...  \n",
       "19471  2023-02-13 07:00:00  2023-02-14 07:00:00  \n",
       "19472  2023-05-03 07:00:00  2023-05-04 07:00:00  \n",
       "19473  2023-08-07 07:00:00  2023-08-08 07:00:00  \n",
       "19474  2023-11-01 07:00:00  2023-11-02 07:00:00  \n",
       "19475  2024-02-12 07:00:00  2024-02-13 07:00:00  \n",
       "\n",
       "[19476 rows x 10 columns]"
      ]
     },
     "execution_count": 3,
     "metadata": {},
     "output_type": "execute_result"
    }
   ],
   "source": [
    "earnings_dates_for_tickers = pd.read_csv(\"earnings_dates_for_tickers.csv\")\n",
    "earnings_dates_for_tickers"
   ]
  },
  {
   "cell_type": "code",
   "execution_count": 4,
   "metadata": {},
   "outputs": [
    {
     "data": {
      "text/plain": [
       "array([101149., 205456., 210354., ..., 211262., 207854., 105959.])"
      ]
     },
     "execution_count": 4,
     "metadata": {},
     "output_type": "execute_result"
    }
   ],
   "source": [
    "csv_file_path = \"secids.csv\"\n",
    "\n",
    "# Reading the CSV file into a NumPy array\n",
    "secids = np.genfromtxt(csv_file_path, delimiter=',')\n",
    "secids"
   ]
  },
  {
   "cell_type": "code",
   "execution_count": 5,
   "metadata": {},
   "outputs": [
    {
     "name": "stdout",
     "output_type": "stream",
     "text": [
      "2017\n",
      "2018\n",
      "2019\n",
      "2020\n",
      "2021\n",
      "2022\n",
      "2023\n"
     ]
    }
   ],
   "source": [
    "options_dict = {} \n",
    "for year in range(2017, 2024):\n",
    "    print(year)\n",
    "    table_name = f\"optionm.opprcd{year}\"  # Generate table name dynamically\n",
    "    query = f\"\"\"\n",
    "    SELECT\n",
    "        date, secid, symbol, cp_flag, expiry_indicator, volume, strike_price, exdate, open_interest, impl_volatility, best_bid, best_offer, delta, gamma, vega, theta\n",
    "    FROM \n",
    "        {table_name} a \n",
    "    WHERE\n",
    "        a.secid IN ({','.join(map(str, secids))}) AND\n",
    "        a.volume > 0 AND\n",
    "        a.exdate - a.date <= 7\n",
    "    \"\"\"\n",
    "    options_dict[year] = db.raw_sql(query, date_cols=['date'])"
   ]
  },
  {
   "cell_type": "code",
   "execution_count": 6,
   "metadata": {},
   "outputs": [],
   "source": [
    "for year in range(2017, 2024):\n",
    "    # Get the DataFrame for the current year\n",
    "    options = options_dict[year]\n",
    "    \n",
    "    # Split the 'symbol' column and extract the first substring as 'ticker'\n",
    "    options['ticker'] = options['symbol'].str.split(' ').str[0]\n",
    "    \n",
    "    # Set the multi-index using 'date' and 'ticker'\n",
    "    options.set_index(['date', 'ticker'], inplace=True)\n",
    "    \n",
    "    # Update the options_dict with the modified DataFrame\n",
    "    options_dict[year] = options"
   ]
  },
  {
   "cell_type": "code",
   "execution_count": 7,
   "metadata": {},
   "outputs": [
    {
     "data": {
      "text/html": [
       "<div>\n",
       "<style scoped>\n",
       "    .dataframe tbody tr th:only-of-type {\n",
       "        vertical-align: middle;\n",
       "    }\n",
       "\n",
       "    .dataframe tbody tr th {\n",
       "        vertical-align: top;\n",
       "    }\n",
       "\n",
       "    .dataframe thead th {\n",
       "        text-align: right;\n",
       "    }\n",
       "</style>\n",
       "<table border=\"1\" class=\"dataframe\">\n",
       "  <thead>\n",
       "    <tr style=\"text-align: right;\">\n",
       "      <th></th>\n",
       "      <th>date</th>\n",
       "      <th>permno</th>\n",
       "      <th>prc</th>\n",
       "      <th>bid</th>\n",
       "      <th>ask</th>\n",
       "      <th>ticker</th>\n",
       "      <th>comnam</th>\n",
       "      <th>permco</th>\n",
       "    </tr>\n",
       "  </thead>\n",
       "  <tbody>\n",
       "    <tr>\n",
       "      <th>0</th>\n",
       "      <td>2018-02-07</td>\n",
       "      <td>87432</td>\n",
       "      <td>68.06</td>\n",
       "      <td>68.06000</td>\n",
       "      <td>68.07000</td>\n",
       "      <td>A</td>\n",
       "      <td>AGILENT TECHNOLOGIES INC</td>\n",
       "      <td>36364.0</td>\n",
       "    </tr>\n",
       "    <tr>\n",
       "      <th>1</th>\n",
       "      <td>2018-02-08</td>\n",
       "      <td>87432</td>\n",
       "      <td>65.05</td>\n",
       "      <td>65.03000</td>\n",
       "      <td>65.05000</td>\n",
       "      <td>A</td>\n",
       "      <td>AGILENT TECHNOLOGIES INC</td>\n",
       "      <td>36364.0</td>\n",
       "    </tr>\n",
       "    <tr>\n",
       "      <th>2</th>\n",
       "      <td>2018-02-09</td>\n",
       "      <td>87432</td>\n",
       "      <td>66.98</td>\n",
       "      <td>66.97000</td>\n",
       "      <td>66.98000</td>\n",
       "      <td>A</td>\n",
       "      <td>AGILENT TECHNOLOGIES INC</td>\n",
       "      <td>36364.0</td>\n",
       "    </tr>\n",
       "    <tr>\n",
       "      <th>3</th>\n",
       "      <td>2018-02-12</td>\n",
       "      <td>87432</td>\n",
       "      <td>68.43</td>\n",
       "      <td>68.40000</td>\n",
       "      <td>68.41000</td>\n",
       "      <td>A</td>\n",
       "      <td>AGILENT TECHNOLOGIES INC</td>\n",
       "      <td>36364.0</td>\n",
       "    </tr>\n",
       "    <tr>\n",
       "      <th>4</th>\n",
       "      <td>2018-02-13</td>\n",
       "      <td>87432</td>\n",
       "      <td>68.34</td>\n",
       "      <td>68.33000</td>\n",
       "      <td>68.34000</td>\n",
       "      <td>A</td>\n",
       "      <td>AGILENT TECHNOLOGIES INC</td>\n",
       "      <td>36364.0</td>\n",
       "    </tr>\n",
       "    <tr>\n",
       "      <th>...</th>\n",
       "      <td>...</td>\n",
       "      <td>...</td>\n",
       "      <td>...</td>\n",
       "      <td>...</td>\n",
       "      <td>...</td>\n",
       "      <td>...</td>\n",
       "      <td>...</td>\n",
       "      <td>...</td>\n",
       "    </tr>\n",
       "    <tr>\n",
       "      <th>147109</th>\n",
       "      <td>2023-11-03</td>\n",
       "      <td>13788</td>\n",
       "      <td>162.23</td>\n",
       "      <td>162.19000</td>\n",
       "      <td>162.23000</td>\n",
       "      <td>ZTS</td>\n",
       "      <td>ZOETIS INC</td>\n",
       "      <td>54327.0</td>\n",
       "    </tr>\n",
       "    <tr>\n",
       "      <th>147110</th>\n",
       "      <td>2023-11-06</td>\n",
       "      <td>13788</td>\n",
       "      <td>163.17</td>\n",
       "      <td>163.20000</td>\n",
       "      <td>163.27000</td>\n",
       "      <td>ZTS</td>\n",
       "      <td>ZOETIS INC</td>\n",
       "      <td>54327.0</td>\n",
       "    </tr>\n",
       "    <tr>\n",
       "      <th>147111</th>\n",
       "      <td>2023-11-07</td>\n",
       "      <td>13788</td>\n",
       "      <td>167.16</td>\n",
       "      <td>167.24001</td>\n",
       "      <td>167.28000</td>\n",
       "      <td>ZTS</td>\n",
       "      <td>ZOETIS INC</td>\n",
       "      <td>54327.0</td>\n",
       "    </tr>\n",
       "    <tr>\n",
       "      <th>147112</th>\n",
       "      <td>2023-11-08</td>\n",
       "      <td>13788</td>\n",
       "      <td>170.87</td>\n",
       "      <td>170.89000</td>\n",
       "      <td>170.92999</td>\n",
       "      <td>ZTS</td>\n",
       "      <td>ZOETIS INC</td>\n",
       "      <td>54327.0</td>\n",
       "    </tr>\n",
       "    <tr>\n",
       "      <th>147113</th>\n",
       "      <td>2023-11-09</td>\n",
       "      <td>13788</td>\n",
       "      <td>170.63</td>\n",
       "      <td>170.71001</td>\n",
       "      <td>170.72000</td>\n",
       "      <td>ZTS</td>\n",
       "      <td>ZOETIS INC</td>\n",
       "      <td>54327.0</td>\n",
       "    </tr>\n",
       "  </tbody>\n",
       "</table>\n",
       "<p>147114 rows × 8 columns</p>\n",
       "</div>"
      ],
      "text/plain": [
       "             date  permno     prc        bid        ask ticker  \\\n",
       "0      2018-02-07   87432   68.06   68.06000   68.07000      A   \n",
       "1      2018-02-08   87432   65.05   65.03000   65.05000      A   \n",
       "2      2018-02-09   87432   66.98   66.97000   66.98000      A   \n",
       "3      2018-02-12   87432   68.43   68.40000   68.41000      A   \n",
       "4      2018-02-13   87432   68.34   68.33000   68.34000      A   \n",
       "...           ...     ...     ...        ...        ...    ...   \n",
       "147109 2023-11-03   13788  162.23  162.19000  162.23000    ZTS   \n",
       "147110 2023-11-06   13788  163.17  163.20000  163.27000    ZTS   \n",
       "147111 2023-11-07   13788  167.16  167.24001  167.28000    ZTS   \n",
       "147112 2023-11-08   13788  170.87  170.89000  170.92999    ZTS   \n",
       "147113 2023-11-09   13788  170.63  170.71001  170.72000    ZTS   \n",
       "\n",
       "                          comnam   permco  \n",
       "0       AGILENT TECHNOLOGIES INC  36364.0  \n",
       "1       AGILENT TECHNOLOGIES INC  36364.0  \n",
       "2       AGILENT TECHNOLOGIES INC  36364.0  \n",
       "3       AGILENT TECHNOLOGIES INC  36364.0  \n",
       "4       AGILENT TECHNOLOGIES INC  36364.0  \n",
       "...                          ...      ...  \n",
       "147109                ZOETIS INC  54327.0  \n",
       "147110                ZOETIS INC  54327.0  \n",
       "147111                ZOETIS INC  54327.0  \n",
       "147112                ZOETIS INC  54327.0  \n",
       "147113                ZOETIS INC  54327.0  \n",
       "\n",
       "[147114 rows x 8 columns]"
      ]
     },
     "execution_count": 7,
     "metadata": {},
     "output_type": "execute_result"
    }
   ],
   "source": [
    "stock_prices = pd.read_parquet(\"stock_price_ED_20182023.parquet\")\n",
    "stock_prices"
   ]
  },
  {
   "cell_type": "code",
   "execution_count": 8,
   "metadata": {},
   "outputs": [
    {
     "data": {
      "text/plain": [
       "0        2018-02-14\n",
       "1        2018-05-14\n",
       "2        2018-08-14\n",
       "3        2018-11-19\n",
       "4        2019-02-20\n",
       "            ...    \n",
       "19471    2023-02-13\n",
       "19472    2023-05-03\n",
       "19473    2023-08-07\n",
       "19474    2023-11-01\n",
       "19475    2024-02-12\n",
       "Name: trade_entry, Length: 19476, dtype: object"
      ]
     },
     "execution_count": 8,
     "metadata": {},
     "output_type": "execute_result"
    }
   ],
   "source": [
    "earnings_dates_for_tickers['trade_entry'] = pd.to_datetime(earnings_dates_for_tickers['trade_entry'])\n",
    "\n",
    "# Extract only the date part (YYYY-MM-DD)\n",
    "earnings_dates_for_tickers['trade_entry'] = earnings_dates_for_tickers['trade_entry'].dt.date\n",
    "earnings_dates_for_tickers['trade_entry']"
   ]
  },
  {
   "cell_type": "code",
   "execution_count": 9,
   "metadata": {},
   "outputs": [
    {
     "data": {
      "text/plain": [
       "0       2018-02-14\n",
       "1       2018-05-14\n",
       "2       2018-08-14\n",
       "3       2018-11-19\n",
       "4       2019-02-20\n",
       "           ...    \n",
       "19471   2023-02-13\n",
       "19472   2023-05-03\n",
       "19473   2023-08-07\n",
       "19474   2023-11-01\n",
       "19475   2024-02-12\n",
       "Name: trade_entry, Length: 19476, dtype: datetime64[ns]"
      ]
     },
     "execution_count": 9,
     "metadata": {},
     "output_type": "execute_result"
    }
   ],
   "source": [
    "earnings_dates_for_tickers['trade_entry'] = pd.to_datetime(earnings_dates_for_tickers['trade_entry'])\n",
    "earnings_dates_for_tickers['trade_entry']\n"
   ]
  },
  {
   "cell_type": "code",
   "execution_count": 10,
   "metadata": {},
   "outputs": [
    {
     "data": {
      "text/plain": [
       "0       2018-02-15\n",
       "1       2018-05-15\n",
       "2       2018-08-15\n",
       "3       2018-11-20\n",
       "4       2019-02-21\n",
       "           ...    \n",
       "19471   2023-02-14\n",
       "19472   2023-05-04\n",
       "19473   2023-08-08\n",
       "19474   2023-11-02\n",
       "19475   2024-02-13\n",
       "Name: trade_exit, Length: 19476, dtype: datetime64[ns]"
      ]
     },
     "execution_count": 10,
     "metadata": {},
     "output_type": "execute_result"
    }
   ],
   "source": [
    "earnings_dates_for_tickers['trade_exit'] = pd.to_datetime(earnings_dates_for_tickers['trade_exit'])\n",
    "\n",
    "# Extract only the date part (YYYY-MM-DD)\n",
    "earnings_dates_for_tickers['trade_exit'] = earnings_dates_for_tickers['trade_exit'].dt.date\n",
    "earnings_dates_for_tickers['trade_exit'] = pd.to_datetime(earnings_dates_for_tickers['trade_exit'])\n",
    "earnings_dates_for_tickers['trade_exit']\n",
    "\n"
   ]
  },
  {
   "cell_type": "code",
   "execution_count": 11,
   "metadata": {},
   "outputs": [
    {
     "data": {
      "text/html": [
       "<div>\n",
       "<style scoped>\n",
       "    .dataframe tbody tr th:only-of-type {\n",
       "        vertical-align: middle;\n",
       "    }\n",
       "\n",
       "    .dataframe tbody tr th {\n",
       "        vertical-align: top;\n",
       "    }\n",
       "\n",
       "    .dataframe thead th {\n",
       "        text-align: right;\n",
       "    }\n",
       "</style>\n",
       "<table border=\"1\" class=\"dataframe\">\n",
       "  <thead>\n",
       "    <tr style=\"text-align: right;\">\n",
       "      <th></th>\n",
       "      <th></th>\n",
       "      <th>permno</th>\n",
       "      <th>prc</th>\n",
       "      <th>bid</th>\n",
       "      <th>ask</th>\n",
       "      <th>comnam</th>\n",
       "      <th>permco</th>\n",
       "    </tr>\n",
       "    <tr>\n",
       "      <th>date</th>\n",
       "      <th>ticker</th>\n",
       "      <th></th>\n",
       "      <th></th>\n",
       "      <th></th>\n",
       "      <th></th>\n",
       "      <th></th>\n",
       "      <th></th>\n",
       "    </tr>\n",
       "  </thead>\n",
       "  <tbody>\n",
       "    <tr>\n",
       "      <th>2018-02-07</th>\n",
       "      <th>A</th>\n",
       "      <td>87432</td>\n",
       "      <td>68.06</td>\n",
       "      <td>68.06000</td>\n",
       "      <td>68.07000</td>\n",
       "      <td>AGILENT TECHNOLOGIES INC</td>\n",
       "      <td>36364.0</td>\n",
       "    </tr>\n",
       "    <tr>\n",
       "      <th>2018-02-08</th>\n",
       "      <th>A</th>\n",
       "      <td>87432</td>\n",
       "      <td>65.05</td>\n",
       "      <td>65.03000</td>\n",
       "      <td>65.05000</td>\n",
       "      <td>AGILENT TECHNOLOGIES INC</td>\n",
       "      <td>36364.0</td>\n",
       "    </tr>\n",
       "    <tr>\n",
       "      <th>2018-02-09</th>\n",
       "      <th>A</th>\n",
       "      <td>87432</td>\n",
       "      <td>66.98</td>\n",
       "      <td>66.97000</td>\n",
       "      <td>66.98000</td>\n",
       "      <td>AGILENT TECHNOLOGIES INC</td>\n",
       "      <td>36364.0</td>\n",
       "    </tr>\n",
       "    <tr>\n",
       "      <th>2018-02-12</th>\n",
       "      <th>A</th>\n",
       "      <td>87432</td>\n",
       "      <td>68.43</td>\n",
       "      <td>68.40000</td>\n",
       "      <td>68.41000</td>\n",
       "      <td>AGILENT TECHNOLOGIES INC</td>\n",
       "      <td>36364.0</td>\n",
       "    </tr>\n",
       "    <tr>\n",
       "      <th>2018-02-13</th>\n",
       "      <th>A</th>\n",
       "      <td>87432</td>\n",
       "      <td>68.34</td>\n",
       "      <td>68.33000</td>\n",
       "      <td>68.34000</td>\n",
       "      <td>AGILENT TECHNOLOGIES INC</td>\n",
       "      <td>36364.0</td>\n",
       "    </tr>\n",
       "    <tr>\n",
       "      <th>...</th>\n",
       "      <th>...</th>\n",
       "      <td>...</td>\n",
       "      <td>...</td>\n",
       "      <td>...</td>\n",
       "      <td>...</td>\n",
       "      <td>...</td>\n",
       "      <td>...</td>\n",
       "    </tr>\n",
       "    <tr>\n",
       "      <th>2023-11-03</th>\n",
       "      <th>ZTS</th>\n",
       "      <td>13788</td>\n",
       "      <td>162.23</td>\n",
       "      <td>162.19000</td>\n",
       "      <td>162.23000</td>\n",
       "      <td>ZOETIS INC</td>\n",
       "      <td>54327.0</td>\n",
       "    </tr>\n",
       "    <tr>\n",
       "      <th>2023-11-06</th>\n",
       "      <th>ZTS</th>\n",
       "      <td>13788</td>\n",
       "      <td>163.17</td>\n",
       "      <td>163.20000</td>\n",
       "      <td>163.27000</td>\n",
       "      <td>ZOETIS INC</td>\n",
       "      <td>54327.0</td>\n",
       "    </tr>\n",
       "    <tr>\n",
       "      <th>2023-11-07</th>\n",
       "      <th>ZTS</th>\n",
       "      <td>13788</td>\n",
       "      <td>167.16</td>\n",
       "      <td>167.24001</td>\n",
       "      <td>167.28000</td>\n",
       "      <td>ZOETIS INC</td>\n",
       "      <td>54327.0</td>\n",
       "    </tr>\n",
       "    <tr>\n",
       "      <th>2023-11-08</th>\n",
       "      <th>ZTS</th>\n",
       "      <td>13788</td>\n",
       "      <td>170.87</td>\n",
       "      <td>170.89000</td>\n",
       "      <td>170.92999</td>\n",
       "      <td>ZOETIS INC</td>\n",
       "      <td>54327.0</td>\n",
       "    </tr>\n",
       "    <tr>\n",
       "      <th>2023-11-09</th>\n",
       "      <th>ZTS</th>\n",
       "      <td>13788</td>\n",
       "      <td>170.63</td>\n",
       "      <td>170.71001</td>\n",
       "      <td>170.72000</td>\n",
       "      <td>ZOETIS INC</td>\n",
       "      <td>54327.0</td>\n",
       "    </tr>\n",
       "  </tbody>\n",
       "</table>\n",
       "<p>147114 rows × 6 columns</p>\n",
       "</div>"
      ],
      "text/plain": [
       "                   permno     prc        bid        ask  \\\n",
       "date       ticker                                         \n",
       "2018-02-07 A        87432   68.06   68.06000   68.07000   \n",
       "2018-02-08 A        87432   65.05   65.03000   65.05000   \n",
       "2018-02-09 A        87432   66.98   66.97000   66.98000   \n",
       "2018-02-12 A        87432   68.43   68.40000   68.41000   \n",
       "2018-02-13 A        87432   68.34   68.33000   68.34000   \n",
       "...                   ...     ...        ...        ...   \n",
       "2023-11-03 ZTS      13788  162.23  162.19000  162.23000   \n",
       "2023-11-06 ZTS      13788  163.17  163.20000  163.27000   \n",
       "2023-11-07 ZTS      13788  167.16  167.24001  167.28000   \n",
       "2023-11-08 ZTS      13788  170.87  170.89000  170.92999   \n",
       "2023-11-09 ZTS      13788  170.63  170.71001  170.72000   \n",
       "\n",
       "                                     comnam   permco  \n",
       "date       ticker                                     \n",
       "2018-02-07 A       AGILENT TECHNOLOGIES INC  36364.0  \n",
       "2018-02-08 A       AGILENT TECHNOLOGIES INC  36364.0  \n",
       "2018-02-09 A       AGILENT TECHNOLOGIES INC  36364.0  \n",
       "2018-02-12 A       AGILENT TECHNOLOGIES INC  36364.0  \n",
       "2018-02-13 A       AGILENT TECHNOLOGIES INC  36364.0  \n",
       "...                                     ...      ...  \n",
       "2023-11-03 ZTS                   ZOETIS INC  54327.0  \n",
       "2023-11-06 ZTS                   ZOETIS INC  54327.0  \n",
       "2023-11-07 ZTS                   ZOETIS INC  54327.0  \n",
       "2023-11-08 ZTS                   ZOETIS INC  54327.0  \n",
       "2023-11-09 ZTS                   ZOETIS INC  54327.0  \n",
       "\n",
       "[147114 rows x 6 columns]"
      ]
     },
     "execution_count": 11,
     "metadata": {},
     "output_type": "execute_result"
    }
   ],
   "source": [
    "stock_prices.set_index(['date','ticker'],inplace = True)\n",
    "stock_prices"
   ]
  },
  {
   "cell_type": "code",
   "execution_count": 12,
   "metadata": {},
   "outputs": [],
   "source": [
    "def entry_stock_price(row):\n",
    "    try:\n",
    "        return stock_prices.loc[(row['trade_entry'], row['Short_ticker'])]['prc']\n",
    "    except KeyError:\n",
    "        return np.nan\n",
    "earnings_dates_for_tickers['stock_price_entry'] = earnings_dates_for_tickers.apply(entry_stock_price,axis = 1)"
   ]
  },
  {
   "cell_type": "code",
   "execution_count": 13,
   "metadata": {},
   "outputs": [],
   "source": [
    "def exit_stock_price(row):\n",
    "    try:\n",
    "        return stock_prices.loc[(row['trade_exit'], row['Short_ticker'])]['prc']\n",
    "    except KeyError:\n",
    "        return np.nan\n",
    "earnings_dates_for_tickers['stock_price_exit'] = earnings_dates_for_tickers.apply(exit_stock_price,axis = 1)"
   ]
  },
  {
   "cell_type": "code",
   "execution_count": 14,
   "metadata": {},
   "outputs": [
    {
     "data": {
      "text/plain": [
       "0        2018\n",
       "1        2018\n",
       "2        2018\n",
       "3        2018\n",
       "4        2019\n",
       "         ... \n",
       "19471    2023\n",
       "19472    2023\n",
       "19473    2023\n",
       "19474    2023\n",
       "19475    2024\n",
       "Name: year_entry, Length: 19476, dtype: int32"
      ]
     },
     "execution_count": 14,
     "metadata": {},
     "output_type": "execute_result"
    }
   ],
   "source": [
    "earnings_dates_for_tickers['year_entry'] = earnings_dates_for_tickers['trade_entry'].dt.year\n",
    "\n",
    "# Create 'year_exit' column containing the year of 'trade_exit'\n",
    "earnings_dates_for_tickers['year_exit'] = earnings_dates_for_tickers['trade_exit'].dt.year\n",
    "earnings_dates_for_tickers['year_entry']"
   ]
  },
  {
   "cell_type": "code",
   "execution_count": 26,
   "metadata": {},
   "outputs": [
    {
     "data": {
      "text/plain": [
       "245.41648013548803"
      ]
     },
     "execution_count": 26,
     "metadata": {},
     "output_type": "execute_result"
    }
   ],
   "source": [
    "approximation_error = abs(1000 * earnings_dates_for_tickers['stock_price_entry'] - 1000 * earnings_dates_for_tickers['stock_price_entry'].round())\n",
    "approximation_error.mean()"
   ]
  },
  {
   "cell_type": "code",
   "execution_count": 37,
   "metadata": {},
   "outputs": [
    {
     "data": {
      "text/plain": [
       "Index(['secid', 'symbol', 'cp_flag', 'expiry_indicator', 'volume',\n",
       "       'strike_price', 'exdate', 'open_interest', 'impl_volatility',\n",
       "       'best_bid', 'best_offer', 'delta', 'gamma', 'vega', 'theta'],\n",
       "      dtype='object')"
      ]
     },
     "execution_count": 37,
     "metadata": {},
     "output_type": "execute_result"
    }
   ],
   "source": [
    "options_dict[2017].columns"
   ]
  },
  {
   "cell_type": "code",
   "execution_count": null,
   "metadata": {},
   "outputs": [],
   "source": [
    "def straddle_entry_mid(row):\n",
    "    if row['year_entry'] < 2017 or row['year_entry'] > 2023 or row['year_exit'] < 2017 or row['year_exit'] > 2023:\n",
    "        return np.nan\n",
    "    try:\n",
    "        options = options_dict[row['year_entry']].loc[(row['trade_entry'],row['Short_ticker'])]\n",
    "    except:\n",
    "        return np.nan\n",
    "    options['strike_price'] *= 0.001\n",
    "\n",
    "    # Calculate the absolute difference between 'strike_price' and row['stock_price_entry']\n",
    "    options['abs_difference'] = abs(options['strike_price'] - row['stock_price_entry'])\n",
    "\n",
    "    # Filter the DataFrame for rows with the minimum absolute difference\n",
    "    min_abs_difference = options['abs_difference'].min()\n",
    "    filtered_options = options[options['abs_difference'] == min_abs_difference]\n",
    "    if len(filtered_options) ==2 and ('C' in filtered_options['cp_flag'].values) and ('P' in filtered_options['cp_flag'].values):\n",
    "        return (filtered_options['best_bid'].mean()+filtered_options['best_offer'].mean())/2.0\n",
    "    return np.nan\n",
    "earnings_dates_for_tickers['straddle_entry_mid'] = earnings_dates_for_tickers.apply(straddle_entry_mid,axis = 1)"
   ]
  },
  {
   "cell_type": "code",
   "execution_count": 39,
   "metadata": {},
   "outputs": [],
   "source": [
    "def straddle_entry(row):\n",
    "    if row['year_entry'] < 2017 or row['year_entry'] > 2023 or row['year_exit'] < 2017 or row['year_exit'] > 2023:\n",
    "        return np.nan*8\n",
    "    try:\n",
    "        options = options_dict[row['year_entry']].loc[(row['trade_entry'],row['Short_ticker'])]\n",
    "    except:\n",
    "        return np.nan*8\n",
    "\n",
    "    # Calculate the absolute difference between 'strike_price' and row['stock_price_entry']\n",
    "    options['abs_difference'] = abs(options['strike_price'] - row['stock_price_entry']*1000)\n",
    "\n",
    "    # Filter the DataFrame for rows with the minimum absolute difference\n",
    "    min_abs_difference = options['abs_difference'].min()\n",
    "    filtered_options = options[options['abs_difference'] == min_abs_difference]\n",
    "    if len(filtered_options) ==2 and ('C' in filtered_options['cp_flag'].values) and ('P' in filtered_options['cp_flag'].values):\n",
    "        return filtered_options['impl_volatility'].mean(),filtered_options['best_bid'].sum(),filtered_options['best_offer'].sum(),filtered_options['gamma'].sum(),filtered_options['vega'].sum(),filtered_options['theta'].sum(),filtered_options['delta'].sum(),filtered_options['strike_price'].mean()\n",
    "    return np.nan*8\n",
    "earnings_dates_for_tickers[['straddle_entry_vol','straddle_entry_bid','straddle_entry_offer','straddle_entry_gamma','straddle_entry_vega','straddle_entry_theta','straddle_entry_delta','straddle_entry_strike']] = earnings_dates_for_tickers.apply(straddle_entry,axis = 1, result_type = 'expand')"
   ]
  },
  {
   "cell_type": "code",
   "execution_count": 16,
   "metadata": {},
   "outputs": [
    {
     "data": {
      "text/plain": [
       "5566"
      ]
     },
     "execution_count": 16,
     "metadata": {},
     "output_type": "execute_result"
    }
   ],
   "source": [
    "earnings_dates_for_tickers['straddle_entry_mid'].count()"
   ]
  },
  {
   "cell_type": "code",
   "execution_count": 41,
   "metadata": {},
   "outputs": [],
   "source": [
    "def straddle_entry_skew_kurt(row):\n",
    "    if row['year_entry'] < 2017 or row['year_entry'] > 2023 or row['year_exit'] < 2017 or row['year_exit'] > 2023:\n",
    "        return np.nan*5\n",
    "    try:\n",
    "        options = options_dict[row['year_entry']].loc[(row['trade_entry'],row['Short_ticker'])]\n",
    "    except:\n",
    "        return np.nan*7\n",
    "    IV_25c = np.nan\n",
    "    IV_25p = np.nan\n",
    "    IV_10c = np.nan\n",
    "    IV_10p = np.nan\n",
    "    IV_50c = np.nan\n",
    "    # Calculate the absolute difference between 'strike_price' and row['stock_price_entry']\n",
    "    options['delta25_c_diff'] = abs(options['delta'] - 0.25)\n",
    "    options['delta25_p_diff'] = abs(options['delta'] + 0.25)\n",
    "    options['delta10_c_diff'] = abs(options['delta'] - 0.1)\n",
    "    options['delta10_p_diff'] = abs(options['delta'] + 0.1)\n",
    "    options['delta50_c_diff'] = abs(options['delta'] - 0.5)\n",
    "    min_delta25_c = options['delta25_c_diff'].min()\n",
    "    min_delta25_p = options['delta25_p_diff'].min()\n",
    "    min_delta10_c = options['delta10_c_diff'].min()\n",
    "    min_delta10_p = options['delta10_p_diff'].min()\n",
    "    min_delta50_c = options['delta50_c_diff'].min()\n",
    "    if min_delta25_c <= 0.05:\n",
    "        IV_25c = options[options['delta25_c_diff'] == min_delta25_c]['impl_volatility'].mean()\n",
    "    if min_delta25_p <= 0.05:\n",
    "        IV_25p = options[options['delta25_p_diff'] == min_delta25_p]['impl_volatility'].mean()\n",
    "    if min_delta10_c <= 0.02:\n",
    "        IV_10c = options[options['delta10_c_diff'] == min_delta10_c]['impl_volatility'].mean()\n",
    "    if min_delta10_p <= 0.05:\n",
    "        IV_10p = options[options['delta10_p_diff'] == min_delta10_p]['impl_volatility'].mean()\n",
    "    if min_delta50_c <= 0.1:\n",
    "        IV_50c = options[options['delta50_c_diff'] == min_delta50_c]['impl_volatility'].mean()\n",
    "    return IV_25c,IV_25p,IV_10c,IV_10p,IV_50c\n",
    "earnings_dates_for_tickers[['IV_25c','IV_25p','IV_10c','IV_10p','IV_50c']] = earnings_dates_for_tickers.apply(straddle_entry_skew_kurt,axis = 1, result_type = 'expand')"
   ]
  },
  {
   "cell_type": "code",
   "execution_count": 17,
   "metadata": {},
   "outputs": [],
   "source": [
    "def straddle_exit_mid(row):\n",
    "    if row['year_entry'] < 2017 or row['year_entry'] > 2023 or row['year_exit'] < 2017 or row['year_exit'] > 2023:\n",
    "        return np.nan\n",
    "    try:\n",
    "        options = options_dict[row['year_exit']].loc[(row['trade_exit'],row['Short_ticker'])]\n",
    "    except:\n",
    "        return np.nan\n",
    "    options['strike_price'] *= 0.001\n",
    "\n",
    "    # Calculate the absolute difference between 'strike_price' and row['stock_price_entry']\n",
    "    options['abs_difference'] = abs(options['strike_price'] - row['stock_price_entry'])\n",
    "\n",
    "    # Filter the DataFrame for rows with the minimum absolute difference\n",
    "    min_abs_difference = options['abs_difference'].min()\n",
    "    filtered_options = options[options['abs_difference'] == min_abs_difference]\n",
    "    if len(filtered_options) ==2 and ('C' in filtered_options['cp_flag'].values) and ('P' in filtered_options['cp_flag'].values):\n",
    "        return (filtered_options['best_bid'].mean()+filtered_options['best_offer'].mean())/2.0\n",
    "    return np.nan\n",
    "earnings_dates_for_tickers['straddle_exit_mid'] = earnings_dates_for_tickers.apply(straddle_exit_mid,axis = 1)"
   ]
  },
  {
   "cell_type": "code",
   "execution_count": 18,
   "metadata": {},
   "outputs": [
    {
     "data": {
      "text/plain": [
       "4693"
      ]
     },
     "execution_count": 18,
     "metadata": {},
     "output_type": "execute_result"
    }
   ],
   "source": [
    "earnings_dates_for_tickers['straddle_exit_mid'].count()"
   ]
  },
  {
   "cell_type": "code",
   "execution_count": 19,
   "metadata": {},
   "outputs": [],
   "source": [
    "earnings_dates_for_tickers['straddle_pnl'] = (earnings_dates_for_tickers['straddle_entry_mid'] - earnings_dates_for_tickers['straddle_exit_mid'])*1000.0/earnings_dates_for_tickers['straddle_entry_mid']"
   ]
  },
  {
   "cell_type": "code",
   "execution_count": 21,
   "metadata": {},
   "outputs": [
    {
     "data": {
      "text/plain": [
       "4263"
      ]
     },
     "execution_count": 21,
     "metadata": {},
     "output_type": "execute_result"
    }
   ],
   "source": [
    "earnings_dates_for_tickers['straddle_pnl'].count()"
   ]
  },
  {
   "cell_type": "code",
   "execution_count": 22,
   "metadata": {},
   "outputs": [
    {
     "data": {
      "text/plain": [
       "720.5208311693931"
      ]
     },
     "execution_count": 22,
     "metadata": {},
     "output_type": "execute_result"
    }
   ],
   "source": [
    "earnings_dates_for_tickers['straddle_pnl'].std()"
   ]
  },
  {
   "cell_type": "code",
   "execution_count": 30,
   "metadata": {},
   "outputs": [
    {
     "data": {
      "text/plain": [
       "Index(['Unnamed: 0', 'index', 'Short_ticker', 'Name', 'Ticker', 'Date',\n",
       "       'Event Type', 'Adjusted Trading Date', 'trade_entry', 'trade_exit',\n",
       "       'stock_price_entry', 'stock_price_exit', 'year_entry', 'year_exit',\n",
       "       'straddle_entry_mid', 'straddle_exit_mid', 'straddle_pnl',\n",
       "       'straddle_entry_bid', 'straddle_entry_offer', 'straddle_entry_gamma',\n",
       "       'straddle_entry_vega', 'straddle_entry_theta', 'straddle_entry_delta',\n",
       "       'straddle_entry_strike'],\n",
       "      dtype='object')"
      ]
     },
     "execution_count": 30,
     "metadata": {},
     "output_type": "execute_result"
    }
   ],
   "source": [
    "earnings_dates_for_tickers.columns"
   ]
  },
  {
   "cell_type": "code",
   "execution_count": 36,
   "metadata": {},
   "outputs": [
    {
     "data": {
      "text/plain": [
       "1423"
      ]
     },
     "execution_count": 36,
     "metadata": {},
     "output_type": "execute_result"
    }
   ],
   "source": [
    "earnings_dates_for_tickers[np.abs(earnings_dates_for_tickers['straddle_entry_strike']*0.001-earnings_dates_for_tickers['stock_price_entry'])/earnings_dates_for_tickers['stock_price_entry'] < 0.05]['straddle_pnl'].count()"
   ]
  },
  {
   "cell_type": "code",
   "execution_count": 42,
   "metadata": {},
   "outputs": [],
   "source": [
    "earnings_dates_for_tickers['skew_25'] = 4.4478*(earnings_dates_for_tickers['IV_25c']-earnings_dates_for_tickers['IV_25p'])/earnings_dates_for_tickers['IV_50c']"
   ]
  },
  {
   "cell_type": "code",
   "execution_count": 47,
   "metadata": {},
   "outputs": [
    {
     "data": {
      "text/plain": [
       "5594"
      ]
     },
     "execution_count": 47,
     "metadata": {},
     "output_type": "execute_result"
    }
   ],
   "source": [
    "earnings_dates_for_tickers['kurt_25'] = 52.7546*(0.5*(earnings_dates_for_tickers['IV_25c']+earnings_dates_for_tickers['IV_25p'])/earnings_dates_for_tickers['IV_50c'] - 1.0)\n",
    "earnings_dates_for_tickers['kurt_25'].count()"
   ]
  },
  {
   "cell_type": "code",
   "execution_count": 43,
   "metadata": {},
   "outputs": [
    {
     "data": {
      "text/plain": [
       "5594"
      ]
     },
     "execution_count": 43,
     "metadata": {},
     "output_type": "execute_result"
    }
   ],
   "source": [
    "earnings_dates_for_tickers['skew_25'].count()"
   ]
  },
  {
   "cell_type": "code",
   "execution_count": 44,
   "metadata": {},
   "outputs": [
    {
     "data": {
      "text/plain": [
       "3613"
      ]
     },
     "execution_count": 44,
     "metadata": {},
     "output_type": "execute_result"
    }
   ],
   "source": [
    "(earnings_dates_for_tickers[['straddle_pnl', 'skew_25']].notna().all(axis=1)).sum()"
   ]
  },
  {
   "cell_type": "code",
   "execution_count": 48,
   "metadata": {},
   "outputs": [
    {
     "data": {
      "text/plain": [
       "3613"
      ]
     },
     "execution_count": 48,
     "metadata": {},
     "output_type": "execute_result"
    }
   ],
   "source": [
    "(earnings_dates_for_tickers[['straddle_pnl', 'kurt_25']].notna().all(axis=1)).sum()"
   ]
  },
  {
   "cell_type": "code",
   "execution_count": 45,
   "metadata": {},
   "outputs": [
    {
     "name": "stdout",
     "output_type": "stream",
     "text": [
      "skew_25_decile\n",
      "(-20.905, -0.762]    45.359169\n",
      "(-0.762, -0.586]     22.012424\n",
      "(-0.586, -0.468]    -20.934392\n",
      "(-0.468, -0.368]     18.731875\n",
      "(-0.368, -0.272]     25.583620\n",
      "(-0.272, -0.171]    -32.543577\n",
      "(-0.171, -0.0677]    73.838410\n",
      "(-0.0677, 0.0608]    75.767279\n",
      "(0.0608, 0.263]     -20.306298\n",
      "(0.263, 11.769]     -52.400244\n",
      "Name: straddle_pnl, dtype: float64\n"
     ]
    }
   ],
   "source": [
    "num_quantiles = 10\n",
    "\n",
    "# Create deciles based on 'skew_25'\n",
    "earnings_dates_for_tickers['skew_25_decile'] = pd.qcut(earnings_dates_for_tickers['skew_25'], num_quantiles)\n",
    "\n",
    "# Calculate the mean 'straddle_pnl' for each decile\n",
    "mean_straddle_pnl_by_decile = earnings_dates_for_tickers.groupby('skew_25_decile')['straddle_pnl'].mean()\n",
    "\n",
    "print(mean_straddle_pnl_by_decile)"
   ]
  },
  {
   "cell_type": "code",
   "execution_count": 46,
   "metadata": {},
   "outputs": [
    {
     "data": {
      "text/plain": [
       "25.82727723211073"
      ]
     },
     "execution_count": 46,
     "metadata": {},
     "output_type": "execute_result"
    }
   ],
   "source": [
    "earnings_dates_for_tickers[earnings_dates_for_tickers['skew_25']<0.0608]['straddle_pnl'].mean()"
   ]
  },
  {
   "cell_type": "code",
   "execution_count": 49,
   "metadata": {},
   "outputs": [
    {
     "name": "stdout",
     "output_type": "stream",
     "text": [
      "kurt_25_decile\n",
      "(-27.842000000000002, -3.017]    28.220626\n",
      "(-3.017, -1.869]                -43.454418\n",
      "(-1.869, -1.159]                 14.486252\n",
      "(-1.159, -0.614]                -10.801209\n",
      "(-0.614, -0.0246]                16.087484\n",
      "(-0.0246, 0.593]                  8.004303\n",
      "(0.593, 1.279]                   -4.798380\n",
      "(1.279, 2.184]                   32.077277\n",
      "(2.184, 3.869]                   40.361388\n",
      "(3.869, 452.588]                 67.473452\n",
      "Name: straddle_pnl, dtype: float64\n"
     ]
    }
   ],
   "source": [
    "num_quantiles = 10\n",
    "\n",
    "# Create deciles based on 'skew_25'\n",
    "earnings_dates_for_tickers['kurt_25_decile'] = pd.qcut(earnings_dates_for_tickers['kurt_25'], num_quantiles)\n",
    "\n",
    "# Calculate the mean 'straddle_pnl' for each decile\n",
    "mean_straddle_pnl_by_kurt_decile = earnings_dates_for_tickers.groupby('kurt_25_decile')['straddle_pnl'].mean()\n",
    "\n",
    "print(mean_straddle_pnl_by_kurt_decile)"
   ]
  },
  {
   "cell_type": "code",
   "execution_count": 52,
   "metadata": {},
   "outputs": [
    {
     "name": "stdout",
     "output_type": "stream",
     "text": [
      "straddle_vol_decile\n",
      "(0.206, 0.501]   -69.254183\n",
      "(0.501, 0.621]     0.756881\n",
      "(0.621, 0.73]     23.058441\n",
      "(0.73, 0.849]     17.395843\n",
      "(0.849, 0.952]    43.000185\n",
      "(0.952, 1.104]    45.939242\n",
      "(1.104, 1.293]   -27.507660\n",
      "(1.293, 1.566]   -41.562691\n",
      "(1.566, 1.957]     2.208024\n",
      "(1.957, 2.982]    67.354911\n",
      "Name: straddle_pnl, dtype: float64\n"
     ]
    }
   ],
   "source": [
    "num_quantiles = 10\n",
    "\n",
    "# Create deciles based on 'skew_25'\n",
    "earnings_dates_for_tickers['straddle_vol_decile'] = pd.qcut(earnings_dates_for_tickers['straddle_entry_vol'], num_quantiles)\n",
    "\n",
    "# Calculate the mean 'straddle_pnl' for each decile\n",
    "mean_straddle_pnl_by_vol_decile = earnings_dates_for_tickers.groupby('straddle_vol_decile')['straddle_pnl'].mean()\n",
    "\n",
    "print(mean_straddle_pnl_by_vol_decile)"
   ]
  },
  {
   "cell_type": "code",
   "execution_count": 50,
   "metadata": {},
   "outputs": [
    {
     "data": {
      "text/plain": [
       "45.867461955398504"
      ]
     },
     "execution_count": 50,
     "metadata": {},
     "output_type": "execute_result"
    }
   ],
   "source": [
    "earnings_dates_for_tickers[earnings_dates_for_tickers['kurt_25']>=1.279]['straddle_pnl'].mean()"
   ]
  },
  {
   "cell_type": "code",
   "execution_count": 51,
   "metadata": {},
   "outputs": [],
   "source": [
    "earnings_dates_for_tickers.to_csv(\"results.csv\")"
   ]
  },
  {
   "cell_type": "code",
   "execution_count": null,
   "metadata": {},
   "outputs": [],
   "source": []
  }
 ],
 "metadata": {
  "kernelspec": {
   "display_name": "Python 3",
   "language": "python",
   "name": "python3"
  },
  "language_info": {
   "codemirror_mode": {
    "name": "ipython",
    "version": 3
   },
   "file_extension": ".py",
   "mimetype": "text/x-python",
   "name": "python",
   "nbconvert_exporter": "python",
   "pygments_lexer": "ipython3",
   "version": "3.10.11"
  }
 },
 "nbformat": 4,
 "nbformat_minor": 2
}
