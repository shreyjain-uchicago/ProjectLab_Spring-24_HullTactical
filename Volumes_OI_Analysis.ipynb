{
 "cells": [
  {
   "cell_type": "markdown",
   "id": "129f25b5",
   "metadata": {},
   "source": [
    "# Volumes and OI Data Exploration"
   ]
  },
  {
   "cell_type": "markdown",
   "id": "9dbf86c2",
   "metadata": {},
   "source": [
    "### Import libraries and Scripts for data"
   ]
  },
  {
   "cell_type": "code",
   "execution_count": 1,
   "id": "33aff1bc",
   "metadata": {},
   "outputs": [],
   "source": [
    "import os\n",
    "import datetime\n",
    "from datetime import timedelta\n",
    "import quandl\n",
    "import matplotlib.pyplot as plt\n",
    "\n",
    "import matplotlib.pyplot as plt\n",
    "import pandas as pd\n",
    "import numpy as np\n",
    "import scipy as sp\n",
    "import plotnine as p9\n",
    "from sklearn.preprocessing import MinMaxScaler\n",
    "from scipy.stats import zscore\n",
    "\n",
    "import warnings\n",
    "import functools\n",
    "import wrds\n",
    "# Ignore all warnings\n",
    "warnings.filterwarnings(\"ignore\")"
   ]
  },
  {
   "cell_type": "markdown",
   "id": "d0dca2a5",
   "metadata": {},
   "source": [
    "## Data Fetching for S&P Index and Options "
   ]
  },
  {
   "cell_type": "code",
   "execution_count": 3,
   "id": "c1427ea7",
   "metadata": {},
   "outputs": [
    {
     "name": "stdout",
     "output_type": "stream",
     "text": [
      "WRDS recommends setting up a .pgpass file.\n",
      "Created .pgpass file successfully.\n",
      "You can create this file yourself at any time with the create_pgpass_file() function.\n",
      "Loading library list...\n",
      "Done\n"
     ]
    }
   ],
   "source": [
    "db = wrds.Connection()"
   ]
  },
  {
   "cell_type": "code",
   "execution_count": 6,
   "id": "36d15b7a",
   "metadata": {},
   "outputs": [],
   "source": [
    "spx_options = {} \n",
    "for year in range(2010, 2024):  # Loop from 2001 to 2023\n",
    "    table_name = f\"optionm.opprcd{year}\"  # Generate table name dynamically\n",
    "    query = f\"\"\"\n",
    "    SELECT\n",
    "        date, symbol, cp_flag, volume, strike_price, exdate, open_interest, impl_volatility, best_bid, best_offer, delta, gamma, vega, theta\n",
    "    FROM \n",
    "        {table_name} a \n",
    "    WHERE\n",
    "        a.secid = '108105' AND\n",
    "        a.exdate - a.date <= 100 AND\n",
    "        a.exdate - a.date >= 10 AND \n",
    "        a.volume > 0 \n",
    "    \"\"\"\n",
    "    spx_options[year] = db.raw_sql(query, date_cols=['date'])"
   ]
  },
  {
   "cell_type": "code",
   "execution_count": 7,
   "id": "c3cc30be",
   "metadata": {},
   "outputs": [],
   "source": [
    "table_name = f\"crsp.dsp500\"  # Generate table name dynamically\n",
    "query = f\"\"\"\n",
    "SELECT\n",
    "    *\n",
    "FROM \n",
    "    {table_name} a \n",
    "WHERE\n",
    "    a.caldt >= '2000-01-01' AND\n",
    "    a.caldt <= '2023-12-31'\n",
    "\"\"\"\n",
    "sp500_underlying = db.raw_sql(query, date_cols=['date'])"
   ]
  },
  {
   "cell_type": "code",
   "execution_count": 6,
   "id": "60646741",
   "metadata": {},
   "outputs": [
    {
     "data": {
      "text/html": [
       "<div>\n",
       "<style scoped>\n",
       "    .dataframe tbody tr th:only-of-type {\n",
       "        vertical-align: middle;\n",
       "    }\n",
       "\n",
       "    .dataframe tbody tr th {\n",
       "        vertical-align: top;\n",
       "    }\n",
       "\n",
       "    .dataframe thead th {\n",
       "        text-align: right;\n",
       "    }\n",
       "</style>\n",
       "<table border=\"1\" class=\"dataframe\">\n",
       "  <thead>\n",
       "    <tr style=\"text-align: right;\">\n",
       "      <th></th>\n",
       "      <th>symbol</th>\n",
       "    </tr>\n",
       "  </thead>\n",
       "  <tbody>\n",
       "    <tr>\n",
       "      <th>0</th>\n",
       "      <td>DGRW 230818P62000</td>\n",
       "    </tr>\n",
       "    <tr>\n",
       "      <th>1</th>\n",
       "      <td>IWF 230519P315000</td>\n",
       "    </tr>\n",
       "    <tr>\n",
       "      <th>2</th>\n",
       "      <td>SP 230721C25000</td>\n",
       "    </tr>\n",
       "    <tr>\n",
       "      <th>3</th>\n",
       "      <td>STAR 230317P12500</td>\n",
       "    </tr>\n",
       "    <tr>\n",
       "      <th>4</th>\n",
       "      <td>MAX 230519P5000</td>\n",
       "    </tr>\n",
       "    <tr>\n",
       "      <th>...</th>\n",
       "      <td>...</td>\n",
       "    </tr>\n",
       "    <tr>\n",
       "      <th>350567</th>\n",
       "      <td>XOM 230721P130000</td>\n",
       "    </tr>\n",
       "    <tr>\n",
       "      <th>350568</th>\n",
       "      <td>HEWG 230818C24000</td>\n",
       "    </tr>\n",
       "    <tr>\n",
       "      <th>350569</th>\n",
       "      <td>KOLD 240119P16000</td>\n",
       "    </tr>\n",
       "    <tr>\n",
       "      <th>350570</th>\n",
       "      <td>EWZ 230406C35000</td>\n",
       "    </tr>\n",
       "    <tr>\n",
       "      <th>350571</th>\n",
       "      <td>URTH 230421C121000</td>\n",
       "    </tr>\n",
       "  </tbody>\n",
       "</table>\n",
       "<p>1350572 rows × 1 columns</p>\n",
       "</div>"
      ],
      "text/plain": [
       "                    symbol\n",
       "0        DGRW 230818P62000\n",
       "1        IWF 230519P315000\n",
       "2          SP 230721C25000\n",
       "3        STAR 230317P12500\n",
       "4          MAX 230519P5000\n",
       "...                    ...\n",
       "350567   XOM 230721P130000\n",
       "350568   HEWG 230818C24000\n",
       "350569   KOLD 240119P16000\n",
       "350570    EWZ 230406C35000\n",
       "350571  URTH 230421C121000\n",
       "\n",
       "[1350572 rows x 1 columns]"
      ]
     },
     "execution_count": 6,
     "metadata": {},
     "output_type": "execute_result"
    }
   ],
   "source": [
    "specific_date = '2023-02-27'\n",
    "table_name = f\"optionm.opprcd{2023}\"  # Generate table name dynamically\n",
    "query = f\"\"\"\n",
    "SELECT\n",
    "    DISTINCT symbol\n",
    "FROM \n",
    "    {table_name} a \n",
    "WHERE\n",
    "    a.date = '{specific_date}'\n",
    "\"\"\"\n",
    "df1 = db.raw_sql(query, date_cols=['date'])\n",
    "\n",
    "df1"
   ]
  },
  {
   "cell_type": "code",
   "execution_count": 9,
   "id": "87a55f54",
   "metadata": {},
   "outputs": [
    {
     "data": {
      "text/plain": [
       "array(['DGRW', 'IWF', 'SP', ..., 'TUEM1', 'ONCS1', 'UTY'], dtype=object)"
      ]
     },
     "execution_count": 9,
     "metadata": {},
     "output_type": "execute_result"
    }
   ],
   "source": [
    "df1['Split'] = df1['symbol'].str.split(' ').str[0]\n",
    "df1['Split'].unique()"
   ]
  },
  {
   "cell_type": "code",
   "execution_count": 10,
   "id": "e540e6b5",
   "metadata": {},
   "outputs": [
    {
     "data": {
      "text/plain": [
       "6031"
      ]
     },
     "execution_count": 10,
     "metadata": {},
     "output_type": "execute_result"
    }
   ],
   "source": [
    "len(df1['Split'].unique())"
   ]
  },
  {
   "cell_type": "code",
   "execution_count": 12,
   "id": "e6e21efd",
   "metadata": {},
   "outputs": [],
   "source": [
    "pd.DataFrame(df1['Split'].unique()).to_csv('Tickers_optionm.csv')"
   ]
  },
  {
   "cell_type": "code",
   "execution_count": null,
   "id": "9a539a25",
   "metadata": {},
   "outputs": [],
   "source": []
  }
 ],
 "metadata": {
  "kernelspec": {
   "display_name": "Python 3 (ipykernel)",
   "language": "python",
   "name": "python3"
  },
  "language_info": {
   "codemirror_mode": {
    "name": "ipython",
    "version": 3
   },
   "file_extension": ".py",
   "mimetype": "text/x-python",
   "name": "python",
   "nbconvert_exporter": "python",
   "pygments_lexer": "ipython3",
   "version": "3.11.8"
  }
 },
 "nbformat": 4,
 "nbformat_minor": 5
}
