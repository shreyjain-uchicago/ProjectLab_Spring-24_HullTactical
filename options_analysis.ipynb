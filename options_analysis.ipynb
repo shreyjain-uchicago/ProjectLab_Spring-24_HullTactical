{
 "cells": [
  {
   "cell_type": "code",
   "execution_count": 1,
   "metadata": {},
   "outputs": [],
   "source": [
    "import os\n",
    "import datetime\n",
    "from datetime import timedelta\n",
    "import quandl\n",
    "import matplotlib.pyplot as plt\n",
    "\n",
    "import matplotlib.pyplot as plt\n",
    "import pandas as pd\n",
    "import numpy as np\n",
    "import scipy as sp\n",
    "import plotnine as p9\n",
    "from sklearn.preprocessing import MinMaxScaler\n",
    "from scipy.stats import zscore\n",
    "import pandas_market_calendars as mcal\n",
    "\n",
    "\n",
    "import warnings\n",
    "import functools\n",
    "import wrds\n",
    "import sys\n",
    "# Ignore all warnings\n",
    "warnings.filterwarnings(\"ignore\")\n",
    "from scipy.stats import linregress\n"
   ]
  },
  {
   "cell_type": "code",
   "execution_count": 3,
   "metadata": {},
   "outputs": [
    {
     "name": "stdout",
     "output_type": "stream",
     "text": [
      "WRDS recommends setting up a .pgpass file.\n",
      "Created .pgpass file successfully.\n",
      "You can create this file yourself at any time with the create_pgpass_file() function.\n",
      "Loading library list...\n",
      "Done\n"
     ]
    }
   ],
   "source": [
    "db = wrds.Connection()\n"
   ]
  },
  {
   "cell_type": "code",
   "execution_count": null,
   "metadata": {},
   "outputs": [
    {
     "data": {
      "text/html": [
       "<div>\n",
       "<style scoped>\n",
       "    .dataframe tbody tr th:only-of-type {\n",
       "        vertical-align: middle;\n",
       "    }\n",
       "\n",
       "    .dataframe tbody tr th {\n",
       "        vertical-align: top;\n",
       "    }\n",
       "\n",
       "    .dataframe thead th {\n",
       "        text-align: right;\n",
       "    }\n",
       "</style>\n",
       "<table border=\"1\" class=\"dataframe\">\n",
       "  <thead>\n",
       "    <tr style=\"text-align: right;\">\n",
       "      <th></th>\n",
       "      <th>Unnamed: 0.1</th>\n",
       "      <th>Unnamed: 0</th>\n",
       "      <th>index</th>\n",
       "      <th>Short_ticker</th>\n",
       "      <th>Name</th>\n",
       "      <th>Ticker</th>\n",
       "      <th>Date</th>\n",
       "      <th>Event Type</th>\n",
       "      <th>Adjusted Trading Date</th>\n",
       "      <th>trade_entry</th>\n",
       "      <th>...</th>\n",
       "      <th>straddle_entry_strike</th>\n",
       "      <th>IV_25c</th>\n",
       "      <th>IV_25p</th>\n",
       "      <th>IV_10c</th>\n",
       "      <th>IV_10p</th>\n",
       "      <th>IV_50c</th>\n",
       "      <th>skew_25</th>\n",
       "      <th>skew_25_decile</th>\n",
       "      <th>kurt_25</th>\n",
       "      <th>kurt_25_decile</th>\n",
       "    </tr>\n",
       "  </thead>\n",
       "  <tbody>\n",
       "    <tr>\n",
       "      <th>0</th>\n",
       "      <td>0</td>\n",
       "      <td>0</td>\n",
       "      <td>396</td>\n",
       "      <td>A</td>\n",
       "      <td>Agilent Technologies Inc</td>\n",
       "      <td>A US</td>\n",
       "      <td>2018-02-14 16:05:00</td>\n",
       "      <td>ER</td>\n",
       "      <td>2018-02-15 00:00:00+00:00</td>\n",
       "      <td>2018-02-14</td>\n",
       "      <td>...</td>\n",
       "      <td>70000.0</td>\n",
       "      <td>NaN</td>\n",
       "      <td>0.594952</td>\n",
       "      <td>NaN</td>\n",
       "      <td>0.593143</td>\n",
       "      <td>0.577625</td>\n",
       "      <td>NaN</td>\n",
       "      <td>NaN</td>\n",
       "      <td>NaN</td>\n",
       "      <td>NaN</td>\n",
       "    </tr>\n",
       "    <tr>\n",
       "      <th>1</th>\n",
       "      <td>1</td>\n",
       "      <td>1</td>\n",
       "      <td>1298</td>\n",
       "      <td>A</td>\n",
       "      <td>Agilent Technologies Inc</td>\n",
       "      <td>A US</td>\n",
       "      <td>2018-05-14 16:05:00</td>\n",
       "      <td>ER</td>\n",
       "      <td>2018-05-15 00:00:00+00:00</td>\n",
       "      <td>2018-05-14</td>\n",
       "      <td>...</td>\n",
       "      <td>NaN</td>\n",
       "      <td>0.532359</td>\n",
       "      <td>NaN</td>\n",
       "      <td>NaN</td>\n",
       "      <td>0.625772</td>\n",
       "      <td>0.570963</td>\n",
       "      <td>NaN</td>\n",
       "      <td>NaN</td>\n",
       "      <td>NaN</td>\n",
       "      <td>NaN</td>\n",
       "    </tr>\n",
       "    <tr>\n",
       "      <th>2</th>\n",
       "      <td>2</td>\n",
       "      <td>2</td>\n",
       "      <td>2023</td>\n",
       "      <td>A</td>\n",
       "      <td>Agilent Technologies Inc</td>\n",
       "      <td>A US</td>\n",
       "      <td>2018-08-14 16:05:00</td>\n",
       "      <td>ER</td>\n",
       "      <td>2018-08-15 00:00:00+00:00</td>\n",
       "      <td>2018-08-14</td>\n",
       "      <td>...</td>\n",
       "      <td>67500.0</td>\n",
       "      <td>0.841737</td>\n",
       "      <td>0.995516</td>\n",
       "      <td>0.956398</td>\n",
       "      <td>0.948521</td>\n",
       "      <td>0.948011</td>\n",
       "      <td>-0.721488</td>\n",
       "      <td>(-0.762, -0.586]</td>\n",
       "      <td>-1.635179</td>\n",
       "      <td>(-1.869, -1.159]</td>\n",
       "    </tr>\n",
       "    <tr>\n",
       "      <th>3</th>\n",
       "      <td>3</td>\n",
       "      <td>3</td>\n",
       "      <td>2754</td>\n",
       "      <td>A</td>\n",
       "      <td>Agilent Technologies Inc</td>\n",
       "      <td>A US</td>\n",
       "      <td>2018-11-19 16:05:00</td>\n",
       "      <td>ER</td>\n",
       "      <td>2018-11-20 00:00:00+00:00</td>\n",
       "      <td>2018-11-19</td>\n",
       "      <td>...</td>\n",
       "      <td>NaN</td>\n",
       "      <td>NaN</td>\n",
       "      <td>NaN</td>\n",
       "      <td>NaN</td>\n",
       "      <td>NaN</td>\n",
       "      <td>NaN</td>\n",
       "      <td>NaN</td>\n",
       "      <td>NaN</td>\n",
       "      <td>NaN</td>\n",
       "      <td>NaN</td>\n",
       "    </tr>\n",
       "    <tr>\n",
       "      <th>4</th>\n",
       "      <td>4</td>\n",
       "      <td>4</td>\n",
       "      <td>3297</td>\n",
       "      <td>A</td>\n",
       "      <td>Agilent Technologies Inc</td>\n",
       "      <td>A US</td>\n",
       "      <td>2019-02-20 16:05:00</td>\n",
       "      <td>ER</td>\n",
       "      <td>2019-02-21 00:00:00+00:00</td>\n",
       "      <td>2019-02-20</td>\n",
       "      <td>...</td>\n",
       "      <td>NaN</td>\n",
       "      <td>NaN</td>\n",
       "      <td>NaN</td>\n",
       "      <td>NaN</td>\n",
       "      <td>NaN</td>\n",
       "      <td>NaN</td>\n",
       "      <td>NaN</td>\n",
       "      <td>NaN</td>\n",
       "      <td>NaN</td>\n",
       "      <td>NaN</td>\n",
       "    </tr>\n",
       "    <tr>\n",
       "      <th>...</th>\n",
       "      <td>...</td>\n",
       "      <td>...</td>\n",
       "      <td>...</td>\n",
       "      <td>...</td>\n",
       "      <td>...</td>\n",
       "      <td>...</td>\n",
       "      <td>...</td>\n",
       "      <td>...</td>\n",
       "      <td>...</td>\n",
       "      <td>...</td>\n",
       "      <td>...</td>\n",
       "      <td>...</td>\n",
       "      <td>...</td>\n",
       "      <td>...</td>\n",
       "      <td>...</td>\n",
       "      <td>...</td>\n",
       "      <td>...</td>\n",
       "      <td>...</td>\n",
       "      <td>...</td>\n",
       "      <td>...</td>\n",
       "      <td>...</td>\n",
       "    </tr>\n",
       "    <tr>\n",
       "      <th>19471</th>\n",
       "      <td>19471</td>\n",
       "      <td>19471</td>\n",
       "      <td>15969</td>\n",
       "      <td>ZTS</td>\n",
       "      <td>Zoetis Inc</td>\n",
       "      <td>ZTS US</td>\n",
       "      <td>2023-02-14 07:00:00</td>\n",
       "      <td>ER</td>\n",
       "      <td>2023-02-13 00:00:00+00:00</td>\n",
       "      <td>2023-02-13</td>\n",
       "      <td>...</td>\n",
       "      <td>NaN</td>\n",
       "      <td>NaN</td>\n",
       "      <td>NaN</td>\n",
       "      <td>0.516541</td>\n",
       "      <td>0.689797</td>\n",
       "      <td>0.461846</td>\n",
       "      <td>NaN</td>\n",
       "      <td>NaN</td>\n",
       "      <td>NaN</td>\n",
       "      <td>NaN</td>\n",
       "    </tr>\n",
       "    <tr>\n",
       "      <th>19472</th>\n",
       "      <td>19472</td>\n",
       "      <td>19472</td>\n",
       "      <td>16912</td>\n",
       "      <td>ZTS</td>\n",
       "      <td>Zoetis Inc</td>\n",
       "      <td>ZTS US</td>\n",
       "      <td>2023-05-04 07:00:00</td>\n",
       "      <td>ER</td>\n",
       "      <td>2023-05-03 00:00:00+00:00</td>\n",
       "      <td>2023-05-03</td>\n",
       "      <td>...</td>\n",
       "      <td>NaN</td>\n",
       "      <td>NaN</td>\n",
       "      <td>NaN</td>\n",
       "      <td>NaN</td>\n",
       "      <td>NaN</td>\n",
       "      <td>NaN</td>\n",
       "      <td>NaN</td>\n",
       "      <td>NaN</td>\n",
       "      <td>NaN</td>\n",
       "      <td>NaN</td>\n",
       "    </tr>\n",
       "    <tr>\n",
       "      <th>19473</th>\n",
       "      <td>19473</td>\n",
       "      <td>19473</td>\n",
       "      <td>17936</td>\n",
       "      <td>ZTS</td>\n",
       "      <td>Zoetis Inc</td>\n",
       "      <td>ZTS US</td>\n",
       "      <td>2023-08-08 07:00:00</td>\n",
       "      <td>ER</td>\n",
       "      <td>2023-08-07 00:00:00+00:00</td>\n",
       "      <td>2023-08-07</td>\n",
       "      <td>...</td>\n",
       "      <td>NaN</td>\n",
       "      <td>NaN</td>\n",
       "      <td>NaN</td>\n",
       "      <td>NaN</td>\n",
       "      <td>NaN</td>\n",
       "      <td>NaN</td>\n",
       "      <td>NaN</td>\n",
       "      <td>NaN</td>\n",
       "      <td>NaN</td>\n",
       "      <td>NaN</td>\n",
       "    </tr>\n",
       "    <tr>\n",
       "      <th>19474</th>\n",
       "      <td>19474</td>\n",
       "      <td>19474</td>\n",
       "      <td>18652</td>\n",
       "      <td>ZTS</td>\n",
       "      <td>Zoetis Inc</td>\n",
       "      <td>ZTS US</td>\n",
       "      <td>2023-11-02 07:00:00</td>\n",
       "      <td>ER</td>\n",
       "      <td>2023-11-01 00:00:00+00:00</td>\n",
       "      <td>2023-11-01</td>\n",
       "      <td>...</td>\n",
       "      <td>NaN</td>\n",
       "      <td>NaN</td>\n",
       "      <td>NaN</td>\n",
       "      <td>NaN</td>\n",
       "      <td>NaN</td>\n",
       "      <td>NaN</td>\n",
       "      <td>NaN</td>\n",
       "      <td>NaN</td>\n",
       "      <td>NaN</td>\n",
       "      <td>NaN</td>\n",
       "    </tr>\n",
       "    <tr>\n",
       "      <th>19475</th>\n",
       "      <td>19475</td>\n",
       "      <td>19475</td>\n",
       "      <td>19471</td>\n",
       "      <td>ZTS</td>\n",
       "      <td>Zoetis Inc</td>\n",
       "      <td>ZTS US</td>\n",
       "      <td>2024-02-13 07:00:00</td>\n",
       "      <td>ER</td>\n",
       "      <td>2024-02-12 00:00:00+00:00</td>\n",
       "      <td>2024-02-12</td>\n",
       "      <td>...</td>\n",
       "      <td>NaN</td>\n",
       "      <td>NaN</td>\n",
       "      <td>NaN</td>\n",
       "      <td>NaN</td>\n",
       "      <td>NaN</td>\n",
       "      <td>NaN</td>\n",
       "      <td>NaN</td>\n",
       "      <td>NaN</td>\n",
       "      <td>NaN</td>\n",
       "      <td>NaN</td>\n",
       "    </tr>\n",
       "  </tbody>\n",
       "</table>\n",
       "<p>19476 rows × 35 columns</p>\n",
       "</div>"
      ],
      "text/plain": [
       "       Unnamed: 0.1  Unnamed: 0  index Short_ticker                      Name  \\\n",
       "0                 0           0    396            A  Agilent Technologies Inc   \n",
       "1                 1           1   1298            A  Agilent Technologies Inc   \n",
       "2                 2           2   2023            A  Agilent Technologies Inc   \n",
       "3                 3           3   2754            A  Agilent Technologies Inc   \n",
       "4                 4           4   3297            A  Agilent Technologies Inc   \n",
       "...             ...         ...    ...          ...                       ...   \n",
       "19471         19471       19471  15969          ZTS                Zoetis Inc   \n",
       "19472         19472       19472  16912          ZTS                Zoetis Inc   \n",
       "19473         19473       19473  17936          ZTS                Zoetis Inc   \n",
       "19474         19474       19474  18652          ZTS                Zoetis Inc   \n",
       "19475         19475       19475  19471          ZTS                Zoetis Inc   \n",
       "\n",
       "       Ticker                 Date Event Type      Adjusted Trading Date  \\\n",
       "0        A US  2018-02-14 16:05:00         ER  2018-02-15 00:00:00+00:00   \n",
       "1        A US  2018-05-14 16:05:00         ER  2018-05-15 00:00:00+00:00   \n",
       "2        A US  2018-08-14 16:05:00         ER  2018-08-15 00:00:00+00:00   \n",
       "3        A US  2018-11-19 16:05:00         ER  2018-11-20 00:00:00+00:00   \n",
       "4        A US  2019-02-20 16:05:00         ER  2019-02-21 00:00:00+00:00   \n",
       "...       ...                  ...        ...                        ...   \n",
       "19471  ZTS US  2023-02-14 07:00:00         ER  2023-02-13 00:00:00+00:00   \n",
       "19472  ZTS US  2023-05-04 07:00:00         ER  2023-05-03 00:00:00+00:00   \n",
       "19473  ZTS US  2023-08-08 07:00:00         ER  2023-08-07 00:00:00+00:00   \n",
       "19474  ZTS US  2023-11-02 07:00:00         ER  2023-11-01 00:00:00+00:00   \n",
       "19475  ZTS US  2024-02-13 07:00:00         ER  2024-02-12 00:00:00+00:00   \n",
       "\n",
       "      trade_entry  ... straddle_entry_strike    IV_25c    IV_25p    IV_10c  \\\n",
       "0      2018-02-14  ...               70000.0       NaN  0.594952       NaN   \n",
       "1      2018-05-14  ...                   NaN  0.532359       NaN       NaN   \n",
       "2      2018-08-14  ...               67500.0  0.841737  0.995516  0.956398   \n",
       "3      2018-11-19  ...                   NaN       NaN       NaN       NaN   \n",
       "4      2019-02-20  ...                   NaN       NaN       NaN       NaN   \n",
       "...           ...  ...                   ...       ...       ...       ...   \n",
       "19471  2023-02-13  ...                   NaN       NaN       NaN  0.516541   \n",
       "19472  2023-05-03  ...                   NaN       NaN       NaN       NaN   \n",
       "19473  2023-08-07  ...                   NaN       NaN       NaN       NaN   \n",
       "19474  2023-11-01  ...                   NaN       NaN       NaN       NaN   \n",
       "19475  2024-02-12  ...                   NaN       NaN       NaN       NaN   \n",
       "\n",
       "         IV_10p    IV_50c   skew_25    skew_25_decile   kurt_25  \\\n",
       "0      0.593143  0.577625       NaN               NaN       NaN   \n",
       "1      0.625772  0.570963       NaN               NaN       NaN   \n",
       "2      0.948521  0.948011 -0.721488  (-0.762, -0.586] -1.635179   \n",
       "3           NaN       NaN       NaN               NaN       NaN   \n",
       "4           NaN       NaN       NaN               NaN       NaN   \n",
       "...         ...       ...       ...               ...       ...   \n",
       "19471  0.689797  0.461846       NaN               NaN       NaN   \n",
       "19472       NaN       NaN       NaN               NaN       NaN   \n",
       "19473       NaN       NaN       NaN               NaN       NaN   \n",
       "19474       NaN       NaN       NaN               NaN       NaN   \n",
       "19475       NaN       NaN       NaN               NaN       NaN   \n",
       "\n",
       "         kurt_25_decile  \n",
       "0                   NaN  \n",
       "1                   NaN  \n",
       "2      (-1.869, -1.159]  \n",
       "3                   NaN  \n",
       "4                   NaN  \n",
       "...                 ...  \n",
       "19471               NaN  \n",
       "19472               NaN  \n",
       "19473               NaN  \n",
       "19474               NaN  \n",
       "19475               NaN  \n",
       "\n",
       "[19476 rows x 35 columns]"
      ]
     },
     "execution_count": 16,
     "metadata": {},
     "output_type": "execute_result"
    }
   ],
   "source": [
    "earnings_dates_for_tickers = pd.read_csv(\"results.csv\")\n",
    "earnings_dates_for_tickers"
   ]
  },
  {
   "cell_type": "code",
   "execution_count": 4,
   "metadata": {},
   "outputs": [
    {
     "data": {
      "text/plain": [
       "array([101149., 205456., 210354., ..., 211262., 207854., 105959.])"
      ]
     },
     "execution_count": 4,
     "metadata": {},
     "output_type": "execute_result"
    }
   ],
   "source": [
    "csv_file_path = \"secids.csv\"\n",
    "\n",
    "# Reading the CSV file into a NumPy array\n",
    "secids = np.genfromtxt(csv_file_path, delimiter=',')\n",
    "secids"
   ]
  },
  {
   "cell_type": "code",
   "execution_count": 5,
   "metadata": {},
   "outputs": [
    {
     "name": "stdout",
     "output_type": "stream",
     "text": [
      "2017\n"
     ]
    }
   ],
   "source": [
    "options_dict = {} \n",
    "for year in range(2017, 2024):\n",
    "    print(year)\n",
    "    table_name = f\"optionm.opprcd{year}\"  # Generate table name dynamically\n",
    "    query = f\"\"\"\n",
    "    SELECT\n",
    "        date, secid, symbol, cp_flag, expiry_indicator, volume, strike_price, exdate, open_interest, impl_volatility, best_bid, best_offer, delta, gamma, vega, theta\n",
    "    FROM \n",
    "        {table_name} a \n",
    "    WHERE\n",
    "        a.secid IN ({','.join(map(str, secids))}) AND\n",
    "        a.volume > 0 AND\n",
    "        a.exdate - a.date <= 38\n",
    "    \"\"\"\n",
    "    options_dict[year] = db.raw_sql(query, date_cols=['date'])"
   ]
  },
  {
   "cell_type": "code",
   "execution_count": 2,
   "metadata": {},
   "outputs": [],
   "source": [
    "options_dict = {}\n",
    "options_dict[2017] = pd.read_parquet(\"Options2017.parquet\")"
   ]
  },
  {
   "cell_type": "code",
   "execution_count": 8,
   "metadata": {},
   "outputs": [
    {
     "data": {
      "text/plain": [
       "('FTS1', Timestamp('2017-02-15 00:00:00'), datetime.date(2017, 2, 17))"
      ]
     },
     "execution_count": 8,
     "metadata": {},
     "output_type": "execute_result"
    }
   ],
   "source": [
    "for year in range()"
   ]
  },
  {
   "cell_type": "code",
   "execution_count": null,
   "metadata": {},
   "outputs": [],
   "source": [
    "options_dict[2017].to_parquet(\"Options2017.parquet\")"
   ]
  },
  {
   "cell_type": "code",
   "execution_count": null,
   "metadata": {},
   "outputs": [],
   "source": [
    "for year in range(2018,2024):\n",
    "    options_dict[year].to_parquet(\"Options\"+str(year)+\".parquet\")"
   ]
  },
  {
   "cell_type": "code",
   "execution_count": null,
   "metadata": {},
   "outputs": [
    {
     "data": {
      "text/plain": [
       "{}"
      ]
     },
     "execution_count": 8,
     "metadata": {},
     "output_type": "execute_result"
    }
   ],
   "source": [
    "options_dict"
   ]
  },
  {
   "cell_type": "code",
   "execution_count": null,
   "metadata": {},
   "outputs": [],
   "source": [
    "for year in range(2017, 2024):\n",
    "    # Get the DataFrame for the current year\n",
    "    options = options_dict[year]\n",
    "    \n",
    "    # Split the 'symbol' column and extract the first substring as 'ticker'\n",
    "    options['ticker'] = options['symbol'].str.split(' ').str[0]\n",
    "    \n",
    "    # Set the multi-index using 'date' and 'ticker'\n",
    "    options.set_index(['ticker','date','exdate'], inplace=True)\n",
    "    \n",
    "    # Update the options_dict with the modified DataFrame\n",
    "    options_dict[year] = options"
   ]
  },
  {
   "cell_type": "code",
   "execution_count": null,
   "metadata": {},
   "outputs": [
    {
     "data": {
      "text/html": [
       "<div>\n",
       "<style scoped>\n",
       "    .dataframe tbody tr th:only-of-type {\n",
       "        vertical-align: middle;\n",
       "    }\n",
       "\n",
       "    .dataframe tbody tr th {\n",
       "        vertical-align: top;\n",
       "    }\n",
       "\n",
       "    .dataframe thead th {\n",
       "        text-align: right;\n",
       "    }\n",
       "</style>\n",
       "<table border=\"1\" class=\"dataframe\">\n",
       "  <thead>\n",
       "    <tr style=\"text-align: right;\">\n",
       "      <th></th>\n",
       "      <th>date</th>\n",
       "      <th>permno</th>\n",
       "      <th>prc</th>\n",
       "      <th>bid</th>\n",
       "      <th>ask</th>\n",
       "      <th>ticker</th>\n",
       "      <th>comnam</th>\n",
       "      <th>permco</th>\n",
       "    </tr>\n",
       "  </thead>\n",
       "  <tbody>\n",
       "    <tr>\n",
       "      <th>0</th>\n",
       "      <td>2018-02-07</td>\n",
       "      <td>87432</td>\n",
       "      <td>68.06</td>\n",
       "      <td>68.06000</td>\n",
       "      <td>68.07000</td>\n",
       "      <td>A</td>\n",
       "      <td>AGILENT TECHNOLOGIES INC</td>\n",
       "      <td>36364.0</td>\n",
       "    </tr>\n",
       "    <tr>\n",
       "      <th>1</th>\n",
       "      <td>2018-02-08</td>\n",
       "      <td>87432</td>\n",
       "      <td>65.05</td>\n",
       "      <td>65.03000</td>\n",
       "      <td>65.05000</td>\n",
       "      <td>A</td>\n",
       "      <td>AGILENT TECHNOLOGIES INC</td>\n",
       "      <td>36364.0</td>\n",
       "    </tr>\n",
       "    <tr>\n",
       "      <th>2</th>\n",
       "      <td>2018-02-09</td>\n",
       "      <td>87432</td>\n",
       "      <td>66.98</td>\n",
       "      <td>66.97000</td>\n",
       "      <td>66.98000</td>\n",
       "      <td>A</td>\n",
       "      <td>AGILENT TECHNOLOGIES INC</td>\n",
       "      <td>36364.0</td>\n",
       "    </tr>\n",
       "    <tr>\n",
       "      <th>3</th>\n",
       "      <td>2018-02-12</td>\n",
       "      <td>87432</td>\n",
       "      <td>68.43</td>\n",
       "      <td>68.40000</td>\n",
       "      <td>68.41000</td>\n",
       "      <td>A</td>\n",
       "      <td>AGILENT TECHNOLOGIES INC</td>\n",
       "      <td>36364.0</td>\n",
       "    </tr>\n",
       "    <tr>\n",
       "      <th>4</th>\n",
       "      <td>2018-02-13</td>\n",
       "      <td>87432</td>\n",
       "      <td>68.34</td>\n",
       "      <td>68.33000</td>\n",
       "      <td>68.34000</td>\n",
       "      <td>A</td>\n",
       "      <td>AGILENT TECHNOLOGIES INC</td>\n",
       "      <td>36364.0</td>\n",
       "    </tr>\n",
       "    <tr>\n",
       "      <th>...</th>\n",
       "      <td>...</td>\n",
       "      <td>...</td>\n",
       "      <td>...</td>\n",
       "      <td>...</td>\n",
       "      <td>...</td>\n",
       "      <td>...</td>\n",
       "      <td>...</td>\n",
       "      <td>...</td>\n",
       "    </tr>\n",
       "    <tr>\n",
       "      <th>147109</th>\n",
       "      <td>2023-11-03</td>\n",
       "      <td>13788</td>\n",
       "      <td>162.23</td>\n",
       "      <td>162.19000</td>\n",
       "      <td>162.23000</td>\n",
       "      <td>ZTS</td>\n",
       "      <td>ZOETIS INC</td>\n",
       "      <td>54327.0</td>\n",
       "    </tr>\n",
       "    <tr>\n",
       "      <th>147110</th>\n",
       "      <td>2023-11-06</td>\n",
       "      <td>13788</td>\n",
       "      <td>163.17</td>\n",
       "      <td>163.20000</td>\n",
       "      <td>163.27000</td>\n",
       "      <td>ZTS</td>\n",
       "      <td>ZOETIS INC</td>\n",
       "      <td>54327.0</td>\n",
       "    </tr>\n",
       "    <tr>\n",
       "      <th>147111</th>\n",
       "      <td>2023-11-07</td>\n",
       "      <td>13788</td>\n",
       "      <td>167.16</td>\n",
       "      <td>167.24001</td>\n",
       "      <td>167.28000</td>\n",
       "      <td>ZTS</td>\n",
       "      <td>ZOETIS INC</td>\n",
       "      <td>54327.0</td>\n",
       "    </tr>\n",
       "    <tr>\n",
       "      <th>147112</th>\n",
       "      <td>2023-11-08</td>\n",
       "      <td>13788</td>\n",
       "      <td>170.87</td>\n",
       "      <td>170.89000</td>\n",
       "      <td>170.92999</td>\n",
       "      <td>ZTS</td>\n",
       "      <td>ZOETIS INC</td>\n",
       "      <td>54327.0</td>\n",
       "    </tr>\n",
       "    <tr>\n",
       "      <th>147113</th>\n",
       "      <td>2023-11-09</td>\n",
       "      <td>13788</td>\n",
       "      <td>170.63</td>\n",
       "      <td>170.71001</td>\n",
       "      <td>170.72000</td>\n",
       "      <td>ZTS</td>\n",
       "      <td>ZOETIS INC</td>\n",
       "      <td>54327.0</td>\n",
       "    </tr>\n",
       "  </tbody>\n",
       "</table>\n",
       "<p>147114 rows × 8 columns</p>\n",
       "</div>"
      ],
      "text/plain": [
       "             date  permno     prc        bid        ask ticker  \\\n",
       "0      2018-02-07   87432   68.06   68.06000   68.07000      A   \n",
       "1      2018-02-08   87432   65.05   65.03000   65.05000      A   \n",
       "2      2018-02-09   87432   66.98   66.97000   66.98000      A   \n",
       "3      2018-02-12   87432   68.43   68.40000   68.41000      A   \n",
       "4      2018-02-13   87432   68.34   68.33000   68.34000      A   \n",
       "...           ...     ...     ...        ...        ...    ...   \n",
       "147109 2023-11-03   13788  162.23  162.19000  162.23000    ZTS   \n",
       "147110 2023-11-06   13788  163.17  163.20000  163.27000    ZTS   \n",
       "147111 2023-11-07   13788  167.16  167.24001  167.28000    ZTS   \n",
       "147112 2023-11-08   13788  170.87  170.89000  170.92999    ZTS   \n",
       "147113 2023-11-09   13788  170.63  170.71001  170.72000    ZTS   \n",
       "\n",
       "                          comnam   permco  \n",
       "0       AGILENT TECHNOLOGIES INC  36364.0  \n",
       "1       AGILENT TECHNOLOGIES INC  36364.0  \n",
       "2       AGILENT TECHNOLOGIES INC  36364.0  \n",
       "3       AGILENT TECHNOLOGIES INC  36364.0  \n",
       "4       AGILENT TECHNOLOGIES INC  36364.0  \n",
       "...                          ...      ...  \n",
       "147109                ZOETIS INC  54327.0  \n",
       "147110                ZOETIS INC  54327.0  \n",
       "147111                ZOETIS INC  54327.0  \n",
       "147112                ZOETIS INC  54327.0  \n",
       "147113                ZOETIS INC  54327.0  \n",
       "\n",
       "[147114 rows x 8 columns]"
      ]
     },
     "execution_count": 17,
     "metadata": {},
     "output_type": "execute_result"
    }
   ],
   "source": [
    "stock_prices = pd.read_parquet(\"stock_price_ED_20182023.parquet\")\n",
    "stock_prices"
   ]
  },
  {
   "cell_type": "code",
   "execution_count": null,
   "metadata": {},
   "outputs": [
    {
     "data": {
      "text/html": [
       "<div>\n",
       "<style scoped>\n",
       "    .dataframe tbody tr th:only-of-type {\n",
       "        vertical-align: middle;\n",
       "    }\n",
       "\n",
       "    .dataframe tbody tr th {\n",
       "        vertical-align: top;\n",
       "    }\n",
       "\n",
       "    .dataframe thead th {\n",
       "        text-align: right;\n",
       "    }\n",
       "</style>\n",
       "<table border=\"1\" class=\"dataframe\">\n",
       "  <thead>\n",
       "    <tr style=\"text-align: right;\">\n",
       "      <th></th>\n",
       "      <th>Unnamed: 0.1</th>\n",
       "      <th>Unnamed: 0</th>\n",
       "      <th>index</th>\n",
       "      <th>Short_ticker</th>\n",
       "      <th>Name</th>\n",
       "      <th>Ticker</th>\n",
       "      <th>Date</th>\n",
       "      <th>Event Type</th>\n",
       "      <th>Adjusted Trading Date</th>\n",
       "      <th>trade_entry</th>\n",
       "      <th>...</th>\n",
       "      <th>straddle_entry_strike</th>\n",
       "      <th>IV_25c</th>\n",
       "      <th>IV_25p</th>\n",
       "      <th>IV_10c</th>\n",
       "      <th>IV_10p</th>\n",
       "      <th>IV_50c</th>\n",
       "      <th>skew_25</th>\n",
       "      <th>skew_25_decile</th>\n",
       "      <th>kurt_25</th>\n",
       "      <th>kurt_25_decile</th>\n",
       "    </tr>\n",
       "  </thead>\n",
       "  <tbody>\n",
       "    <tr>\n",
       "      <th>0</th>\n",
       "      <td>0</td>\n",
       "      <td>0</td>\n",
       "      <td>396</td>\n",
       "      <td>A</td>\n",
       "      <td>Agilent Technologies Inc</td>\n",
       "      <td>A US</td>\n",
       "      <td>2018-02-14 16:05:00</td>\n",
       "      <td>ER</td>\n",
       "      <td>2018-02-15 00:00:00+00:00</td>\n",
       "      <td>2018-02-14</td>\n",
       "      <td>...</td>\n",
       "      <td>70000.0</td>\n",
       "      <td>NaN</td>\n",
       "      <td>0.594952</td>\n",
       "      <td>NaN</td>\n",
       "      <td>0.593143</td>\n",
       "      <td>0.577625</td>\n",
       "      <td>NaN</td>\n",
       "      <td>NaN</td>\n",
       "      <td>NaN</td>\n",
       "      <td>NaN</td>\n",
       "    </tr>\n",
       "    <tr>\n",
       "      <th>1</th>\n",
       "      <td>1</td>\n",
       "      <td>1</td>\n",
       "      <td>1298</td>\n",
       "      <td>A</td>\n",
       "      <td>Agilent Technologies Inc</td>\n",
       "      <td>A US</td>\n",
       "      <td>2018-05-14 16:05:00</td>\n",
       "      <td>ER</td>\n",
       "      <td>2018-05-15 00:00:00+00:00</td>\n",
       "      <td>2018-05-14</td>\n",
       "      <td>...</td>\n",
       "      <td>NaN</td>\n",
       "      <td>0.532359</td>\n",
       "      <td>NaN</td>\n",
       "      <td>NaN</td>\n",
       "      <td>0.625772</td>\n",
       "      <td>0.570963</td>\n",
       "      <td>NaN</td>\n",
       "      <td>NaN</td>\n",
       "      <td>NaN</td>\n",
       "      <td>NaN</td>\n",
       "    </tr>\n",
       "    <tr>\n",
       "      <th>2</th>\n",
       "      <td>2</td>\n",
       "      <td>2</td>\n",
       "      <td>2023</td>\n",
       "      <td>A</td>\n",
       "      <td>Agilent Technologies Inc</td>\n",
       "      <td>A US</td>\n",
       "      <td>2018-08-14 16:05:00</td>\n",
       "      <td>ER</td>\n",
       "      <td>2018-08-15 00:00:00+00:00</td>\n",
       "      <td>2018-08-14</td>\n",
       "      <td>...</td>\n",
       "      <td>67500.0</td>\n",
       "      <td>0.841737</td>\n",
       "      <td>0.995516</td>\n",
       "      <td>0.956398</td>\n",
       "      <td>0.948521</td>\n",
       "      <td>0.948011</td>\n",
       "      <td>-0.721488</td>\n",
       "      <td>(-0.762, -0.586]</td>\n",
       "      <td>-1.635179</td>\n",
       "      <td>(-1.869, -1.159]</td>\n",
       "    </tr>\n",
       "    <tr>\n",
       "      <th>3</th>\n",
       "      <td>3</td>\n",
       "      <td>3</td>\n",
       "      <td>2754</td>\n",
       "      <td>A</td>\n",
       "      <td>Agilent Technologies Inc</td>\n",
       "      <td>A US</td>\n",
       "      <td>2018-11-19 16:05:00</td>\n",
       "      <td>ER</td>\n",
       "      <td>2018-11-20 00:00:00+00:00</td>\n",
       "      <td>2018-11-19</td>\n",
       "      <td>...</td>\n",
       "      <td>NaN</td>\n",
       "      <td>NaN</td>\n",
       "      <td>NaN</td>\n",
       "      <td>NaN</td>\n",
       "      <td>NaN</td>\n",
       "      <td>NaN</td>\n",
       "      <td>NaN</td>\n",
       "      <td>NaN</td>\n",
       "      <td>NaN</td>\n",
       "      <td>NaN</td>\n",
       "    </tr>\n",
       "    <tr>\n",
       "      <th>4</th>\n",
       "      <td>4</td>\n",
       "      <td>4</td>\n",
       "      <td>3297</td>\n",
       "      <td>A</td>\n",
       "      <td>Agilent Technologies Inc</td>\n",
       "      <td>A US</td>\n",
       "      <td>2019-02-20 16:05:00</td>\n",
       "      <td>ER</td>\n",
       "      <td>2019-02-21 00:00:00+00:00</td>\n",
       "      <td>2019-02-20</td>\n",
       "      <td>...</td>\n",
       "      <td>NaN</td>\n",
       "      <td>NaN</td>\n",
       "      <td>NaN</td>\n",
       "      <td>NaN</td>\n",
       "      <td>NaN</td>\n",
       "      <td>NaN</td>\n",
       "      <td>NaN</td>\n",
       "      <td>NaN</td>\n",
       "      <td>NaN</td>\n",
       "      <td>NaN</td>\n",
       "    </tr>\n",
       "    <tr>\n",
       "      <th>...</th>\n",
       "      <td>...</td>\n",
       "      <td>...</td>\n",
       "      <td>...</td>\n",
       "      <td>...</td>\n",
       "      <td>...</td>\n",
       "      <td>...</td>\n",
       "      <td>...</td>\n",
       "      <td>...</td>\n",
       "      <td>...</td>\n",
       "      <td>...</td>\n",
       "      <td>...</td>\n",
       "      <td>...</td>\n",
       "      <td>...</td>\n",
       "      <td>...</td>\n",
       "      <td>...</td>\n",
       "      <td>...</td>\n",
       "      <td>...</td>\n",
       "      <td>...</td>\n",
       "      <td>...</td>\n",
       "      <td>...</td>\n",
       "      <td>...</td>\n",
       "    </tr>\n",
       "    <tr>\n",
       "      <th>19471</th>\n",
       "      <td>19471</td>\n",
       "      <td>19471</td>\n",
       "      <td>15969</td>\n",
       "      <td>ZTS</td>\n",
       "      <td>Zoetis Inc</td>\n",
       "      <td>ZTS US</td>\n",
       "      <td>2023-02-14 07:00:00</td>\n",
       "      <td>ER</td>\n",
       "      <td>2023-02-13 00:00:00+00:00</td>\n",
       "      <td>2023-02-13</td>\n",
       "      <td>...</td>\n",
       "      <td>NaN</td>\n",
       "      <td>NaN</td>\n",
       "      <td>NaN</td>\n",
       "      <td>0.516541</td>\n",
       "      <td>0.689797</td>\n",
       "      <td>0.461846</td>\n",
       "      <td>NaN</td>\n",
       "      <td>NaN</td>\n",
       "      <td>NaN</td>\n",
       "      <td>NaN</td>\n",
       "    </tr>\n",
       "    <tr>\n",
       "      <th>19472</th>\n",
       "      <td>19472</td>\n",
       "      <td>19472</td>\n",
       "      <td>16912</td>\n",
       "      <td>ZTS</td>\n",
       "      <td>Zoetis Inc</td>\n",
       "      <td>ZTS US</td>\n",
       "      <td>2023-05-04 07:00:00</td>\n",
       "      <td>ER</td>\n",
       "      <td>2023-05-03 00:00:00+00:00</td>\n",
       "      <td>2023-05-03</td>\n",
       "      <td>...</td>\n",
       "      <td>NaN</td>\n",
       "      <td>NaN</td>\n",
       "      <td>NaN</td>\n",
       "      <td>NaN</td>\n",
       "      <td>NaN</td>\n",
       "      <td>NaN</td>\n",
       "      <td>NaN</td>\n",
       "      <td>NaN</td>\n",
       "      <td>NaN</td>\n",
       "      <td>NaN</td>\n",
       "    </tr>\n",
       "    <tr>\n",
       "      <th>19473</th>\n",
       "      <td>19473</td>\n",
       "      <td>19473</td>\n",
       "      <td>17936</td>\n",
       "      <td>ZTS</td>\n",
       "      <td>Zoetis Inc</td>\n",
       "      <td>ZTS US</td>\n",
       "      <td>2023-08-08 07:00:00</td>\n",
       "      <td>ER</td>\n",
       "      <td>2023-08-07 00:00:00+00:00</td>\n",
       "      <td>2023-08-07</td>\n",
       "      <td>...</td>\n",
       "      <td>NaN</td>\n",
       "      <td>NaN</td>\n",
       "      <td>NaN</td>\n",
       "      <td>NaN</td>\n",
       "      <td>NaN</td>\n",
       "      <td>NaN</td>\n",
       "      <td>NaN</td>\n",
       "      <td>NaN</td>\n",
       "      <td>NaN</td>\n",
       "      <td>NaN</td>\n",
       "    </tr>\n",
       "    <tr>\n",
       "      <th>19474</th>\n",
       "      <td>19474</td>\n",
       "      <td>19474</td>\n",
       "      <td>18652</td>\n",
       "      <td>ZTS</td>\n",
       "      <td>Zoetis Inc</td>\n",
       "      <td>ZTS US</td>\n",
       "      <td>2023-11-02 07:00:00</td>\n",
       "      <td>ER</td>\n",
       "      <td>2023-11-01 00:00:00+00:00</td>\n",
       "      <td>2023-11-01</td>\n",
       "      <td>...</td>\n",
       "      <td>NaN</td>\n",
       "      <td>NaN</td>\n",
       "      <td>NaN</td>\n",
       "      <td>NaN</td>\n",
       "      <td>NaN</td>\n",
       "      <td>NaN</td>\n",
       "      <td>NaN</td>\n",
       "      <td>NaN</td>\n",
       "      <td>NaN</td>\n",
       "      <td>NaN</td>\n",
       "    </tr>\n",
       "    <tr>\n",
       "      <th>19475</th>\n",
       "      <td>19475</td>\n",
       "      <td>19475</td>\n",
       "      <td>19471</td>\n",
       "      <td>ZTS</td>\n",
       "      <td>Zoetis Inc</td>\n",
       "      <td>ZTS US</td>\n",
       "      <td>2024-02-13 07:00:00</td>\n",
       "      <td>ER</td>\n",
       "      <td>2024-02-12 00:00:00+00:00</td>\n",
       "      <td>2024-02-12</td>\n",
       "      <td>...</td>\n",
       "      <td>NaN</td>\n",
       "      <td>NaN</td>\n",
       "      <td>NaN</td>\n",
       "      <td>NaN</td>\n",
       "      <td>NaN</td>\n",
       "      <td>NaN</td>\n",
       "      <td>NaN</td>\n",
       "      <td>NaN</td>\n",
       "      <td>NaN</td>\n",
       "      <td>NaN</td>\n",
       "    </tr>\n",
       "  </tbody>\n",
       "</table>\n",
       "<p>19476 rows × 35 columns</p>\n",
       "</div>"
      ],
      "text/plain": [
       "       Unnamed: 0.1  Unnamed: 0  index Short_ticker                      Name  \\\n",
       "0                 0           0    396            A  Agilent Technologies Inc   \n",
       "1                 1           1   1298            A  Agilent Technologies Inc   \n",
       "2                 2           2   2023            A  Agilent Technologies Inc   \n",
       "3                 3           3   2754            A  Agilent Technologies Inc   \n",
       "4                 4           4   3297            A  Agilent Technologies Inc   \n",
       "...             ...         ...    ...          ...                       ...   \n",
       "19471         19471       19471  15969          ZTS                Zoetis Inc   \n",
       "19472         19472       19472  16912          ZTS                Zoetis Inc   \n",
       "19473         19473       19473  17936          ZTS                Zoetis Inc   \n",
       "19474         19474       19474  18652          ZTS                Zoetis Inc   \n",
       "19475         19475       19475  19471          ZTS                Zoetis Inc   \n",
       "\n",
       "       Ticker                 Date Event Type      Adjusted Trading Date  \\\n",
       "0        A US  2018-02-14 16:05:00         ER  2018-02-15 00:00:00+00:00   \n",
       "1        A US  2018-05-14 16:05:00         ER  2018-05-15 00:00:00+00:00   \n",
       "2        A US  2018-08-14 16:05:00         ER  2018-08-15 00:00:00+00:00   \n",
       "3        A US  2018-11-19 16:05:00         ER  2018-11-20 00:00:00+00:00   \n",
       "4        A US  2019-02-20 16:05:00         ER  2019-02-21 00:00:00+00:00   \n",
       "...       ...                  ...        ...                        ...   \n",
       "19471  ZTS US  2023-02-14 07:00:00         ER  2023-02-13 00:00:00+00:00   \n",
       "19472  ZTS US  2023-05-04 07:00:00         ER  2023-05-03 00:00:00+00:00   \n",
       "19473  ZTS US  2023-08-08 07:00:00         ER  2023-08-07 00:00:00+00:00   \n",
       "19474  ZTS US  2023-11-02 07:00:00         ER  2023-11-01 00:00:00+00:00   \n",
       "19475  ZTS US  2024-02-13 07:00:00         ER  2024-02-12 00:00:00+00:00   \n",
       "\n",
       "      trade_entry  ... straddle_entry_strike    IV_25c    IV_25p    IV_10c  \\\n",
       "0      2018-02-14  ...               70000.0       NaN  0.594952       NaN   \n",
       "1      2018-05-14  ...                   NaN  0.532359       NaN       NaN   \n",
       "2      2018-08-14  ...               67500.0  0.841737  0.995516  0.956398   \n",
       "3      2018-11-19  ...                   NaN       NaN       NaN       NaN   \n",
       "4      2019-02-20  ...                   NaN       NaN       NaN       NaN   \n",
       "...           ...  ...                   ...       ...       ...       ...   \n",
       "19471  2023-02-13  ...                   NaN       NaN       NaN  0.516541   \n",
       "19472  2023-05-03  ...                   NaN       NaN       NaN       NaN   \n",
       "19473  2023-08-07  ...                   NaN       NaN       NaN       NaN   \n",
       "19474  2023-11-01  ...                   NaN       NaN       NaN       NaN   \n",
       "19475  2024-02-12  ...                   NaN       NaN       NaN       NaN   \n",
       "\n",
       "         IV_10p    IV_50c   skew_25    skew_25_decile   kurt_25  \\\n",
       "0      0.593143  0.577625       NaN               NaN       NaN   \n",
       "1      0.625772  0.570963       NaN               NaN       NaN   \n",
       "2      0.948521  0.948011 -0.721488  (-0.762, -0.586] -1.635179   \n",
       "3           NaN       NaN       NaN               NaN       NaN   \n",
       "4           NaN       NaN       NaN               NaN       NaN   \n",
       "...         ...       ...       ...               ...       ...   \n",
       "19471  0.689797  0.461846       NaN               NaN       NaN   \n",
       "19472       NaN       NaN       NaN               NaN       NaN   \n",
       "19473       NaN       NaN       NaN               NaN       NaN   \n",
       "19474       NaN       NaN       NaN               NaN       NaN   \n",
       "19475       NaN       NaN       NaN               NaN       NaN   \n",
       "\n",
       "         kurt_25_decile  \n",
       "0                   NaN  \n",
       "1                   NaN  \n",
       "2      (-1.869, -1.159]  \n",
       "3                   NaN  \n",
       "4                   NaN  \n",
       "...                 ...  \n",
       "19471               NaN  \n",
       "19472               NaN  \n",
       "19473               NaN  \n",
       "19474               NaN  \n",
       "19475               NaN  \n",
       "\n",
       "[19476 rows x 35 columns]"
      ]
     },
     "execution_count": 18,
     "metadata": {},
     "output_type": "execute_result"
    }
   ],
   "source": [
    "earnings_dates_for_tickers"
   ]
  },
  {
   "cell_type": "code",
   "execution_count": null,
   "metadata": {},
   "outputs": [
    {
     "data": {
      "text/plain": [
       "0        2018-02-14\n",
       "1        2018-05-14\n",
       "2        2018-08-14\n",
       "3        2018-11-19\n",
       "4        2019-02-20\n",
       "            ...    \n",
       "19471    2023-02-13\n",
       "19472    2023-05-03\n",
       "19473    2023-08-07\n",
       "19474    2023-11-01\n",
       "19475    2024-02-12\n",
       "Name: trade_entry, Length: 19476, dtype: object"
      ]
     },
     "execution_count": 21,
     "metadata": {},
     "output_type": "execute_result"
    }
   ],
   "source": [
    "earnings_dates_for_tickers['trade_entry'] = pd.to_datetime(earnings_dates_for_tickers['trade_entry'])\n",
    "\n",
    "# Extract only the date part (YYYY-MM-DD)\n",
    "earnings_dates_for_tickers['trade_entry'] = earnings_dates_for_tickers['trade_entry'].dt.date\n",
    "earnings_dates_for_tickers['trade_entry']"
   ]
  },
  {
   "cell_type": "code",
   "execution_count": null,
   "metadata": {},
   "outputs": [
    {
     "data": {
      "text/plain": [
       "0       2018-02-14\n",
       "1       2018-05-14\n",
       "2       2018-08-14\n",
       "3       2018-11-19\n",
       "4       2019-02-20\n",
       "           ...    \n",
       "19471   2023-02-13\n",
       "19472   2023-05-03\n",
       "19473   2023-08-07\n",
       "19474   2023-11-01\n",
       "19475   2024-02-12\n",
       "Name: trade_entry, Length: 19476, dtype: datetime64[ns]"
      ]
     },
     "execution_count": 22,
     "metadata": {},
     "output_type": "execute_result"
    }
   ],
   "source": [
    "earnings_dates_for_tickers['trade_entry'] = pd.to_datetime(earnings_dates_for_tickers['trade_entry'])\n",
    "earnings_dates_for_tickers['trade_entry']\n"
   ]
  },
  {
   "cell_type": "code",
   "execution_count": null,
   "metadata": {},
   "outputs": [
    {
     "data": {
      "text/plain": [
       "0       2018-02-15\n",
       "1       2018-05-15\n",
       "2       2018-08-15\n",
       "3       2018-11-20\n",
       "4       2019-02-21\n",
       "           ...    \n",
       "19471   2023-02-14\n",
       "19472   2023-05-04\n",
       "19473   2023-08-08\n",
       "19474   2023-11-02\n",
       "19475   2024-02-13\n",
       "Name: trade_exit, Length: 19476, dtype: datetime64[ns]"
      ]
     },
     "execution_count": 23,
     "metadata": {},
     "output_type": "execute_result"
    }
   ],
   "source": [
    "earnings_dates_for_tickers['trade_exit'] = pd.to_datetime(earnings_dates_for_tickers['trade_exit'])\n",
    "\n",
    "# Extract only the date part (YYYY-MM-DD)\n",
    "earnings_dates_for_tickers['trade_exit'] = earnings_dates_for_tickers['trade_exit'].dt.date\n",
    "earnings_dates_for_tickers['trade_exit'] = pd.to_datetime(earnings_dates_for_tickers['trade_exit'])\n",
    "earnings_dates_for_tickers['trade_exit']\n",
    "\n"
   ]
  },
  {
   "cell_type": "code",
   "execution_count": null,
   "metadata": {},
   "outputs": [
    {
     "data": {
      "text/html": [
       "<div>\n",
       "<style scoped>\n",
       "    .dataframe tbody tr th:only-of-type {\n",
       "        vertical-align: middle;\n",
       "    }\n",
       "\n",
       "    .dataframe tbody tr th {\n",
       "        vertical-align: top;\n",
       "    }\n",
       "\n",
       "    .dataframe thead th {\n",
       "        text-align: right;\n",
       "    }\n",
       "</style>\n",
       "<table border=\"1\" class=\"dataframe\">\n",
       "  <thead>\n",
       "    <tr style=\"text-align: right;\">\n",
       "      <th></th>\n",
       "      <th></th>\n",
       "      <th>permno</th>\n",
       "      <th>prc</th>\n",
       "      <th>bid</th>\n",
       "      <th>ask</th>\n",
       "      <th>comnam</th>\n",
       "      <th>permco</th>\n",
       "    </tr>\n",
       "    <tr>\n",
       "      <th>date</th>\n",
       "      <th>ticker</th>\n",
       "      <th></th>\n",
       "      <th></th>\n",
       "      <th></th>\n",
       "      <th></th>\n",
       "      <th></th>\n",
       "      <th></th>\n",
       "    </tr>\n",
       "  </thead>\n",
       "  <tbody>\n",
       "    <tr>\n",
       "      <th>2018-02-07</th>\n",
       "      <th>A</th>\n",
       "      <td>87432</td>\n",
       "      <td>68.06</td>\n",
       "      <td>68.06000</td>\n",
       "      <td>68.07000</td>\n",
       "      <td>AGILENT TECHNOLOGIES INC</td>\n",
       "      <td>36364.0</td>\n",
       "    </tr>\n",
       "    <tr>\n",
       "      <th>2018-02-08</th>\n",
       "      <th>A</th>\n",
       "      <td>87432</td>\n",
       "      <td>65.05</td>\n",
       "      <td>65.03000</td>\n",
       "      <td>65.05000</td>\n",
       "      <td>AGILENT TECHNOLOGIES INC</td>\n",
       "      <td>36364.0</td>\n",
       "    </tr>\n",
       "    <tr>\n",
       "      <th>2018-02-09</th>\n",
       "      <th>A</th>\n",
       "      <td>87432</td>\n",
       "      <td>66.98</td>\n",
       "      <td>66.97000</td>\n",
       "      <td>66.98000</td>\n",
       "      <td>AGILENT TECHNOLOGIES INC</td>\n",
       "      <td>36364.0</td>\n",
       "    </tr>\n",
       "    <tr>\n",
       "      <th>2018-02-12</th>\n",
       "      <th>A</th>\n",
       "      <td>87432</td>\n",
       "      <td>68.43</td>\n",
       "      <td>68.40000</td>\n",
       "      <td>68.41000</td>\n",
       "      <td>AGILENT TECHNOLOGIES INC</td>\n",
       "      <td>36364.0</td>\n",
       "    </tr>\n",
       "    <tr>\n",
       "      <th>2018-02-13</th>\n",
       "      <th>A</th>\n",
       "      <td>87432</td>\n",
       "      <td>68.34</td>\n",
       "      <td>68.33000</td>\n",
       "      <td>68.34000</td>\n",
       "      <td>AGILENT TECHNOLOGIES INC</td>\n",
       "      <td>36364.0</td>\n",
       "    </tr>\n",
       "    <tr>\n",
       "      <th>...</th>\n",
       "      <th>...</th>\n",
       "      <td>...</td>\n",
       "      <td>...</td>\n",
       "      <td>...</td>\n",
       "      <td>...</td>\n",
       "      <td>...</td>\n",
       "      <td>...</td>\n",
       "    </tr>\n",
       "    <tr>\n",
       "      <th>2023-11-03</th>\n",
       "      <th>ZTS</th>\n",
       "      <td>13788</td>\n",
       "      <td>162.23</td>\n",
       "      <td>162.19000</td>\n",
       "      <td>162.23000</td>\n",
       "      <td>ZOETIS INC</td>\n",
       "      <td>54327.0</td>\n",
       "    </tr>\n",
       "    <tr>\n",
       "      <th>2023-11-06</th>\n",
       "      <th>ZTS</th>\n",
       "      <td>13788</td>\n",
       "      <td>163.17</td>\n",
       "      <td>163.20000</td>\n",
       "      <td>163.27000</td>\n",
       "      <td>ZOETIS INC</td>\n",
       "      <td>54327.0</td>\n",
       "    </tr>\n",
       "    <tr>\n",
       "      <th>2023-11-07</th>\n",
       "      <th>ZTS</th>\n",
       "      <td>13788</td>\n",
       "      <td>167.16</td>\n",
       "      <td>167.24001</td>\n",
       "      <td>167.28000</td>\n",
       "      <td>ZOETIS INC</td>\n",
       "      <td>54327.0</td>\n",
       "    </tr>\n",
       "    <tr>\n",
       "      <th>2023-11-08</th>\n",
       "      <th>ZTS</th>\n",
       "      <td>13788</td>\n",
       "      <td>170.87</td>\n",
       "      <td>170.89000</td>\n",
       "      <td>170.92999</td>\n",
       "      <td>ZOETIS INC</td>\n",
       "      <td>54327.0</td>\n",
       "    </tr>\n",
       "    <tr>\n",
       "      <th>2023-11-09</th>\n",
       "      <th>ZTS</th>\n",
       "      <td>13788</td>\n",
       "      <td>170.63</td>\n",
       "      <td>170.71001</td>\n",
       "      <td>170.72000</td>\n",
       "      <td>ZOETIS INC</td>\n",
       "      <td>54327.0</td>\n",
       "    </tr>\n",
       "  </tbody>\n",
       "</table>\n",
       "<p>147114 rows × 6 columns</p>\n",
       "</div>"
      ],
      "text/plain": [
       "                   permno     prc        bid        ask  \\\n",
       "date       ticker                                         \n",
       "2018-02-07 A        87432   68.06   68.06000   68.07000   \n",
       "2018-02-08 A        87432   65.05   65.03000   65.05000   \n",
       "2018-02-09 A        87432   66.98   66.97000   66.98000   \n",
       "2018-02-12 A        87432   68.43   68.40000   68.41000   \n",
       "2018-02-13 A        87432   68.34   68.33000   68.34000   \n",
       "...                   ...     ...        ...        ...   \n",
       "2023-11-03 ZTS      13788  162.23  162.19000  162.23000   \n",
       "2023-11-06 ZTS      13788  163.17  163.20000  163.27000   \n",
       "2023-11-07 ZTS      13788  167.16  167.24001  167.28000   \n",
       "2023-11-08 ZTS      13788  170.87  170.89000  170.92999   \n",
       "2023-11-09 ZTS      13788  170.63  170.71001  170.72000   \n",
       "\n",
       "                                     comnam   permco  \n",
       "date       ticker                                     \n",
       "2018-02-07 A       AGILENT TECHNOLOGIES INC  36364.0  \n",
       "2018-02-08 A       AGILENT TECHNOLOGIES INC  36364.0  \n",
       "2018-02-09 A       AGILENT TECHNOLOGIES INC  36364.0  \n",
       "2018-02-12 A       AGILENT TECHNOLOGIES INC  36364.0  \n",
       "2018-02-13 A       AGILENT TECHNOLOGIES INC  36364.0  \n",
       "...                                     ...      ...  \n",
       "2023-11-03 ZTS                   ZOETIS INC  54327.0  \n",
       "2023-11-06 ZTS                   ZOETIS INC  54327.0  \n",
       "2023-11-07 ZTS                   ZOETIS INC  54327.0  \n",
       "2023-11-08 ZTS                   ZOETIS INC  54327.0  \n",
       "2023-11-09 ZTS                   ZOETIS INC  54327.0  \n",
       "\n",
       "[147114 rows x 6 columns]"
      ]
     },
     "execution_count": 24,
     "metadata": {},
     "output_type": "execute_result"
    }
   ],
   "source": [
    "stock_prices.set_index(['date','ticker'],inplace = True)\n",
    "stock_prices"
   ]
  },
  {
   "cell_type": "code",
   "execution_count": null,
   "metadata": {},
   "outputs": [],
   "source": [
    "def entry_stock_price(row):\n",
    "    try:\n",
    "        # Check if there is an index match in stock_prices\n",
    "        if (row['trade_entry'], row['Short_ticker']) in stock_prices.index:\n",
    "            # Get the index position of the match\n",
    "            match_index = stock_prices.index.get_loc((row['trade_entry'], row['Short_ticker']))\n",
    "            # Get the previous 5 rows using slicing\n",
    "            previous_rows = stock_prices.iloc[match_index-5:match_index+1]\n",
    "\n",
    "            # get the 'prc' of the rows and return all of them as a list\n",
    "            return previous_rows['prc'].to_list()\n",
    "            \n",
    "        else:\n",
    "            return np.nan*6\n",
    "    except KeyError:\n",
    "        return np.nan*6\n",
    "\n",
    "earnings_dates_for_tickers[['prc_5Dbefore', 'prc_4Dbefore', 'prc_3Dbefore', 'prc_2Dbefore','prc_1Dbefore','stock_price_entry']] = earnings_dates_for_tickers.apply(entry_stock_price, axis=1, result_type = 'expand')"
   ]
  },
  {
   "cell_type": "code",
   "execution_count": null,
   "metadata": {},
   "outputs": [],
   "source": [
    "def entry_stock_price(row):\n",
    "    try:\n",
    "        return stock_prices.loc[(row['trade_entry'], row['Short_ticker'])]['prc']\n",
    "    except KeyError:\n",
    "        return np.nan\n",
    "earnings_dates_for_tickers['stock_price_entry'] = earnings_dates_for_tickers.apply(entry_stock_price,axis = 1)"
   ]
  },
  {
   "cell_type": "code",
   "execution_count": null,
   "metadata": {},
   "outputs": [],
   "source": [
    "def exit_stock_price(row):\n",
    "    try:\n",
    "        return stock_prices.loc[(row['trade_exit'], row['Short_ticker'])]['prc']\n",
    "    except KeyError:\n",
    "        return np.nan\n",
    "earnings_dates_for_tickers['stock_price_exit'] = earnings_dates_for_tickers.apply(exit_stock_price,axis = 1)"
   ]
  },
  {
   "cell_type": "code",
   "execution_count": null,
   "metadata": {},
   "outputs": [
    {
     "data": {
      "text/plain": [
       "0        2018\n",
       "1        2018\n",
       "2        2018\n",
       "3        2018\n",
       "4        2019\n",
       "         ... \n",
       "19471    2023\n",
       "19472    2023\n",
       "19473    2023\n",
       "19474    2023\n",
       "19475    2024\n",
       "Name: year_entry, Length: 19476, dtype: int32"
      ]
     },
     "execution_count": 27,
     "metadata": {},
     "output_type": "execute_result"
    }
   ],
   "source": [
    "earnings_dates_for_tickers['year_entry'] = earnings_dates_for_tickers['trade_entry'].dt.year\n",
    "\n",
    "# Create 'year_exit' column containing the year of 'trade_exit'\n",
    "earnings_dates_for_tickers['year_exit'] = earnings_dates_for_tickers['trade_exit'].dt.year\n",
    "earnings_dates_for_tickers['year_entry']"
   ]
  },
  {
   "cell_type": "code",
   "execution_count": null,
   "metadata": {},
   "outputs": [
    {
     "data": {
      "text/plain": [
       "245.41648013548803"
      ]
     },
     "execution_count": 26,
     "metadata": {},
     "output_type": "execute_result"
    }
   ],
   "source": [
    "approximation_error = abs(1000 * earnings_dates_for_tickers['stock_price_entry'] - 1000 * earnings_dates_for_tickers['stock_price_entry'].round())\n",
    "approximation_error.mean()"
   ]
  },
  {
   "cell_type": "code",
   "execution_count": null,
   "metadata": {},
   "outputs": [
    {
     "data": {
      "text/plain": [
       "0            0\n",
       "1            1\n",
       "2            2\n",
       "3            3\n",
       "4            4\n",
       "         ...  \n",
       "19471    19471\n",
       "19472    19472\n",
       "19473    19473\n",
       "19474    19474\n",
       "19475    19475\n",
       "Name: Unnamed: 0, Length: 19476, dtype: int64"
      ]
     },
     "execution_count": 52,
     "metadata": {},
     "output_type": "execute_result"
    }
   ],
   "source": [
    "earnings_dates_for_tickers['Unnamed: 0']"
   ]
  },
  {
   "cell_type": "code",
   "execution_count": 120,
   "metadata": {},
   "outputs": [
    {
     "name": "stdout",
     "output_type": "stream",
     "text": [
      "0\n",
      "100\n",
      "200\n",
      "300\n",
      "400\n",
      "500\n",
      "600\n",
      "700\n",
      "800\n",
      "900\n",
      "1000\n",
      "1100\n",
      "1200\n",
      "1300\n",
      "1400\n",
      "1500\n",
      "1600\n",
      "1700\n",
      "1800\n",
      "1900\n",
      "2000\n",
      "2100\n",
      "2200\n",
      "2300\n",
      "2400\n",
      "2500\n",
      "2600\n",
      "2700\n",
      "2800\n",
      "2900\n",
      "3000\n",
      "3100\n",
      "3200\n",
      "3300\n",
      "3400\n",
      "3500\n",
      "3600\n",
      "3700\n",
      "3800\n",
      "3900\n",
      "4000\n",
      "4100\n",
      "4200\n",
      "4300\n",
      "4400\n",
      "4500\n",
      "4600\n",
      "4700\n",
      "4800\n",
      "4900\n",
      "5000\n",
      "5100\n",
      "5200\n",
      "5300\n",
      "5400\n",
      "5500\n",
      "5600\n",
      "5700\n",
      "5800\n",
      "5900\n",
      "6000\n",
      "6100\n",
      "6200\n",
      "6300\n",
      "6400\n",
      "6500\n",
      "6600\n",
      "6700\n",
      "6800\n",
      "6900\n",
      "7000\n",
      "7100\n",
      "7200\n",
      "7300\n",
      "7400\n",
      "7500\n",
      "7600\n",
      "7700\n",
      "7800\n",
      "7900\n",
      "8000\n",
      "8100\n",
      "8200\n",
      "8300\n",
      "8400\n",
      "8500\n",
      "8600\n",
      "8700\n",
      "8800\n",
      "8900\n",
      "9000\n",
      "9100\n",
      "9200\n",
      "9300\n",
      "9400\n",
      "9500\n",
      "9600\n",
      "9700\n",
      "9800\n",
      "9900\n",
      "10000\n",
      "10100\n",
      "10200\n",
      "10300\n",
      "10400\n",
      "10500\n",
      "10600\n",
      "10700\n",
      "10800\n",
      "10900\n",
      "11000\n",
      "11100\n",
      "11200\n",
      "11300\n",
      "11400\n",
      "11500\n",
      "11600\n",
      "11700\n",
      "11800\n",
      "11900\n",
      "12000\n",
      "12100\n",
      "12200\n",
      "12300\n",
      "12400\n",
      "12500\n",
      "12600\n",
      "12700\n",
      "12800\n",
      "12900\n",
      "13000\n",
      "13100\n",
      "13200\n",
      "13300\n",
      "13400\n",
      "13500\n",
      "13600\n",
      "13700\n",
      "13800\n",
      "13900\n",
      "14000\n",
      "14100\n",
      "14200\n",
      "14300\n",
      "14400\n",
      "14500\n",
      "14600\n",
      "14700\n",
      "14800\n",
      "14900\n",
      "15000\n",
      "15100\n",
      "15200\n",
      "15300\n",
      "15400\n",
      "15500\n",
      "15600\n",
      "15700\n",
      "15800\n",
      "15900\n",
      "16000\n",
      "16100\n",
      "16200\n",
      "16300\n",
      "16400\n",
      "16500\n",
      "16600\n",
      "16700\n",
      "16800\n",
      "16900\n",
      "17000\n",
      "17100\n",
      "17200\n",
      "17300\n",
      "17400\n",
      "17500\n",
      "17600\n",
      "17700\n",
      "17800\n",
      "17900\n",
      "18000\n",
      "18100\n",
      "18200\n",
      "18300\n",
      "18400\n",
      "18500\n",
      "18600\n",
      "18700\n",
      "18800\n",
      "18900\n",
      "19000\n",
      "19100\n",
      "19200\n",
      "19300\n",
      "19400\n"
     ]
    }
   ],
   "source": [
    "def straddle_iv_time(row):\n",
    "    if row['Unnamed: 0'] % 100 == 0:\n",
    "        print(row['Unnamed: 0'])\n",
    "    if row['year_entry'] < 2017 or row['year_entry'] > 2023 or row['year_exit'] < 2017 or row['year_exit'] > 2023:\n",
    "        return [np.nan]*24\n",
    "    try:\n",
    "\n",
    "        IV_1 = []\n",
    "        time_1 = []\n",
    "        IV_2 = []\n",
    "        time_2 = []\n",
    "\n",
    "        # Trading Entry Date\n",
    "\n",
    "        options = options_dict[row['year_entry']].loc[(row['Short_ticker'], row['trade_entry'])]\n",
    "\n",
    "        # if there is no two exdates, add nan to the list\n",
    "        exdates = options.index.get_level_values('exdate').unique().sort_values()\n",
    "        if len(exdates) < 2:\n",
    "            return [np.nan]*24\n",
    "        else:\n",
    "            cloest_two_exdates = exdates[:2]\n",
    "            # get the option with the closet exdate\n",
    "            options_1 = options.loc[cloest_two_exdates[0]]\n",
    "            options_1['abs_difference'] = abs(options_1['strike_price'] - row['stock_price_entry']*1000)\n",
    "\n",
    "            # Filter the DataFrame for r\n",
    "            # ows with the minimum absolute difference\n",
    "            min_abs_difference = options_1['abs_difference'].min()\n",
    "            filtered_options = options_1[options_1['abs_difference'] == min_abs_difference]\n",
    "\n",
    "            if len(filtered_options) <=2:\n",
    "                b = True\n",
    "                IV_1.append(filtered_options['impl_volatility'].mean())\n",
    "                \n",
    "                # calculate the calendar days between 'trade_entry' and closest_two_exdates[0]\n",
    "                time_1.append((pd.to_datetime(cloest_two_exdates[0]) - row['trade_entry']).days/365.0)\n",
    "            else:\n",
    "                IV_1.append(np.nan)\n",
    "                time_1.append(np.nan)\n",
    "\n",
    "            # second closest exdate\n",
    "            options_2 = options.loc[cloest_two_exdates[1]]\n",
    "            options_2['abs_difference'] = abs(options_2['strike_price'] - row['stock_price_entry']*1000)\n",
    "\n",
    "            # Filter the DataFrame for rows with the minimum absolute difference\n",
    "            min_abs_difference = options_2['abs_difference'].min()\n",
    "            filtered_options = options_2[options_2['abs_difference'] == min_abs_difference]\n",
    "\n",
    "            if len(filtered_options) <=2:\n",
    "                IV_2.append(filtered_options['impl_volatility'].mean())\n",
    "                time_2.append((pd.to_datetime(cloest_two_exdates[1]) - row['trade_entry']).days/365.0)\n",
    "            else:\n",
    "                IV_2.append(np.nan)\n",
    "                time_2.append(np.nan)\n",
    "\n",
    "\n",
    "        # 1-5 days before earnings\n",
    "\n",
    "            nyse = mcal.get_calendar('NYSE')\n",
    "            current_date = row['trade_entry']\n",
    "            schedule = nyse.schedule(start_date=current_date - pd.DateOffset(days=20), end_date=current_date)\n",
    "            for i in range(1, 6):\n",
    "                previous_trading_day = schedule.iloc[-(i+1)].name\n",
    "                previous_year = previous_trading_day.year\n",
    "                try:\n",
    "                    options = options_dict[previous_year].loc[( row['Short_ticker'], previous_trading_day)]\n",
    "                    # get the option with the closet exdate\n",
    "                    options_1 = options.loc[cloest_two_exdates[0]]\n",
    "                    options_1['abs_difference'] = abs(options_1['strike_price'] - row[f'prc_{i}Dbefore']*1000)\n",
    "\n",
    "                        # Filter the DataFrame for rows with the minimum absolute difference\n",
    "                    min_abs_difference = options_1['abs_difference'].min()\n",
    "                    filtered_options = options_1[options_1['abs_difference'] == min_abs_difference]\n",
    "\n",
    "                    if len(filtered_options) <= 2:\n",
    "                        IV_1.append(filtered_options['impl_volatility'].mean())\n",
    "                            \n",
    "                            # calculate the calendar days between 'trade_entry' and closest_two_exdates[0]\n",
    "                        time_1.append((pd.to_datetime(cloest_two_exdates[0]) - previous_trading_day).days/365.0)\n",
    "                    else:\n",
    "                        IV_1.append(np.nan)\n",
    "                        time_1.append(np.nan)\n",
    "\n",
    "                        # second closest exdate\n",
    "                    options_2 = options.loc[cloest_two_exdates[1]]\n",
    "                    options_2['abs_difference'] = abs(options_2['strike_price'] - row[f'prc_{i}Dbefore' ]*1000)\n",
    "\n",
    "                        # Filter the DataFrame for rows with the minimum absolute difference\n",
    "                    min_abs_difference = options_2['abs_difference'].min()\n",
    "                    filtered_options = options_2[options_2['abs_difference'] == min_abs_difference]\n",
    "\n",
    "                    if len(filtered_options) <=2:\n",
    "                        IV_2.append(filtered_options['impl_volatility'].mean())\n",
    "                        time_2.append((pd.to_datetime(cloest_two_exdates[1]) - previous_trading_day).days/365.0)\n",
    "                    else:\n",
    "                        IV_2.append(np.nan)\n",
    "                        time_2.append(np.nan)\n",
    "                except:\n",
    "                    if len(IV_1) == i:\n",
    "                        IV_1.append(np.nan)\n",
    "                    if len(time_1) == i:\n",
    "                        time_1.append(np.nan)\n",
    "                    if len(IV_2) == i:\n",
    "                        IV_2.append(np.nan)\n",
    "                    if len(time_2) == i:\n",
    "                        time_2.append(np.nan)\n",
    "\n",
    "            # if there is no two exdates, add nan to the list\n",
    "            \n",
    "\n",
    "\n",
    "        # return IV and time\n",
    "        return IV_1 + time_1 + IV_2 + time_2\n",
    "\n",
    "    except:\n",
    "        return [np.nan]*24\n",
    "\n",
    "\n",
    "\n",
    "\n",
    "earnings_dates_for_tickers[['straddle_iv_T1', 'straddle_iv_1d_T1','straddle_iv_2d_T1','straddle_iv_3d_T1','straddle_iv_4d_T1','straddle_iv_5d_T1',\n",
    "                            'time_T1', 'time_1d_T1','time_2d_T1','time_3d_T1','time_4d_T1','time_5d_T1',\n",
    "                            'straddle_iv_T2', 'straddle_iv_1d_T2','straddle_iv_2d_T2','straddle_iv_3d_T2','straddle_iv_4d_T2','straddle_iv_5d_T2',\n",
    "                            'time_T2', 'time_1d_T2','time_2d_T2','time_3d_T2','time_4d_T2','time_5d_T2']] = earnings_dates_for_tickers.apply(straddle_iv_time, axis = 1, result_type = 'expand')"
   ]
  },
  {
   "cell_type": "code",
   "execution_count": 121,
   "metadata": {},
   "outputs": [],
   "source": [
    "earnings_dates_for_tickers.to_csv(\"Results_0510.csv\")"
   ]
  },
  {
   "cell_type": "code",
   "execution_count": 78,
   "metadata": {},
   "outputs": [],
   "source": [
    "cols_iv_time = ['straddle_iv_T1', 'straddle_iv_1d_T1','straddle_iv_2d_T1','straddle_iv_3d_T1','straddle_iv_4d_T1','straddle_iv_5d_T1',\n",
    "                            'time_T1', 'time_1d_T1','time_2d_T1','time_3d_T1','time_4d_T1','time_5d_T1',\n",
    "                            'straddle_iv_T2', 'straddle_iv_1d_T2','straddle_iv_2d_T2','straddle_iv_3d_T2','straddle_iv_4d_T2','straddle_iv_5d_T2',\n",
    "                            'time_T2', 'time_1d_T2','time_2d_T2','time_3d_T2','time_4d_T2','time_5d_T2']\n",
    "#hundred.drop(columns = cols_iv_time,axis = 1, inplace = True)\n",
    "earnings_dates_for_tickers.drop(columns = cols_iv_time,axis = 1,inplace = True)"
   ]
  },
  {
   "cell_type": "code",
   "execution_count": 115,
   "metadata": {},
   "outputs": [
    {
     "name": "stdout",
     "output_type": "stream",
     "text": [
      "0\n"
     ]
    }
   ],
   "source": [
    "\n",
    "def straddle_iv_time_v1(row):\n",
    "    if row['Unnamed: 0'] % 100 == 0:\n",
    "        print(row['Unnamed: 0'])\n",
    "    if row['year_entry'] < 2017 or row['year_entry'] > 2023 or row['year_exit'] < 2017 or row['year_exit'] > 2023:\n",
    "        return [np.nan]*24\n",
    "    try:\n",
    "        IV_1 = []\n",
    "        time_1 = []\n",
    "        IV_2 = []\n",
    "        time_2 = []\n",
    "\n",
    "        # Trading Entry Date\n",
    "        options = options_dict[row['year_entry']].loc[(row['Short_ticker'],row['trade_entry'])]\n",
    "        cloest_two_exdates = options.index.get_level_values('exdate').unique().sort_values()[:2]\n",
    "\n",
    "        # get the option with the closet exdate\n",
    "        options_1 = options.loc[cloest_two_exdates[0]]\n",
    "        options_1['abs_difference'] = abs(options_1['strike_price'] - row['stock_price_entry']*1000)\n",
    "\n",
    "        # Filter the DataFrame for rows with the minimum absolute difference\n",
    "        min_abs_difference = options_1['abs_difference'].min()\n",
    "        filtered_options = options_1[options_1['abs_difference'] == min_abs_difference]\n",
    "\n",
    "        if len(filtered_options) <=2:\n",
    "            IV_1.append(filtered_options['impl_volatility'].mean())\n",
    "            \n",
    "            # calculate the calendar days between 'trade_entry' and closest_two_exdates[0]\n",
    "            time_1.append((pd.to_datetime(cloest_two_exdates[0]) - row['trade_entry']).days/365.0)\n",
    "        else:\n",
    "            IV_1.append(np.nan)\n",
    "            time_1.append(np.nan)\n",
    "\n",
    "        # second closest exdate\n",
    "        options_2 = options.loc[cloest_two_exdates[1]]\n",
    "        options_2['abs_difference'] = abs(options_2['strike_price'] - row['stock_price_entry']*1000)\n",
    "\n",
    "        # Filter the DataFrame for rows with the minimum absolute difference\n",
    "        min_abs_difference = options_2['abs_difference'].min()\n",
    "        filtered_options = options_2[options_2['abs_difference'] == min_abs_difference]\n",
    "\n",
    "        if len(filtered_options) <=2:\n",
    "            IV_2.append(filtered_options['impl_volatility'].mean())\n",
    "            time_2.append((pd.to_datetime(cloest_two_exdates[1]) - row['trade_entry']).days/365.0)\n",
    "        else:\n",
    "            IV_2.append(np.nan)\n",
    "            time_2.append(np.nan)\n",
    "\n",
    "\n",
    "        # 1-5 days before earnings\n",
    "\n",
    "        nyse = mcal.get_calendar('NYSE')\n",
    "        current_date = row['trade_entry']\n",
    "        schedule = nyse.schedule(start_date=current_date - pd.DateOffset(days=10), end_date=current_date)\n",
    "\n",
    "        for i in range(1, 6):\n",
    "            previous_trading_day = schedule.iloc[-(i+1)].name\n",
    "            previous_year = previous_trading_day.year\n",
    "            options = options_dict[previous_year].loc[(row['Short_ticker'],previous_trading_day)]\n",
    "            # get the option with the closet exdate\n",
    "            options_1 = options.loc[cloest_two_exdates[0]]\n",
    "            options_1['abs_difference'] = abs(options_1['strike_price'] - row[f'prc_{i}Dbefore']*1000)\n",
    "\n",
    "            # Filter the DataFrame for rows with the minimum absolute difference\n",
    "            min_abs_difference = options_1['abs_difference'].min()\n",
    "            filtered_options = options_1[options_1['abs_difference'] == min_abs_difference]\n",
    "\n",
    "            if len(filtered_options) <=2:\n",
    "                IV_1.append(filtered_options['impl_volatility'].mean())\n",
    "                \n",
    "                # calculate the calendar days between 'trade_entry' and closest_two_exdates[0]\n",
    "                time_1.append((pd.to_datetime(cloest_two_exdates[0]) - previous_trading_day).days/365.0)\n",
    "            else:\n",
    "                IV_1.append(np.nan)\n",
    "                time_1.append(np.nan)\n",
    "\n",
    "            # second closest exdate\n",
    "            options_2 = options.loc[cloest_two_exdates[1]]\n",
    "            options_2['abs_difference'] = abs(options_2['strike_price'] - row[f'prc_{i}Dbefore' ]*1000)\n",
    "\n",
    "            # Filter the DataFrame for rows with the minimum absolute difference\n",
    "            min_abs_difference = options_2['abs_difference'].min()\n",
    "            filtered_options = options_2[options_2['abs_difference'] == min_abs_difference]\n",
    "\n",
    "            if len(filtered_options) <=2:\n",
    "                IV_2.append(filtered_options['impl_volatility'].mean())\n",
    "                time_2.append((pd.to_datetime(cloest_two_exdates[1]) - previous_trading_day).days/365.0)\n",
    "            else:\n",
    "                IV_2.append(np.nan)\n",
    "                time_2.append(np.nan)\n",
    "\n",
    "\n",
    "\n",
    "        # return IV and time\n",
    "        return IV_1 + time_1 + IV_2 + time_2\n",
    "\n",
    "    except:\n",
    "        return [np.nan]*24\n",
    "\n",
    "hundred[['straddle_iv_T1', 'straddle_iv_1d_T1','straddle_iv_2d_T1','straddle_iv_3d_T1','straddle_iv_4d_T1','straddle_iv_5d_T1',\n",
    "                            'time_T1', 'time_1d_T1','time_2d_T1','time_3d_T1','time_4d_T1','time_5d_T1',\n",
    "                            'straddle_iv_T2', 'straddle_iv_1d_T2','straddle_iv_2d_T2','straddle_iv_3d_T2','straddle_iv_4d_T2','straddle_iv_5d_T2',\n",
    "                            'time_T2', 'time_1d_T2','time_2d_T2','time_3d_T2','time_4d_T2','time_5d_T2']] = hundred.apply(straddle_iv_time_v1, axis = 1, result_type = 'expand')"
   ]
  },
  {
   "cell_type": "code",
   "execution_count": 9,
   "metadata": {},
   "outputs": [],
   "source": [
    "earnings_dates_for_tickers = pd.read_csv('Results_0510.csv')"
   ]
  },
  {
   "cell_type": "code",
   "execution_count": 10,
   "metadata": {},
   "outputs": [
    {
     "data": {
      "text/plain": [
       "0        0.001523\n",
       "1        0.003208\n",
       "2        0.006852\n",
       "3             NaN\n",
       "4             NaN\n",
       "           ...   \n",
       "19471    0.001283\n",
       "19472         NaN\n",
       "19473         NaN\n",
       "19474         NaN\n",
       "19475         NaN\n",
       "Length: 19476, dtype: float64"
      ]
     },
     "execution_count": 10,
     "metadata": {},
     "output_type": "execute_result"
    }
   ],
   "source": [
    "forward_vol_0d = np.sqrt((earnings_dates_for_tickers['time_T2']*earnings_dates_for_tickers['straddle_iv_T2']**2.0-earnings_dates_for_tickers['time_T1']*earnings_dates_for_tickers['straddle_iv_T1']**2.0)/(earnings_dates_for_tickers['time_T2']-earnings_dates_for_tickers['time_T1']))\n",
    "event_var_0d = earnings_dates_for_tickers['time_T1']*(earnings_dates_for_tickers['straddle_iv_T1']**2.0-forward_vol_0d**2.0)\n",
    "event_var_0d"
   ]
  },
  {
   "cell_type": "code",
   "execution_count": 11,
   "metadata": {},
   "outputs": [
    {
     "data": {
      "text/plain": [
       "-1.1102230246251565e-16"
      ]
     },
     "execution_count": 11,
     "metadata": {},
     "output_type": "execute_result"
    }
   ],
   "source": [
    "((earnings_dates_for_tickers['time_5d_T2']-earnings_dates_for_tickers['time_5d_T1'])-(earnings_dates_for_tickers['time_T2']-earnings_dates_for_tickers['time_T1'])).min()"
   ]
  },
  {
   "cell_type": "code",
   "execution_count": 12,
   "metadata": {},
   "outputs": [
    {
     "data": {
      "text/plain": [
       "0.06829962706721962"
      ]
     },
     "execution_count": 12,
     "metadata": {},
     "output_type": "execute_result"
    }
   ],
   "source": [
    "np.nanmean(np.sqrt(event_var_0d))"
   ]
  },
  {
   "cell_type": "code",
   "execution_count": 13,
   "metadata": {},
   "outputs": [
    {
     "data": {
      "text/plain": [
       "0.07052639536051296"
      ]
     },
     "execution_count": 13,
     "metadata": {},
     "output_type": "execute_result"
    }
   ],
   "source": [
    "forward_vol_5d = np.sqrt((earnings_dates_for_tickers['time_5d_T2']*earnings_dates_for_tickers['straddle_iv_5d_T2']**2.0-earnings_dates_for_tickers['time_5d_T1']*earnings_dates_for_tickers['straddle_iv_5d_T1']**2.0)/(earnings_dates_for_tickers['time_5d_T2']-earnings_dates_for_tickers['time_5d_T1']))\n",
    "event_var_5d = earnings_dates_for_tickers['time_5d_T1']*(earnings_dates_for_tickers['straddle_iv_5d_T1']**2.0-forward_vol_5d**2.0)\n",
    "np.nanmean(np.sqrt(event_var_5d))"
   ]
  },
  {
   "cell_type": "code",
   "execution_count": 14,
   "metadata": {},
   "outputs": [],
   "source": [
    "forward_vol_4d = np.sqrt((earnings_dates_for_tickers['time_4d_T2']*earnings_dates_for_tickers['straddle_iv_4d_T2']**2.0-earnings_dates_for_tickers['time_4d_T1']*earnings_dates_for_tickers['straddle_iv_4d_T1']**2.0)/(earnings_dates_for_tickers['time_4d_T2']-earnings_dates_for_tickers['time_4d_T1']))\n",
    "event_var_4d = earnings_dates_for_tickers['time_4d_T1']*(earnings_dates_for_tickers['straddle_iv_4d_T1']**2.0-forward_vol_4d**2.0)\n",
    "forward_vol_3d = np.sqrt((earnings_dates_for_tickers['time_3d_T2']*earnings_dates_for_tickers['straddle_iv_3d_T2']**2.0-earnings_dates_for_tickers['time_3d_T1']*earnings_dates_for_tickers['straddle_iv_3d_T1']**2.0)/(earnings_dates_for_tickers['time_3d_T2']-earnings_dates_for_tickers['time_3d_T1']))\n",
    "event_var_3d = earnings_dates_for_tickers['time_3d_T1']*(earnings_dates_for_tickers['straddle_iv_3d_T1']**2.0-forward_vol_3d**2.0)\n",
    "forward_vol_2d = np.sqrt((earnings_dates_for_tickers['time_2d_T2']*earnings_dates_for_tickers['straddle_iv_2d_T2']**2.0-earnings_dates_for_tickers['time_2d_T1']*earnings_dates_for_tickers['straddle_iv_2d_T1']**2.0)/(earnings_dates_for_tickers['time_2d_T2']-earnings_dates_for_tickers['time_2d_T1']))\n",
    "event_var_2d = earnings_dates_for_tickers['time_2d_T1']*(earnings_dates_for_tickers['straddle_iv_2d_T1']**2.0-forward_vol_2d**2.0)\n",
    "forward_vol_1d = np.sqrt((earnings_dates_for_tickers['time_1d_T2']*earnings_dates_for_tickers['straddle_iv_1d_T2']**2.0-earnings_dates_for_tickers['time_1d_T1']*earnings_dates_for_tickers['straddle_iv_1d_T1']**2.0)/(earnings_dates_for_tickers['time_1d_T2']-earnings_dates_for_tickers['time_1d_T1']))\n",
    "event_var_1d = earnings_dates_for_tickers['time_1d_T1']*(earnings_dates_for_tickers['straddle_iv_1d_T1']**2.0-forward_vol_4d**2.0)"
   ]
  },
  {
   "cell_type": "code",
   "execution_count": 15,
   "metadata": {},
   "outputs": [],
   "source": [
    "length = len(event_var_0d)\n",
    "results = np.zeros((length, 4))  # Prepare array to store slope, intercept, R^2, p-value\n",
    "\n",
    "for i in range(length):\n",
    "    # Check if the initial value is NaN\n",
    "    if np.isnan(event_var_0d[i]):\n",
    "        results[i] = [np.nan] * 4\n",
    "        continue  # Skip to the next iteration\n",
    "    \n",
    "    # Gather data into the y array\n",
    "    y = np.sqrt(np.array([event_var_0d[i], event_var_1d[i], event_var_2d[i], event_var_3d[i], event_var_4d[i], event_var_5d[i]]))\n",
    "    \n",
    "    # Check if there are at least 4 non-NaN values\n",
    "    if np.count_nonzero(~np.isnan(y)) >= 4:\n",
    "        # Filter out NaN values from both x and y\n",
    "        valid_indices = ~np.isnan(y)\n",
    "        x_filtered = np.array([0, 1, 2, 3, 4, 5])[valid_indices]\n",
    "        y_filtered = y[valid_indices]\n",
    "        \n",
    "        # Perform linear regression\n",
    "        regression = linregress(x_filtered, y_filtered)\n",
    "        \n",
    "        slope = regression.slope\n",
    "        intercept = regression.intercept\n",
    "        r_value = regression.rvalue\n",
    "        p_value = regression.pvalue\n",
    "        std_err = regression.stderr\n",
    "\n",
    "        # Calculate R^2\n",
    "        r_squared = r_value ** 2\n",
    "\n",
    "        # Store the results\n",
    "        results[i] = [slope, intercept, r_squared, p_value]\n",
    "    else:\n",
    "        # Not enough data to perform a reliable regression\n",
    "        results[i] = [np.nan] * 4"
   ]
  },
  {
   "cell_type": "code",
   "execution_count": 22,
   "metadata": {},
   "outputs": [],
   "source": [
    "length = len(event_var_0d)\n",
    "results_var = np.zeros((length, 6))  # Prepare array to store slope, intercept, R^2, p-value\n",
    "\n",
    "for i in range(length):\n",
    "    # Check if the initial value is NaN\n",
    "    if np.isnan(event_var_0d[i]):\n",
    "        results_var[i] = [np.nan] * 6\n",
    "        continue  # Skip to the next iteration\n",
    "    \n",
    "    # Gather data into the y array\n",
    "    y = np.array([event_var_0d[i], event_var_1d[i], event_var_2d[i], event_var_3d[i], event_var_4d[i], event_var_5d[i]])\n",
    "    \n",
    "    # Check if there are at least 4 non-NaN values\n",
    "    if np.count_nonzero(~np.isnan(y)) >= 4:\n",
    "        # Filter out NaN values from both x and y5\n",
    "        valid_indices = ~np.isnan(y)\n",
    "        x_filtered = np.array([0, 1, 2, 3, 4, 5])[valid_indices]\n",
    "        y_filtered = y[valid_indices]\n",
    "        \n",
    "        # Perform linear regression\n",
    "        regression = linregress(x_filtered, y_filtered)\n",
    "        \n",
    "        slope = regression.slope\n",
    "        intercept = regression.intercept\n",
    "        r_value = regression.rvalue\n",
    "        p_value = regression.pvalue\n",
    "        std_err = regression.stderr\n",
    "        # Calculate R^2\n",
    "        r_squared = r_value ** 2\n",
    "        Inc = np.all(np.diff(y_filtered) <= 0)\n",
    "        Dec = np.all(np.diff(y_filtered) >= 0)\n",
    "\n",
    "        # Store the results\n",
    "        results_var[i] = [slope, intercept, r_squared, p_value,Inc,Dec]\n",
    "    else:\n",
    "        # Not enough data to perform a reliable regression\n",
    "        results_var[i] = [np.nan] * 6"
   ]
  },
  {
   "cell_type": "code",
   "execution_count": 19,
   "metadata": {},
   "outputs": [
    {
     "data": {
      "text/plain": [
       "array([ 0.,  0., nan, ..., nan, nan, nan])"
      ]
     },
     "execution_count": 19,
     "metadata": {},
     "output_type": "execute_result"
    }
   ],
   "source": [
    "results_var[:,4]"
   ]
  },
  {
   "cell_type": "code",
   "execution_count": 17,
   "metadata": {},
   "outputs": [
    {
     "data": {
      "text/plain": [
       "-112.99499415054657"
      ]
     },
     "execution_count": 17,
     "metadata": {},
     "output_type": "execute_result"
    }
   ],
   "source": [
    "np.nanmean(np.where(results_var[:,4],earnings_dates_for_tickers['straddle_pnl'],np.nan))"
   ]
  },
  {
   "cell_type": "code",
   "execution_count": null,
   "metadata": {},
   "outputs": [],
   "source": []
  },
  {
   "cell_type": "code",
   "execution_count": 18,
   "metadata": {},
   "outputs": [
    {
     "data": {
      "text/plain": [
       "-133.43418745819608"
      ]
     },
     "execution_count": 18,
     "metadata": {},
     "output_type": "execute_result"
    }
   ],
   "source": [
    "np.nanmean(np.where(results_var[:,5],earnings_dates_for_tickers['straddle_pnl'],np.nan))"
   ]
  },
  {
   "cell_type": "code",
   "execution_count": 23,
   "metadata": {},
   "outputs": [
    {
     "data": {
      "text/plain": [
       "427"
      ]
     },
     "execution_count": 23,
     "metadata": {},
     "output_type": "execute_result"
    }
   ],
   "source": [
    "earnings_dates_for_tickers['straddle_mon_inc'] = np.where(results_var[:,4],earnings_dates_for_tickers['straddle_pnl'],np.nan)\n",
    "earnings_dates_for_tickers['straddle_mon_inc'].count()"
   ]
  },
  {
   "cell_type": "code",
   "execution_count": 24,
   "metadata": {},
   "outputs": [
    {
     "data": {
      "text/plain": [
       "383"
      ]
     },
     "execution_count": 24,
     "metadata": {},
     "output_type": "execute_result"
    }
   ],
   "source": [
    "earnings_dates_for_tickers['straddle_mon_dec'] = np.where(results_var[:,5],earnings_dates_for_tickers['straddle_pnl'],np.nan)\n",
    "earnings_dates_for_tickers['straddle_mon_dec'].count()"
   ]
  },
  {
   "cell_type": "code",
   "execution_count": 25,
   "metadata": {},
   "outputs": [
    {
     "data": {
      "text/plain": [
       "array([0.00295695, 0.000935  ,        nan, ...,        nan,        nan,\n",
       "              nan])"
      ]
     },
     "execution_count": 25,
     "metadata": {},
     "output_type": "execute_result"
    }
   ],
   "source": [
    "results[:,0]"
   ]
  },
  {
   "cell_type": "code",
   "execution_count": 26,
   "metadata": {},
   "outputs": [
    {
     "name": "stdout",
     "output_type": "stream",
     "text": [
      "slope_decile\n",
      "(-0.028300000000000002, -0.00395]    90.262722\n",
      "(-0.00395, -0.00238]                 44.914255\n",
      "(-0.00238, -0.00157]                 11.040312\n",
      "(-0.00157, -0.000959]                68.201811\n",
      "(-0.000959, -0.000355]                8.773444\n",
      "(-0.000355, 0.000213]               -75.223889\n",
      "(0.000213, 0.00084]                 -51.906668\n",
      "(0.00084, 0.00161]                  -26.519052\n",
      "(0.00161, 0.00302]                   -0.468634\n",
      "(0.00302, 0.0313]                    79.304824\n",
      "Name: straddle_pnl, dtype: float64\n"
     ]
    }
   ],
   "source": [
    "earnings_dates_for_tickers['slope'] = results[:,0]\n",
    "num_quantiles = 10\n",
    "\n",
    "# Create deciles based on 'skew_25'\n",
    "earnings_dates_for_tickers['slope_decile'] = pd.qcut(earnings_dates_for_tickers['slope'], num_quantiles)\n",
    "\n",
    "# Calculate the mean 'straddle_pnl' for each decile\n",
    "mean_straddle_pnl_by_decile = earnings_dates_for_tickers.groupby('slope_decile')['straddle_pnl'].mean()\n",
    "\n",
    "print(mean_straddle_pnl_by_decile)"
   ]
  },
  {
   "cell_type": "code",
   "execution_count": 27,
   "metadata": {},
   "outputs": [
    {
     "name": "stdout",
     "output_type": "stream",
     "text": [
      "slope_var_decile\n",
      "(-0.0546, -0.000679]      65.463859\n",
      "(-0.000679, -0.000339]    61.161859\n",
      "(-0.000339, -0.000192]    53.521170\n",
      "(-0.000192, -0.000112]     7.276375\n",
      "(-0.000112, -4.34e-05]    16.415245\n",
      "(-4.34e-05, 1.15e-05]    -39.010574\n",
      "(1.15e-05, 8.31e-05]     -61.206061\n",
      "(8.31e-05, 0.000187]     -29.975648\n",
      "(0.000187, 0.000416]      -4.745804\n",
      "(0.000416, 0.0154]        69.383963\n",
      "Name: straddle_pnl, dtype: float64\n"
     ]
    }
   ],
   "source": [
    "earnings_dates_for_tickers['slope_var'] = results_var[:,0]\n",
    "num_quantiles = 10\n",
    "\n",
    "# Create deciles based on 'skew_25'\n",
    "earnings_dates_for_tickers['slope_var_decile'] = pd.qcut(earnings_dates_for_tickers['slope_var'], num_quantiles)\n",
    "\n",
    "# Calculate the mean 'straddle_pnl' for each decile\n",
    "mean_straddle_pnl_by_decile = earnings_dates_for_tickers.groupby('slope_var_decile')['straddle_pnl'].mean()\n",
    "\n",
    "print(mean_straddle_pnl_by_decile)"
   ]
  },
  {
   "cell_type": "code",
   "execution_count": 28,
   "metadata": {},
   "outputs": [
    {
     "name": "stdout",
     "output_type": "stream",
     "text": [
      "Is the array monotonically decreasing? True\n"
     ]
    }
   ],
   "source": [
    "array = np.array([5, 4, 4, 3, 2, 1])\n",
    "\n",
    "# Check if monotonically decreasing\n",
    "is_decreasing = np.all(np.diff(array) <= 0)\n",
    "\n",
    "print(\"Is the array monotonically decreasing?\", is_decreasing)"
   ]
  },
  {
   "cell_type": "code",
   "execution_count": 29,
   "metadata": {},
   "outputs": [
    {
     "name": "stdout",
     "output_type": "stream",
     "text": [
      "R2_decile\n",
      "(-0.0009998750000000001, 0.017]   -29.618104\n",
      "(0.017, 0.0635]                   -19.614196\n",
      "(0.0635, 0.133]                    33.929701\n",
      "(0.133, 0.221]                     -4.469671\n",
      "(0.221, 0.312]                    -32.136765\n",
      "(0.312, 0.414]                     51.683120\n",
      "(0.414, 0.522]                     75.557427\n",
      "(0.522, 0.644]                     52.195328\n",
      "(0.644, 0.776]                      0.560323\n",
      "(0.776, 0.996]                     37.263564\n",
      "Name: straddle_pnl, dtype: float64\n"
     ]
    }
   ],
   "source": [
    "earnings_dates_for_tickers['R2'] = results[:,2]\n",
    "num_quantiles = 10\n",
    "\n",
    "# Create deciles based on 'skew_25'\n",
    "earnings_dates_for_tickers['R2_decile'] = pd.qcut(earnings_dates_for_tickers['R2'], num_quantiles)\n",
    "\n",
    "# Calculate the mean 'straddle_pnl' for each decile\n",
    "mean_straddle_pnl_by_decile = earnings_dates_for_tickers.groupby('R2_decile')['straddle_pnl'].mean()\n",
    "\n",
    "print(mean_straddle_pnl_by_decile)"
   ]
  },
  {
   "cell_type": "code",
   "execution_count": 30,
   "metadata": {},
   "outputs": [
    {
     "name": "stdout",
     "output_type": "stream",
     "text": [
      "event_var_0d/5d_decile\n",
      "(0.196, 0.73]      40.607850\n",
      "(0.73, 0.839]      21.090807\n",
      "(0.839, 0.914]    -46.166353\n",
      "(0.914, 0.967]    -81.664113\n",
      "(0.967, 1.015]    -20.107372\n",
      "(1.015, 1.067]    -16.258767\n",
      "(1.067, 1.131]      5.224265\n",
      "(1.131, 1.209]     46.961187\n",
      "(1.209, 1.371]     63.630680\n",
      "(1.371, 18.175]    46.171802\n",
      "Name: straddle_pnl, dtype: float64\n"
     ]
    }
   ],
   "source": [
    "earnings_dates_for_tickers['event_var_0d/5d'] = np.sqrt(event_var_0d)/np.sqrt(event_var_5d)\n",
    "num_quantiles = 10\n",
    "\n",
    "# Create deciles based on 'skew_25'\n",
    "earnings_dates_for_tickers['event_var_0d/5d_decile'] = pd.qcut(earnings_dates_for_tickers['event_var_0d/5d'], num_quantiles)\n",
    "\n",
    "# Calculate the mean 'straddle_pnl' for each decile\n",
    "mean_straddle_pnl_by_decile = earnings_dates_for_tickers.groupby('event_var_0d/5d_decile')['straddle_pnl'].mean()\n",
    "\n",
    "print(mean_straddle_pnl_by_decile)"
   ]
  },
  {
   "cell_type": "code",
   "execution_count": 36,
   "metadata": {},
   "outputs": [
    {
     "name": "stdout",
     "output_type": "stream",
     "text": [
      "event_var_0d/1d_decile\n",
      "(0.112, 0.855]    33.075320\n",
      "(0.855, 0.911]   -20.461421\n",
      "(0.911, 0.945]   -14.216172\n",
      "(0.945, 0.977]   -16.588746\n",
      "(0.977, 1.005]     0.245918\n",
      "(1.005, 1.036]    10.329331\n",
      "(1.036, 1.071]    20.094010\n",
      "(1.071, 1.117]    40.685125\n",
      "(1.117, 1.205]    74.205822\n",
      "(1.205, 6.31]     35.717848\n",
      "Name: straddle_pnl, dtype: float64\n"
     ]
    }
   ],
   "source": [
    "earnings_dates_for_tickers['event_var_0d/1d'] = np.sqrt(event_var_0d)/np.sqrt(event_var_1d)\n",
    "num_quantiles = 10\n",
    "\n",
    "# Create deciles based on 'skew_25'\n",
    "earnings_dates_for_tickers['event_var_0d/1d_decile'] = pd.qcut(earnings_dates_for_tickers['event_var_0d/1d'], num_quantiles)\n",
    "\n",
    "# Calculate the mean 'straddle_pnl' for each decile\n",
    "mean_straddle_pnl_by_decile = earnings_dates_for_tickers.groupby('event_var_0d/1d_decile')['straddle_pnl'].mean()\n",
    "\n",
    "print(mean_straddle_pnl_by_decile)"
   ]
  },
  {
   "cell_type": "code",
   "execution_count": 31,
   "metadata": {},
   "outputs": [
    {
     "name": "stdout",
     "output_type": "stream",
     "text": [
      "slope/intercept_decile\n",
      "(-0.225, -0.0548]      72.080649\n",
      "(-0.0548, -0.0369]     75.703051\n",
      "(-0.0369, -0.0249]     50.606719\n",
      "(-0.0249, -0.0154]     31.092443\n",
      "(-0.0154, -0.00633]   -24.396054\n",
      "(-0.00633, 0.00389]   -53.272032\n",
      "(0.00389, 0.0145]     -54.442556\n",
      "(0.0145, 0.0293]      -23.256445\n",
      "(0.0293, 0.0612]       41.571909\n",
      "(0.0612, 5.058]        37.499046\n",
      "Name: straddle_pnl, dtype: float64\n"
     ]
    }
   ],
   "source": [
    "earnings_dates_for_tickers['slope/intercept'] = results[:,0]/results[:,1]\n",
    "num_quantiles = 10\n",
    "\n",
    "# Create deciles based on 'skew_25'\n",
    "earnings_dates_for_tickers['slope/intercept_decile'] = pd.qcut(earnings_dates_for_tickers['slope/intercept'], num_quantiles)\n",
    "\n",
    "# Calculate the mean 'straddle_pnl' for each decile\n",
    "mean_straddle_pnl_by_decile = earnings_dates_for_tickers.groupby('slope/intercept_decile')['straddle_pnl'].mean()\n",
    "\n",
    "print(mean_straddle_pnl_by_decile)"
   ]
  },
  {
   "cell_type": "code",
   "execution_count": 32,
   "metadata": {},
   "outputs": [
    {
     "name": "stdout",
     "output_type": "stream",
     "text": [
      "slope/event_vol_0d_decile\n",
      "(-0.837, -0.0553]      72.449892\n",
      "(-0.0553, -0.0367]     68.307633\n",
      "(-0.0367, -0.025]      53.748790\n",
      "(-0.025, -0.0155]      36.558937\n",
      "(-0.0155, -0.00643]   -22.627018\n",
      "(-0.00643, 0.00392]   -53.961315\n",
      "(0.00392, 0.0145]     -56.979594\n",
      "(0.0145, 0.029]       -26.174494\n",
      "(0.029, 0.0591]        39.793851\n",
      "(0.0591, 0.528]        44.193808\n",
      "Name: straddle_pnl, dtype: float64\n"
     ]
    }
   ],
   "source": [
    "earnings_dates_for_tickers['slope/event_vol_0d'] = results[:,0]/np.sqrt(event_var_0d)\n",
    "num_quantiles = 10\n",
    "\n",
    "# Create deciles based on 'skew_25'\n",
    "earnings_dates_for_tickers['slope/event_vol_0d_decile'] = pd.qcut(earnings_dates_for_tickers['slope/event_vol_0d'], num_quantiles)\n",
    "\n",
    "# Calculate the mean 'straddle_pnl' for each decile\n",
    "mean_straddle_pnl_by_decile = earnings_dates_for_tickers.groupby('slope/event_vol_0d_decile')['straddle_pnl'].mean()\n",
    "\n",
    "print(mean_straddle_pnl_by_decile)"
   ]
  },
  {
   "cell_type": "code",
   "execution_count": 33,
   "metadata": {},
   "outputs": [
    {
     "name": "stdout",
     "output_type": "stream",
     "text": [
      "change_event_vol_0d_5d_decile\n",
      "(-0.197, -0.0187]       95.058269\n",
      "(-0.0187, -0.0106]     -21.221712\n",
      "(-0.0106, -0.00572]    -85.305601\n",
      "(-0.00572, -0.00206]   -36.554346\n",
      "(-0.00206, 0.000849]   -39.894627\n",
      "(0.000849, 0.00399]    -18.619342\n",
      "(0.00399, 0.00741]     -20.663844\n",
      "(0.00741, 0.0119]       96.040451\n",
      "(0.0119, 0.0205]        -2.683287\n",
      "(0.0205, 0.167]         83.926670\n",
      "Name: straddle_pnl, dtype: float64\n"
     ]
    }
   ],
   "source": [
    "earnings_dates_for_tickers['change_event_vol_0d_5d'] = np.sqrt(event_var_0d) - np.sqrt(event_var_5d)\n",
    "num_quantiles = 10\n",
    "\n",
    "# Create deciles based on 'skew_25'\n",
    "earnings_dates_for_tickers['change_event_vol_0d_5d_decile'] = pd.qcut(earnings_dates_for_tickers['change_event_vol_0d_5d'], num_quantiles)\n",
    "\n",
    "# Calculate the mean 'straddle_pnl' for each decile\n",
    "mean_straddle_pnl_by_decile = earnings_dates_for_tickers.groupby('change_event_vol_0d_5d_decile')['straddle_pnl'].mean()\n",
    "\n",
    "print(mean_straddle_pnl_by_decile)"
   ]
  },
  {
   "cell_type": "code",
   "execution_count": 34,
   "metadata": {},
   "outputs": [
    {
     "data": {
      "text/html": [
       "<div>\n",
       "<style scoped>\n",
       "    .dataframe tbody tr th:only-of-type {\n",
       "        vertical-align: middle;\n",
       "    }\n",
       "\n",
       "    .dataframe tbody tr th {\n",
       "        vertical-align: top;\n",
       "    }\n",
       "\n",
       "    .dataframe thead th {\n",
       "        text-align: right;\n",
       "    }\n",
       "</style>\n",
       "<table border=\"1\" class=\"dataframe\">\n",
       "  <thead>\n",
       "    <tr style=\"text-align: right;\">\n",
       "      <th>kurt25_quintile</th>\n",
       "      <th>(-27.842000000000002, -1.869]</th>\n",
       "      <th>(-1.869, -0.614]</th>\n",
       "      <th>(-0.614, 0.593]</th>\n",
       "      <th>(0.593, 2.184]</th>\n",
       "      <th>(2.184, 452.588]</th>\n",
       "    </tr>\n",
       "    <tr>\n",
       "      <th>slope_intercept_quintile</th>\n",
       "      <th></th>\n",
       "      <th></th>\n",
       "      <th></th>\n",
       "      <th></th>\n",
       "      <th></th>\n",
       "    </tr>\n",
       "  </thead>\n",
       "  <tbody>\n",
       "    <tr>\n",
       "      <th>(-0.225, -0.0369]</th>\n",
       "      <td>51.544730</td>\n",
       "      <td>131.734786</td>\n",
       "      <td>-23.793949</td>\n",
       "      <td>78.397188</td>\n",
       "      <td>106.148490</td>\n",
       "    </tr>\n",
       "    <tr>\n",
       "      <th>(-0.0369, -0.0154]</th>\n",
       "      <td>-2.574032</td>\n",
       "      <td>30.507936</td>\n",
       "      <td>53.539688</td>\n",
       "      <td>65.460837</td>\n",
       "      <td>85.718878</td>\n",
       "    </tr>\n",
       "    <tr>\n",
       "      <th>(-0.0154, 0.00389]</th>\n",
       "      <td>-45.608870</td>\n",
       "      <td>-28.603261</td>\n",
       "      <td>2.983397</td>\n",
       "      <td>-72.526379</td>\n",
       "      <td>-83.690604</td>\n",
       "    </tr>\n",
       "    <tr>\n",
       "      <th>(0.00389, 0.0293]</th>\n",
       "      <td>-74.337932</td>\n",
       "      <td>-55.630854</td>\n",
       "      <td>-7.007747</td>\n",
       "      <td>-118.637443</td>\n",
       "      <td>98.849850</td>\n",
       "    </tr>\n",
       "    <tr>\n",
       "      <th>(0.0293, 5.058]</th>\n",
       "      <td>-12.268001</td>\n",
       "      <td>43.870289</td>\n",
       "      <td>40.957255</td>\n",
       "      <td>131.646697</td>\n",
       "      <td>56.078944</td>\n",
       "    </tr>\n",
       "  </tbody>\n",
       "</table>\n",
       "</div>"
      ],
      "text/plain": [
       "kurt25_quintile           (-27.842000000000002, -1.869]  (-1.869, -0.614]  \\\n",
       "slope_intercept_quintile                                                    \n",
       "(-0.225, -0.0369]                             51.544730        131.734786   \n",
       "(-0.0369, -0.0154]                            -2.574032         30.507936   \n",
       "(-0.0154, 0.00389]                           -45.608870        -28.603261   \n",
       "(0.00389, 0.0293]                            -74.337932        -55.630854   \n",
       "(0.0293, 5.058]                              -12.268001         43.870289   \n",
       "\n",
       "kurt25_quintile           (-0.614, 0.593]  (0.593, 2.184]  (2.184, 452.588]  \n",
       "slope_intercept_quintile                                                     \n",
       "(-0.225, -0.0369]              -23.793949       78.397188        106.148490  \n",
       "(-0.0369, -0.0154]              53.539688       65.460837         85.718878  \n",
       "(-0.0154, 0.00389]               2.983397      -72.526379        -83.690604  \n",
       "(0.00389, 0.0293]               -7.007747     -118.637443         98.849850  \n",
       "(0.0293, 5.058]                 40.957255      131.646697         56.078944  "
      ]
     },
     "execution_count": 34,
     "metadata": {},
     "output_type": "execute_result"
    }
   ],
   "source": [
    "earnings_dates_for_tickers['slope_intercept_quintile'] = pd.qcut(earnings_dates_for_tickers['slope/intercept'], 5)\n",
    "earnings_dates_for_tickers['kurt25_quintile'] = pd.qcut(earnings_dates_for_tickers['kurt_25'], 5)\n",
    "\n",
    "# Group by the quintile categories and calculate the mean of 'straddle_pnl'\n",
    "cross_quantile_means = earnings_dates_for_tickers.groupby(['slope_intercept_quintile', 'kurt25_quintile'])['straddle_pnl'].mean()\n",
    "\n",
    "# Convert the results into a 5x5 DataFrame\n",
    "cross_quantile_matrix = cross_quantile_means.unstack(level=-1)\n",
    "cross_quantile_matrix"
   ]
  },
  {
   "cell_type": "code",
   "execution_count": 35,
   "metadata": {},
   "outputs": [
    {
     "data": {
      "text/html": [
       "<div>\n",
       "<style scoped>\n",
       "    .dataframe tbody tr th:only-of-type {\n",
       "        vertical-align: middle;\n",
       "    }\n",
       "\n",
       "    .dataframe tbody tr th {\n",
       "        vertical-align: top;\n",
       "    }\n",
       "\n",
       "    .dataframe thead th {\n",
       "        text-align: right;\n",
       "    }\n",
       "</style>\n",
       "<table border=\"1\" class=\"dataframe\">\n",
       "  <thead>\n",
       "    <tr style=\"text-align: right;\">\n",
       "      <th>R2_quintile</th>\n",
       "      <th>(-0.0009998750000000001, 0.0635]</th>\n",
       "      <th>(0.0635, 0.221]</th>\n",
       "      <th>(0.221, 0.414]</th>\n",
       "      <th>(0.414, 0.644]</th>\n",
       "      <th>(0.644, 0.996]</th>\n",
       "    </tr>\n",
       "    <tr>\n",
       "      <th>slope_intercept_quintile</th>\n",
       "      <th></th>\n",
       "      <th></th>\n",
       "      <th></th>\n",
       "      <th></th>\n",
       "      <th></th>\n",
       "    </tr>\n",
       "  </thead>\n",
       "  <tbody>\n",
       "    <tr>\n",
       "      <th>(-0.225, -0.0369]</th>\n",
       "      <td>106.079466</td>\n",
       "      <td>135.365819</td>\n",
       "      <td>126.860762</td>\n",
       "      <td>70.316853</td>\n",
       "      <td>43.413676</td>\n",
       "    </tr>\n",
       "    <tr>\n",
       "      <th>(-0.0369, -0.0154]</th>\n",
       "      <td>17.699288</td>\n",
       "      <td>46.138731</td>\n",
       "      <td>33.739371</td>\n",
       "      <td>111.675990</td>\n",
       "      <td>-55.020495</td>\n",
       "    </tr>\n",
       "    <tr>\n",
       "      <th>(-0.0154, 0.00389]</th>\n",
       "      <td>-31.881962</td>\n",
       "      <td>-84.304897</td>\n",
       "      <td>-67.643259</td>\n",
       "      <td>194.190843</td>\n",
       "      <td>176.888808</td>\n",
       "    </tr>\n",
       "    <tr>\n",
       "      <th>(0.00389, 0.0293]</th>\n",
       "      <td>-31.029183</td>\n",
       "      <td>-22.138196</td>\n",
       "      <td>-108.410263</td>\n",
       "      <td>-33.735752</td>\n",
       "      <td>34.469005</td>\n",
       "    </tr>\n",
       "    <tr>\n",
       "      <th>(0.0293, 5.058]</th>\n",
       "      <td>140.943817</td>\n",
       "      <td>123.647253</td>\n",
       "      <td>10.565298</td>\n",
       "      <td>43.275472</td>\n",
       "      <td>10.828758</td>\n",
       "    </tr>\n",
       "  </tbody>\n",
       "</table>\n",
       "</div>"
      ],
      "text/plain": [
       "R2_quintile               (-0.0009998750000000001, 0.0635]  (0.0635, 0.221]  \\\n",
       "slope_intercept_quintile                                                      \n",
       "(-0.225, -0.0369]                               106.079466       135.365819   \n",
       "(-0.0369, -0.0154]                               17.699288        46.138731   \n",
       "(-0.0154, 0.00389]                              -31.881962       -84.304897   \n",
       "(0.00389, 0.0293]                               -31.029183       -22.138196   \n",
       "(0.0293, 5.058]                                 140.943817       123.647253   \n",
       "\n",
       "R2_quintile               (0.221, 0.414]  (0.414, 0.644]  (0.644, 0.996]  \n",
       "slope_intercept_quintile                                                  \n",
       "(-0.225, -0.0369]             126.860762       70.316853       43.413676  \n",
       "(-0.0369, -0.0154]             33.739371      111.675990      -55.020495  \n",
       "(-0.0154, 0.00389]            -67.643259      194.190843      176.888808  \n",
       "(0.00389, 0.0293]            -108.410263      -33.735752       34.469005  \n",
       "(0.0293, 5.058]                10.565298       43.275472       10.828758  "
      ]
     },
     "execution_count": 35,
     "metadata": {},
     "output_type": "execute_result"
    }
   ],
   "source": [
    "earnings_dates_for_tickers['slope_intercept_quintile'] = pd.qcut(earnings_dates_for_tickers['slope/intercept'], 5)\n",
    "earnings_dates_for_tickers['R2_quintile'] = pd.qcut(earnings_dates_for_tickers['R2'], 5)\n",
    "\n",
    "# Group by the quintile categories and calculate the mean of 'straddle_pnl'\n",
    "cross_quantile_means = earnings_dates_for_tickers.groupby(['slope_intercept_quintile', 'R2_quintile'])['straddle_pnl'].mean()\n",
    "\n",
    "# Convert the results into a 5x5 DataFrame\n",
    "cross_quantile_matrix = cross_quantile_means.unstack(level=-1)\n",
    "cross_quantile_matrix"
   ]
  },
  {
   "cell_type": "code",
   "execution_count": null,
   "metadata": {},
   "outputs": [],
   "source": []
  },
  {
   "cell_type": "code",
   "execution_count": 21,
   "metadata": {},
   "outputs": [],
   "source": [
    "grouped = earnings_dates_for_tickers.groupby(['slope_intercept_quintile', 'kurt25_quintile'])['straddle_pnl']\n",
    "mean_std_ratio = grouped.mean() / grouped.std()\n",
    "\n",
    "# Convert the results into a 5x5 DataFrame\n",
    "mean_std_ratio_matrix = mean_std_ratio.unstack(level=-1)"
   ]
  },
  {
   "cell_type": "code",
   "execution_count": 22,
   "metadata": {},
   "outputs": [
    {
     "data": {
      "text/html": [
       "<div>\n",
       "<style scoped>\n",
       "    .dataframe tbody tr th:only-of-type {\n",
       "        vertical-align: middle;\n",
       "    }\n",
       "\n",
       "    .dataframe tbody tr th {\n",
       "        vertical-align: top;\n",
       "    }\n",
       "\n",
       "    .dataframe thead th {\n",
       "        text-align: right;\n",
       "    }\n",
       "</style>\n",
       "<table border=\"1\" class=\"dataframe\">\n",
       "  <thead>\n",
       "    <tr style=\"text-align: right;\">\n",
       "      <th>kurt25_quintile</th>\n",
       "      <th>(-27.842000000000002, -1.869]</th>\n",
       "      <th>(-1.869, -0.614]</th>\n",
       "      <th>(-0.614, 0.593]</th>\n",
       "      <th>(0.593, 2.184]</th>\n",
       "      <th>(2.184, 452.588]</th>\n",
       "    </tr>\n",
       "    <tr>\n",
       "      <th>slope_intercept_quintile</th>\n",
       "      <th></th>\n",
       "      <th></th>\n",
       "      <th></th>\n",
       "      <th></th>\n",
       "      <th></th>\n",
       "    </tr>\n",
       "  </thead>\n",
       "  <tbody>\n",
       "    <tr>\n",
       "      <th>(-0.225, -0.0369]</th>\n",
       "      <td>0.085542</td>\n",
       "      <td>0.236351</td>\n",
       "      <td>-0.030334</td>\n",
       "      <td>0.159737</td>\n",
       "      <td>0.235059</td>\n",
       "    </tr>\n",
       "    <tr>\n",
       "      <th>(-0.0369, -0.0154]</th>\n",
       "      <td>-0.003841</td>\n",
       "      <td>0.052763</td>\n",
       "      <td>0.084942</td>\n",
       "      <td>0.111922</td>\n",
       "      <td>0.157910</td>\n",
       "    </tr>\n",
       "    <tr>\n",
       "      <th>(-0.0154, 0.00389]</th>\n",
       "      <td>-0.073779</td>\n",
       "      <td>-0.045998</td>\n",
       "      <td>0.003999</td>\n",
       "      <td>-0.112194</td>\n",
       "      <td>-0.120020</td>\n",
       "    </tr>\n",
       "    <tr>\n",
       "      <th>(0.00389, 0.0293]</th>\n",
       "      <td>-0.103025</td>\n",
       "      <td>-0.076796</td>\n",
       "      <td>-0.011100</td>\n",
       "      <td>-0.133409</td>\n",
       "      <td>0.217628</td>\n",
       "    </tr>\n",
       "    <tr>\n",
       "      <th>(0.0293, 5.058]</th>\n",
       "      <td>-0.021765</td>\n",
       "      <td>0.082693</td>\n",
       "      <td>0.080436</td>\n",
       "      <td>0.277052</td>\n",
       "      <td>0.094157</td>\n",
       "    </tr>\n",
       "  </tbody>\n",
       "</table>\n",
       "</div>"
      ],
      "text/plain": [
       "kurt25_quintile           (-27.842000000000002, -1.869]  (-1.869, -0.614]  \\\n",
       "slope_intercept_quintile                                                    \n",
       "(-0.225, -0.0369]                              0.085542          0.236351   \n",
       "(-0.0369, -0.0154]                            -0.003841          0.052763   \n",
       "(-0.0154, 0.00389]                            -0.073779         -0.045998   \n",
       "(0.00389, 0.0293]                             -0.103025         -0.076796   \n",
       "(0.0293, 5.058]                               -0.021765          0.082693   \n",
       "\n",
       "kurt25_quintile           (-0.614, 0.593]  (0.593, 2.184]  (2.184, 452.588]  \n",
       "slope_intercept_quintile                                                     \n",
       "(-0.225, -0.0369]               -0.030334        0.159737          0.235059  \n",
       "(-0.0369, -0.0154]               0.084942        0.111922          0.157910  \n",
       "(-0.0154, 0.00389]               0.003999       -0.112194         -0.120020  \n",
       "(0.00389, 0.0293]               -0.011100       -0.133409          0.217628  \n",
       "(0.0293, 5.058]                  0.080436        0.277052          0.094157  "
      ]
     },
     "execution_count": 22,
     "metadata": {},
     "output_type": "execute_result"
    }
   ],
   "source": [
    "mean_std_ratio_matrix"
   ]
  },
  {
   "cell_type": "code",
   "execution_count": 27,
   "metadata": {},
   "outputs": [
    {
     "data": {
      "text/plain": [
       "1.072537728652541"
      ]
     },
     "execution_count": 27,
     "metadata": {},
     "output_type": "execute_result"
    }
   ],
   "source": [
    "np.nanmean(np.sqrt(event_var_0d)/np.sqrt(event_var_5d))"
   ]
  },
  {
   "cell_type": "code",
   "execution_count": 8,
   "metadata": {},
   "outputs": [
    {
     "name": "stdout",
     "output_type": "stream",
     "text": [
      "rat_5dvar_0dvar_decile\n",
      "(0.196, 0.73]      40.607850\n",
      "(0.73, 0.839]      21.090807\n",
      "(0.839, 0.914]    -46.166353\n",
      "(0.914, 0.967]    -81.664113\n",
      "(0.967, 1.015]    -20.107372\n",
      "(1.015, 1.067]    -16.258767\n",
      "(1.067, 1.131]      5.224265\n",
      "(1.131, 1.209]     46.961187\n",
      "(1.209, 1.371]     63.630680\n",
      "(1.371, 18.175]    46.171802\n",
      "Name: straddle_pnl, dtype: float64\n"
     ]
    }
   ],
   "source": [
    "earnings_dates_for_tickers['rat_5dvar_0dvar'] = np.sqrt(event_var_0d)/np.sqrt(event_var_5d)\n",
    "num_quantiles = 10\n",
    "\n",
    "# Create deciles based on 'skew_25'\n",
    "earnings_dates_for_tickers['rat_5dvar_0dvar_decile'] = pd.qcut(earnings_dates_for_tickers['rat_5dvar_0dvar'], num_quantiles)\n",
    "\n",
    "# Calculate the mean 'straddle_pnl' for each decile\n",
    "mean_straddle_pnl_by_decile = earnings_dates_for_tickers.groupby('rat_5dvar_0dvar_decile')['straddle_pnl'].mean()\n",
    "\n",
    "print(mean_straddle_pnl_by_decile)"
   ]
  },
  {
   "cell_type": "code",
   "execution_count": 137,
   "metadata": {},
   "outputs": [
    {
     "name": "stdout",
     "output_type": "stream",
     "text": [
      "event_0dvar_decile\n",
      "(0.00508, 0.033]   -10.334403\n",
      "(0.033, 0.039]      -4.919170\n",
      "(0.039, 0.0452]    -33.711344\n",
      "(0.0452, 0.0508]    54.738200\n",
      "(0.0508, 0.0582]     2.805874\n",
      "(0.0582, 0.0665]    40.523718\n",
      "(0.0665, 0.0775]     5.745473\n",
      "(0.0775, 0.0931]    44.837929\n",
      "(0.0931, 0.118]     18.649894\n",
      "(0.118, 0.281]      26.029763\n",
      "Name: straddle_pnl, dtype: float64\n"
     ]
    },
    {
     "ename": "",
     "evalue": "",
     "output_type": "error",
     "traceback": [
      "\u001b[1;31mThe Kernel crashed while executing code in the current cell or a previous cell. \n",
      "\u001b[1;31mPlease review the code in the cell(s) to identify a possible cause of the failure. \n",
      "\u001b[1;31mClick <a href='https://aka.ms/vscodeJupyterKernelCrash'>here</a> for more info. \n",
      "\u001b[1;31mView Jupyter <a href='command:jupyter.viewOutput'>log</a> for further details."
     ]
    }
   ],
   "source": [
    "earnings_dates_for_tickers['event_0dvar'] = np.sqrt(event_var_0d)\n",
    "num_quantiles = 10\n",
    "\n",
    "# Create deciles based on 'skew_25'\n",
    "earnings_dates_for_tickers['event_0dvar_decile'] = pd.qcut(earnings_dates_for_tickers['event_0dvar'], num_quantiles)\n",
    "\n",
    "# Calculate the mean 'straddle_pnl' for each decile\n",
    "mean_straddle_pnl_by_decile = earnings_dates_for_tickers.groupby('event_0dvar_decile')['straddle_pnl'].mean()\n",
    "\n",
    "print(mean_straddle_pnl_by_decile)"
   ]
  },
  {
   "cell_type": "code",
   "execution_count": 135,
   "metadata": {},
   "outputs": [
    {
     "data": {
      "text/plain": [
       "4517"
      ]
     },
     "execution_count": 135,
     "metadata": {},
     "output_type": "execute_result"
    }
   ],
   "source": [
    "earnings_dates_for_tickers['rat_5dvar_0dvar'].count()"
   ]
  },
  {
   "cell_type": "code",
   "execution_count": 66,
   "metadata": {},
   "outputs": [
    {
     "data": {
      "text/plain": [
       "0.06820326388689486"
      ]
     },
     "execution_count": 66,
     "metadata": {},
     "output_type": "execute_result"
    }
   ],
   "source": [
    "np.nanmean(np.sqrt(event_var_0d))"
   ]
  },
  {
   "cell_type": "code",
   "execution_count": 90,
   "metadata": {},
   "outputs": [
    {
     "data": {
      "text/html": [
       "<div>\n",
       "<style scoped>\n",
       "    .dataframe tbody tr th:only-of-type {\n",
       "        vertical-align: middle;\n",
       "    }\n",
       "\n",
       "    .dataframe tbody tr th {\n",
       "        vertical-align: top;\n",
       "    }\n",
       "\n",
       "    .dataframe thead th {\n",
       "        text-align: right;\n",
       "    }\n",
       "</style>\n",
       "<table border=\"1\" class=\"dataframe\">\n",
       "  <thead>\n",
       "    <tr style=\"text-align: right;\">\n",
       "      <th></th>\n",
       "      <th>Unnamed: 0.1</th>\n",
       "      <th>Unnamed: 0</th>\n",
       "      <th>index</th>\n",
       "      <th>Short_ticker</th>\n",
       "      <th>Name</th>\n",
       "      <th>Ticker</th>\n",
       "      <th>Date</th>\n",
       "      <th>Event Type</th>\n",
       "      <th>Adjusted Trading Date</th>\n",
       "      <th>trade_entry</th>\n",
       "      <th>...</th>\n",
       "      <th>straddle_iv_2d_T2</th>\n",
       "      <th>straddle_iv_3d_T2</th>\n",
       "      <th>straddle_iv_4d_T2</th>\n",
       "      <th>straddle_iv_5d_T2</th>\n",
       "      <th>time_T2</th>\n",
       "      <th>time_1d_T2</th>\n",
       "      <th>time_2d_T2</th>\n",
       "      <th>time_3d_T2</th>\n",
       "      <th>time_4d_T2</th>\n",
       "      <th>time_5d_T2</th>\n",
       "    </tr>\n",
       "  </thead>\n",
       "  <tbody>\n",
       "  </tbody>\n",
       "</table>\n",
       "<p>0 rows × 64 columns</p>\n",
       "</div>"
      ],
      "text/plain": [
       "Empty DataFrame\n",
       "Columns: [Unnamed: 0.1, Unnamed: 0, index, Short_ticker, Name, Ticker, Date, Event Type, Adjusted Trading Date, trade_entry, trade_exit, stock_price_entry, stock_price_exit, year_entry, year_exit, straddle_entry_mid, straddle_exit_mid, straddle_pnl, straddle_entry_vol, straddle_entry_bid, straddle_entry_offer, straddle_entry_gamma, straddle_entry_vega, straddle_entry_theta, straddle_entry_delta, straddle_entry_strike, IV_25c, IV_25p, IV_10c, IV_10p, IV_50c, skew_25, skew_25_decile, kurt_25, kurt_25_decile, prc_5Dbefore, prc_4Dbefore, prc_3Dbefore, prc_2Dbefore, prc_1Dbefore, straddle_iv_T1, straddle_iv_1d_T1, straddle_iv_2d_T1, straddle_iv_3d_T1, straddle_iv_4d_T1, straddle_iv_5d_T1, time_T1, time_1d_T1, time_2d_T1, time_3d_T1, time_4d_T1, time_5d_T1, straddle_iv_T2, straddle_iv_1d_T2, straddle_iv_2d_T2, straddle_iv_3d_T2, straddle_iv_4d_T2, straddle_iv_5d_T2, time_T2, time_1d_T2, time_2d_T2, time_3d_T2, time_4d_T2, time_5d_T2]\n",
       "Index: []\n",
       "\n",
       "[0 rows x 64 columns]"
      ]
     },
     "execution_count": 90,
     "metadata": {},
     "output_type": "execute_result"
    }
   ],
   "source": [
    "hundred[~np.isnan(hundred['straddle_iv_T1'])]"
   ]
  },
  {
   "cell_type": "code",
   "execution_count": null,
   "metadata": {},
   "outputs": [
    {
     "data": {
      "text/plain": [
       "Index(['secid', 'symbol', 'cp_flag', 'expiry_indicator', 'volume',\n",
       "       'strike_price', 'exdate', 'open_interest', 'impl_volatility',\n",
       "       'best_bid', 'best_offer', 'delta', 'gamma', 'vega', 'theta'],\n",
       "      dtype='object')"
      ]
     },
     "execution_count": 37,
     "metadata": {},
     "output_type": "execute_result"
    }
   ],
   "source": [
    "options_dict[2017].columns"
   ]
  },
  {
   "cell_type": "code",
   "execution_count": null,
   "metadata": {},
   "outputs": [],
   "source": [
    "def straddle_entry_mid(row):\n",
    "    if row['year_entry'] < 2017 or row['year_entry'] > 2023 or row['year_exit'] < 2017 or row['year_exit'] > 2023:\n",
    "        return np.nan\n",
    "    try:\n",
    "        options = options_dict[row['year_entry']].loc[(row['trade_entry'],row['Short_ticker'])]\n",
    "    except:\n",
    "        return np.nan\n",
    "    options['strike_price'] *= 0.001\n",
    "\n",
    "    # Calculate the absolute difference between 'strike_price' and row['stock_price_entry']\n",
    "    options['abs_difference'] = abs(options['strike_price'] - row['stock_price_entry'])\n",
    "\n",
    "    # Filter the DataFrame for rows with the minimum absolute difference\n",
    "    min_abs_difference = options['abs_difference'].min()\n",
    "    filtered_options = options[options['abs_difference'] == min_abs_difference]\n",
    "    if len(filtered_options) ==2 and ('C' in filtered_options['cp_flag'].values) and ('P' in filtered_options['cp_flag'].values):\n",
    "        return (filtered_options['best_bid'].mean()+filtered_options['best_offer'].mean())/2.0\n",
    "    return np.nan\n",
    "earnings_dates_for_tickers['straddle_entry_mid'] = earnings_dates_for_tickers.apply(straddle_entry_mid,axis = 1)"
   ]
  },
  {
   "cell_type": "code",
   "execution_count": null,
   "metadata": {},
   "outputs": [],
   "source": [
    "def straddle_entry(row):\n",
    "    if row['year_entry'] < 2017 or row['year_entry'] > 2023 or row['year_exit'] < 2017 or row['year_exit'] > 2023:\n",
    "        return np.nan*8\n",
    "    try:\n",
    "        options = options_dict[row['year_entry']].loc[(row['trade_entry'],row['Short_ticker'])]\n",
    "    except:\n",
    "        return np.nan*8\n",
    "\n",
    "    # Calculate the absolute difference between 'strike_price' and row['stock_price_entry']\n",
    "    options['abs_difference'] = abs(options['strike_price'] - row['stock_price_entry']*1000)\n",
    "\n",
    "    # Filter the DataFrame for rows with the minimum absolute difference\n",
    "    min_abs_difference = options['abs_difference'].min()\n",
    "    filtered_options = options[options['abs_difference'] == min_abs_difference]\n",
    "    if len(filtered_options) ==2 and ('C' in filtered_options['cp_flag'].values) and ('P' in filtered_options['cp_flag'].values):\n",
    "        return filtered_options['impl_volatility'].mean(),filtered_options['best_bid'].sum(),filtered_options['best_offer'].sum(),filtered_options['gamma'].sum(),filtered_options['vega'].sum(),filtered_options['theta'].sum(),filtered_options['delta'].sum(),filtered_options['strike_price'].mean()\n",
    "    return np.nan*8\n",
    "earnings_dates_for_tickers[['straddle_entry_vol','straddle_entry_bid','straddle_entry_offer','straddle_entry_gamma','straddle_entry_vega','straddle_entry_theta','straddle_entry_delta','straddle_entry_strike']] = earnings_dates_for_tickers.apply(straddle_entry,axis = 1, result_type = 'expand')"
   ]
  },
  {
   "cell_type": "code",
   "execution_count": null,
   "metadata": {},
   "outputs": [
    {
     "data": {
      "text/plain": [
       "5566"
      ]
     },
     "execution_count": 16,
     "metadata": {},
     "output_type": "execute_result"
    }
   ],
   "source": [
    "earnings_dates_for_tickers['straddle_entry_mid'].count()"
   ]
  },
  {
   "cell_type": "code",
   "execution_count": null,
   "metadata": {},
   "outputs": [],
   "source": [
    "def straddle_entry_skew_kurt(row):\n",
    "    if row['year_entry'] < 2017 or row['year_entry'] > 2023 or row['year_exit'] < 2017 or row['year_exit'] > 2023:\n",
    "        return np.nan*5\n",
    "    try:\n",
    "        options = options_dict[row['year_entry']].loc[(row['trade_entry'],row['Short_ticker'])]\n",
    "    except:\n",
    "        return np.nan*7\n",
    "    IV_25c = np.nan\n",
    "    IV_25p = np.nan\n",
    "    IV_10c = np.nan\n",
    "    IV_10p = np.nan\n",
    "    IV_50c = np.nan\n",
    "    # Calculate the absolute difference between 'strike_price' and row['stock_price_entry']\n",
    "    options['delta25_c_diff'] = abs(options['delta'] - 0.25)\n",
    "    options['delta25_p_diff'] = abs(options['delta'] + 0.25)\n",
    "    options['delta10_c_diff'] = abs(options['delta'] - 0.1)\n",
    "    options['delta10_p_diff'] = abs(options['delta'] + 0.1)\n",
    "    options['delta50_c_diff'] = abs(options['delta'] - 0.5)\n",
    "    min_delta25_c = options['delta25_c_diff'].min()\n",
    "    min_delta25_p = options['delta25_p_diff'].min()\n",
    "    min_delta10_c = options['delta10_c_diff'].min()\n",
    "    min_delta10_p = options['delta10_p_diff'].min()\n",
    "    min_delta50_c = options['delta50_c_diff'].min()\n",
    "    if min_delta25_c <= 0.05:\n",
    "        IV_25c = options[options['delta25_c_diff'] == min_delta25_c]['impl_volatility'].mean()\n",
    "    if min_delta25_p <= 0.05:\n",
    "        IV_25p = options[options['delta25_p_diff'] == min_delta25_p]['impl_volatility'].mean()\n",
    "    if min_delta10_c <= 0.02:\n",
    "        IV_10c = options[options['delta10_c_diff'] == min_delta10_c]['impl_volatility'].mean()\n",
    "    if min_delta10_p <= 0.05:\n",
    "        IV_10p = options[options['delta10_p_diff'] == min_delta10_p]['impl_volatility'].mean()\n",
    "    if min_delta50_c <= 0.1:\n",
    "        IV_50c = options[options['delta50_c_diff'] == min_delta50_c]['impl_volatility'].mean()\n",
    "    return IV_25c,IV_25p,IV_10c,IV_10p,IV_50c\n",
    "earnings_dates_for_tickers[['IV_25c','IV_25p','IV_10c','IV_10p','IV_50c']] = earnings_dates_for_tickers.apply(straddle_entry_skew_kurt,axis = 1, result_type = 'expand')"
   ]
  },
  {
   "cell_type": "code",
   "execution_count": null,
   "metadata": {},
   "outputs": [],
   "source": [
    "def straddle_exit_mid(row):\n",
    "    if row['year_entry'] < 2017 or row['year_entry'] > 2023 or row['year_exit'] < 2017 or row['year_exit'] > 2023:\n",
    "        return np.nan\n",
    "    try:\n",
    "        options = options_dict[row['year_exit']].loc[(row['trade_exit'],row['Short_ticker'])]\n",
    "    except:\n",
    "        return np.nan\n",
    "    options['strike_price'] *= 0.001\n",
    "\n",
    "    # Calculate the absolute difference between 'strike_price' and row['stock_price_entry']\n",
    "    options['abs_difference'] = abs(options['strike_price'] - row['stock_price_entry'])\n",
    "\n",
    "    # Filter the DataFrame for rows with the minimum absolute difference\n",
    "    min_abs_difference = options['abs_difference'].min()\n",
    "    filtered_options = options[options['abs_difference'] <= min_abs_difference+0.0001]\n",
    "    if len(filtered_options) ==2 and ('C' in filtered_options['cp_flag'].values) and ('P' in filtered_options['cp_flag'].values):\n",
    "        return (filtered_options['best_bid'].mean()+filtered_options['best_offer'].mean())/2.0\n",
    "    return np.nan\n",
    "earnings_dates_for_tickers['straddle_exit_mid'] = earnings_dates_for_tickers.apply(straddle_exit_mid,axis = 1)"
   ]
  },
  {
   "cell_type": "code",
   "execution_count": null,
   "metadata": {},
   "outputs": [
    {
     "data": {
      "text/plain": [
       "4693"
      ]
     },
     "execution_count": 18,
     "metadata": {},
     "output_type": "execute_result"
    }
   ],
   "source": [
    "earnings_dates_for_tickers['straddle_exit_mid'].count()"
   ]
  },
  {
   "cell_type": "code",
   "execution_count": null,
   "metadata": {},
   "outputs": [],
   "source": [
    "earnings_dates_for_tickers['straddle_pnl'] = (earnings_dates_for_tickers['straddle_entry_mid'] - earnings_dates_for_tickers['straddle_exit_mid'])*1000.0/earnings_dates_for_tickers['straddle_entry_mid']"
   ]
  },
  {
   "cell_type": "code",
   "execution_count": null,
   "metadata": {},
   "outputs": [
    {
     "data": {
      "text/plain": [
       "4263"
      ]
     },
     "execution_count": 21,
     "metadata": {},
     "output_type": "execute_result"
    }
   ],
   "source": [
    "earnings_dates_for_tickers['straddle_pnl'].count()"
   ]
  },
  {
   "cell_type": "code",
   "execution_count": null,
   "metadata": {},
   "outputs": [
    {
     "data": {
      "text/plain": [
       "720.5208311693931"
      ]
     },
     "execution_count": 22,
     "metadata": {},
     "output_type": "execute_result"
    }
   ],
   "source": [
    "earnings_dates_for_tickers['straddle_pnl'].std()"
   ]
  },
  {
   "cell_type": "code",
   "execution_count": null,
   "metadata": {},
   "outputs": [
    {
     "data": {
      "text/plain": [
       "Index(['Unnamed: 0', 'index', 'Short_ticker', 'Name', 'Ticker', 'Date',\n",
       "       'Event Type', 'Adjusted Trading Date', 'trade_entry', 'trade_exit',\n",
       "       'stock_price_entry', 'stock_price_exit', 'year_entry', 'year_exit',\n",
       "       'straddle_entry_mid', 'straddle_exit_mid', 'straddle_pnl',\n",
       "       'straddle_entry_bid', 'straddle_entry_offer', 'straddle_entry_gamma',\n",
       "       'straddle_entry_vega', 'straddle_entry_theta', 'straddle_entry_delta',\n",
       "       'straddle_entry_strike'],\n",
       "      dtype='object')"
      ]
     },
     "execution_count": 30,
     "metadata": {},
     "output_type": "execute_result"
    }
   ],
   "source": [
    "earnings_dates_for_tickers.columns"
   ]
  },
  {
   "cell_type": "code",
   "execution_count": null,
   "metadata": {},
   "outputs": [
    {
     "data": {
      "text/plain": [
       "1423"
      ]
     },
     "execution_count": 36,
     "metadata": {},
     "output_type": "execute_result"
    }
   ],
   "source": [
    "earnings_dates_for_tickers[np.abs(earnings_dates_for_tickers['straddle_entry_strike']*0.001-earnings_dates_for_tickers['stock_price_entry'])/earnings_dates_for_tickers['stock_price_entry'] < 0.05]['straddle_pnl'].count()"
   ]
  },
  {
   "cell_type": "code",
   "execution_count": null,
   "metadata": {},
   "outputs": [],
   "source": [
    "earnings_dates_for_tickers['skew_25'] = 4.4478*(earnings_dates_for_tickers['IV_25c']-earnings_dates_for_tickers['IV_25p'])/earnings_dates_for_tickers['IV_50c']"
   ]
  },
  {
   "cell_type": "code",
   "execution_count": null,
   "metadata": {},
   "outputs": [
    {
     "data": {
      "text/plain": [
       "5594"
      ]
     },
     "execution_count": 47,
     "metadata": {},
     "output_type": "execute_result"
    }
   ],
   "source": [
    "earnings_dates_for_tickers['kurt_25'] = 52.7546*(0.5*(earnings_dates_for_tickers['IV_25c']+earnings_dates_for_tickers['IV_25p'])/earnings_dates_for_tickers['IV_50c'] - 1.0)\n",
    "earnings_dates_for_tickers['kurt_25'].count()"
   ]
  },
  {
   "cell_type": "code",
   "execution_count": null,
   "metadata": {},
   "outputs": [
    {
     "data": {
      "text/plain": [
       "5594"
      ]
     },
     "execution_count": 43,
     "metadata": {},
     "output_type": "execute_result"
    }
   ],
   "source": [
    "earnings_dates_for_tickers['skew_25'].count()"
   ]
  },
  {
   "cell_type": "code",
   "execution_count": null,
   "metadata": {},
   "outputs": [
    {
     "data": {
      "text/plain": [
       "3613"
      ]
     },
     "execution_count": 44,
     "metadata": {},
     "output_type": "execute_result"
    }
   ],
   "source": [
    "(earnings_dates_for_tickers[['straddle_pnl', 'skew_25']].notna().all(axis=1)).sum()"
   ]
  },
  {
   "cell_type": "code",
   "execution_count": null,
   "metadata": {},
   "outputs": [
    {
     "data": {
      "text/plain": [
       "3613"
      ]
     },
     "execution_count": 48,
     "metadata": {},
     "output_type": "execute_result"
    }
   ],
   "source": [
    "(earnings_dates_for_tickers[['straddle_pnl', 'kurt_25']].notna().all(axis=1)).sum()"
   ]
  },
  {
   "cell_type": "code",
   "execution_count": 9,
   "metadata": {},
   "outputs": [
    {
     "name": "stdout",
     "output_type": "stream",
     "text": [
      "skew_25_decile\n",
      "(-20.905, -0.762]    45.359169\n",
      "(-0.762, -0.586]     22.012424\n",
      "(-0.586, -0.468]    -20.934392\n",
      "(-0.468, -0.368]     18.731875\n",
      "(-0.368, -0.272]     25.583620\n",
      "(-0.272, -0.171]    -32.543577\n",
      "(-0.171, -0.0677]    73.838410\n",
      "(-0.0677, 0.0608]    75.767279\n",
      "(0.0608, 0.263]     -20.306298\n",
      "(0.263, 11.769]     -52.400244\n",
      "Name: straddle_pnl, dtype: float64\n"
     ]
    }
   ],
   "source": [
    "num_quantiles = 10\n",
    "\n",
    "# Create deciles based on 'skew_25'\n",
    "earnings_dates_for_tickers['skew_25_decile'] = pd.qcut(earnings_dates_for_tickers['skew_25'], num_quantiles)\n",
    "\n",
    "# Calculate the mean 'straddle_pnl' for each decile\n",
    "mean_straddle_pnl_by_decile = earnings_dates_for_tickers.groupby('skew_25_decile')['straddle_pnl'].mean()\n",
    "\n",
    "print(mean_straddle_pnl_by_decile)"
   ]
  },
  {
   "cell_type": "code",
   "execution_count": null,
   "metadata": {},
   "outputs": [
    {
     "data": {
      "text/plain": [
       "25.82727723211073"
      ]
     },
     "execution_count": 46,
     "metadata": {},
     "output_type": "execute_result"
    }
   ],
   "source": [
    "earnings_dates_for_tickers[earnings_dates_for_tickers['skew_25']<0.0608]['straddle_pnl'].mean()"
   ]
  },
  {
   "cell_type": "code",
   "execution_count": 1,
   "metadata": {},
   "outputs": [
    {
     "ename": "NameError",
     "evalue": "name 'pd' is not defined",
     "output_type": "error",
     "traceback": [
      "\u001b[1;31m---------------------------------------------------------------------------\u001b[0m",
      "\u001b[1;31mNameError\u001b[0m                                 Traceback (most recent call last)",
      "Input \u001b[1;32mIn [1]\u001b[0m, in \u001b[0;36m<module>\u001b[1;34m\u001b[0m\n\u001b[0;32m      1\u001b[0m num_quantiles \u001b[38;5;241m=\u001b[39m \u001b[38;5;241m10\u001b[39m\n\u001b[0;32m      3\u001b[0m \u001b[38;5;66;03m# Create deciles based on 'skew_25'\u001b[39;00m\n\u001b[1;32m----> 4\u001b[0m earnings_dates_for_tickers[\u001b[38;5;124m'\u001b[39m\u001b[38;5;124mkurt_25_decile\u001b[39m\u001b[38;5;124m'\u001b[39m] \u001b[38;5;241m=\u001b[39m \u001b[43mpd\u001b[49m\u001b[38;5;241m.\u001b[39mqcut(earnings_dates_for_tickers[\u001b[38;5;124m'\u001b[39m\u001b[38;5;124mkurt_25\u001b[39m\u001b[38;5;124m'\u001b[39m], num_quantiles)\n\u001b[0;32m      6\u001b[0m \u001b[38;5;66;03m# Calculate the mean 'straddle_pnl' for each decile\u001b[39;00m\n\u001b[0;32m      7\u001b[0m mean_straddle_pnl_by_kurt_decile \u001b[38;5;241m=\u001b[39m earnings_dates_for_tickers\u001b[38;5;241m.\u001b[39mgroupby(\u001b[38;5;124m'\u001b[39m\u001b[38;5;124mkurt_25_decile\u001b[39m\u001b[38;5;124m'\u001b[39m)[\u001b[38;5;124m'\u001b[39m\u001b[38;5;124mstraddle_pnl\u001b[39m\u001b[38;5;124m'\u001b[39m]\u001b[38;5;241m.\u001b[39mmean()\n",
      "\u001b[1;31mNameError\u001b[0m: name 'pd' is not defined"
     ]
    }
   ],
   "source": [
    "num_quantiles = 10\n",
    "\n",
    "# Create deciles based on 'skew_25'\n",
    "earnings_dates_for_tickers['kurt_25_decile'] = pd.qcut(earnings_dates_for_tickers['kurt_25'], num_quantiles)\n",
    "\n",
    "# Calculate the mean 'straddle_pnl' for each decile\n",
    "mean_straddle_pnl_by_kurt_decile = earnings_dates_for_tickers.groupby('kurt_25_decile')['straddle_pnl'].mean()\n",
    "\n",
    "print(mean_straddle_pnl_by_kurt_decile)"
   ]
  },
  {
   "cell_type": "code",
   "execution_count": null,
   "metadata": {},
   "outputs": [
    {
     "name": "stdout",
     "output_type": "stream",
     "text": [
      "straddle_vol_decile\n",
      "(0.206, 0.501]   -69.254183\n",
      "(0.501, 0.621]     0.756881\n",
      "(0.621, 0.73]     23.058441\n",
      "(0.73, 0.849]     17.395843\n",
      "(0.849, 0.952]    43.000185\n",
      "(0.952, 1.104]    45.939242\n",
      "(1.104, 1.293]   -27.507660\n",
      "(1.293, 1.566]   -41.562691\n",
      "(1.566, 1.957]     2.208024\n",
      "(1.957, 2.982]    67.354911\n",
      "Name: straddle_pnl, dtype: float64\n"
     ]
    }
   ],
   "source": [
    "num_quantiles = 10\n",
    "\n",
    "# Create deciles based on 'skew_25'\n",
    "earnings_dates_for_tickers['straddle_vol_decile'] = pd.qcut(earnings_dates_for_tickers['straddle_entry_vol'], num_quantiles)\n",
    "\n",
    "# Calculate the mean 'straddle_pnl' for each decile\n",
    "mean_straddle_pnl_by_vol_decile = earnings_dates_for_tickers.groupby('straddle_vol_decile')['straddle_pnl'].mean()\n",
    "\n",
    "print(mean_straddle_pnl_by_vol_decile)"
   ]
  },
  {
   "cell_type": "code",
   "execution_count": null,
   "metadata": {},
   "outputs": [
    {
     "data": {
      "text/plain": [
       "45.867461955398504"
      ]
     },
     "execution_count": 50,
     "metadata": {},
     "output_type": "execute_result"
    }
   ],
   "source": [
    "earnings_dates_for_tickers[earnings_dates_for_tickers['kurt_25']>=1.279]['straddle_pnl'].mean()"
   ]
  },
  {
   "cell_type": "code",
   "execution_count": null,
   "metadata": {},
   "outputs": [],
   "source": [
    "earnings_dates_for_tickers['skew_25_quartile'] = pd.qcut(earnings_dates_for_tickers['skew_25'], 4)\n",
    "earnings_dates_for_tickers['kurt_25_quartile'] = pd.qcut(earnings_dates_for_tickers['skew_25'], 4)\n",
    "\n"
   ]
  },
  {
   "cell_type": "code",
   "execution_count": null,
   "metadata": {},
   "outputs": [],
   "source": [
    "earnings_dates_for_tickers.to_csv(\"results.csv\")"
   ]
  },
  {
   "cell_type": "code",
   "execution_count": null,
   "metadata": {},
   "outputs": [],
   "source": [
    "earnings_dates_for_tickers = pd.read_csv(\"results.csv\")"
   ]
  },
  {
   "cell_type": "code",
   "execution_count": null,
   "metadata": {},
   "outputs": [],
   "source": []
  }
 ],
 "metadata": {
  "kernelspec": {
   "display_name": "Python 3",
   "language": "python",
   "name": "python3"
  },
  "language_info": {
   "codemirror_mode": {
    "name": "ipython",
    "version": 3
   },
   "file_extension": ".py",
   "mimetype": "text/x-python",
   "name": "python",
   "nbconvert_exporter": "python",
   "pygments_lexer": "ipython3",
   "version": "3.10.11"
  }
 },
 "nbformat": 4,
 "nbformat_minor": 2
}
