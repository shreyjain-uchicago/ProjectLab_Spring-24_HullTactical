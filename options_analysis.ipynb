{
 "cells": [
  {
   "cell_type": "code",
   "execution_count": 38,
   "metadata": {},
   "outputs": [],
   "source": [
    "import os\n",
    "import datetime\n",
    "from datetime import timedelta\n",
    "import quandl\n",
    "import matplotlib.pyplot as plt\n",
    "\n",
    "import matplotlib.pyplot as plt\n",
    "import pandas as pd\n",
    "import numpy as np\n",
    "import scipy as sp\n",
    "import plotnine as p9\n",
    "from sklearn.preprocessing import MinMaxScaler\n",
    "from scipy.stats import zscore\n",
    "\n",
    "import warnings\n",
    "import functools\n",
    "import wrds\n",
    "import sys\n",
    "# Ignore all warnings\n",
    "warnings.filterwarnings(\"ignore\")"
   ]
  },
  {
   "cell_type": "code",
   "execution_count": 2,
   "metadata": {},
   "outputs": [
    {
     "name": "stdout",
     "output_type": "stream",
     "text": [
      "WRDS recommends setting up a .pgpass file.\n",
      "Created .pgpass file successfully.\n",
      "You can create this file yourself at any time with the create_pgpass_file() function.\n",
      "Loading library list...\n",
      "Done\n"
     ]
    }
   ],
   "source": [
    "db = wrds.Connection()\n"
   ]
  },
  {
   "cell_type": "code",
   "execution_count": 3,
   "metadata": {},
   "outputs": [],
   "source": [
    "earnings_dates_for_tickers = pd.read_csv(\"earnings_dates_for_tickers.csv\")"
   ]
  },
  {
   "cell_type": "code",
   "execution_count": 5,
   "metadata": {},
   "outputs": [
    {
     "data": {
      "text/plain": [
       "array([101149., 205456., 210354., ..., 211262., 207854., 105959.])"
      ]
     },
     "execution_count": 5,
     "metadata": {},
     "output_type": "execute_result"
    }
   ],
   "source": [
    "csv_file_path = \"secids.csv\"\n",
    "\n",
    "# Reading the CSV file into a NumPy array\n",
    "secids = np.genfromtxt(csv_file_path, delimiter=',')\n",
    "secids"
   ]
  },
  {
   "cell_type": "code",
   "execution_count": 6,
   "metadata": {},
   "outputs": [
    {
     "name": "stdout",
     "output_type": "stream",
     "text": [
      "2017\n",
      "2018\n",
      "2019\n",
      "2020\n",
      "2021\n",
      "2022\n",
      "2023\n"
     ]
    }
   ],
   "source": [
    "options_dict = {} \n",
    "for year in range(2017, 2024):\n",
    "    print(year)\n",
    "    table_name = f\"optionm.opprcd{year}\"  # Generate table name dynamically\n",
    "    query = f\"\"\"\n",
    "    SELECT\n",
    "        date, secid, symbol, cp_flag, expiry_indicator, volume, strike_price, exdate, open_interest, impl_volatility, best_bid, best_offer, delta, gamma, vega, theta\n",
    "    FROM \n",
    "        {table_name} a \n",
    "    WHERE\n",
    "        a.secid IN ({','.join(map(str, secids))}) AND\n",
    "        a.volume > 0 AND\n",
    "        a.exdate - a.date <= 7\n",
    "    \"\"\"\n",
    "    options_dict[year] = db.raw_sql(query, date_cols=['date'])"
   ]
  },
  {
   "cell_type": "code",
   "execution_count": 9,
   "metadata": {},
   "outputs": [
    {
     "data": {
      "text/html": [
       "<div>\n",
       "<style scoped>\n",
       "    .dataframe tbody tr th:only-of-type {\n",
       "        vertical-align: middle;\n",
       "    }\n",
       "\n",
       "    .dataframe tbody tr th {\n",
       "        vertical-align: top;\n",
       "    }\n",
       "\n",
       "    .dataframe thead th {\n",
       "        text-align: right;\n",
       "    }\n",
       "</style>\n",
       "<table border=\"1\" class=\"dataframe\">\n",
       "  <thead>\n",
       "    <tr style=\"text-align: right;\">\n",
       "      <th></th>\n",
       "      <th>date</th>\n",
       "      <th>permno</th>\n",
       "      <th>prc</th>\n",
       "      <th>bid</th>\n",
       "      <th>ask</th>\n",
       "      <th>ticker</th>\n",
       "      <th>comnam</th>\n",
       "    </tr>\n",
       "  </thead>\n",
       "  <tbody>\n",
       "    <tr>\n",
       "      <th>45</th>\n",
       "      <td>2018-02-07</td>\n",
       "      <td>87432</td>\n",
       "      <td>68.06000</td>\n",
       "      <td>68.06000</td>\n",
       "      <td>68.07000</td>\n",
       "      <td>A</td>\n",
       "      <td>AGILENT TECHNOLOGIES INC</td>\n",
       "    </tr>\n",
       "    <tr>\n",
       "      <th>46</th>\n",
       "      <td>2018-02-08</td>\n",
       "      <td>87432</td>\n",
       "      <td>65.05000</td>\n",
       "      <td>65.03000</td>\n",
       "      <td>65.05000</td>\n",
       "      <td>A</td>\n",
       "      <td>AGILENT TECHNOLOGIES INC</td>\n",
       "    </tr>\n",
       "    <tr>\n",
       "      <th>47</th>\n",
       "      <td>2018-02-09</td>\n",
       "      <td>87432</td>\n",
       "      <td>66.98000</td>\n",
       "      <td>66.97000</td>\n",
       "      <td>66.98000</td>\n",
       "      <td>A</td>\n",
       "      <td>AGILENT TECHNOLOGIES INC</td>\n",
       "    </tr>\n",
       "    <tr>\n",
       "      <th>48</th>\n",
       "      <td>2018-02-12</td>\n",
       "      <td>87432</td>\n",
       "      <td>68.43000</td>\n",
       "      <td>68.40000</td>\n",
       "      <td>68.41000</td>\n",
       "      <td>A</td>\n",
       "      <td>AGILENT TECHNOLOGIES INC</td>\n",
       "    </tr>\n",
       "    <tr>\n",
       "      <th>49</th>\n",
       "      <td>2018-02-13</td>\n",
       "      <td>87432</td>\n",
       "      <td>68.34000</td>\n",
       "      <td>68.33000</td>\n",
       "      <td>68.34000</td>\n",
       "      <td>A</td>\n",
       "      <td>AGILENT TECHNOLOGIES INC</td>\n",
       "    </tr>\n",
       "    <tr>\n",
       "      <th>...</th>\n",
       "      <td>...</td>\n",
       "      <td>...</td>\n",
       "      <td>...</td>\n",
       "      <td>...</td>\n",
       "      <td>...</td>\n",
       "      <td>...</td>\n",
       "      <td>...</td>\n",
       "    </tr>\n",
       "    <tr>\n",
       "      <th>965738</th>\n",
       "      <td>2023-02-15</td>\n",
       "      <td>13788</td>\n",
       "      <td>175.02000</td>\n",
       "      <td>175.10001</td>\n",
       "      <td>175.11000</td>\n",
       "      <td>ZTS</td>\n",
       "      <td>ZOETIS INC</td>\n",
       "    </tr>\n",
       "    <tr>\n",
       "      <th>965739</th>\n",
       "      <td>2023-02-16</td>\n",
       "      <td>13788</td>\n",
       "      <td>173.92999</td>\n",
       "      <td>173.97000</td>\n",
       "      <td>174.02000</td>\n",
       "      <td>ZTS</td>\n",
       "      <td>ZOETIS INC</td>\n",
       "    </tr>\n",
       "    <tr>\n",
       "      <th>965740</th>\n",
       "      <td>2023-02-17</td>\n",
       "      <td>13788</td>\n",
       "      <td>172.03000</td>\n",
       "      <td>172.09000</td>\n",
       "      <td>172.10001</td>\n",
       "      <td>ZTS</td>\n",
       "      <td>ZOETIS INC</td>\n",
       "    </tr>\n",
       "    <tr>\n",
       "      <th>965741</th>\n",
       "      <td>2023-02-21</td>\n",
       "      <td>13788</td>\n",
       "      <td>169.84000</td>\n",
       "      <td>169.87000</td>\n",
       "      <td>169.89999</td>\n",
       "      <td>ZTS</td>\n",
       "      <td>ZOETIS INC</td>\n",
       "    </tr>\n",
       "    <tr>\n",
       "      <th>965742</th>\n",
       "      <td>2023-02-22</td>\n",
       "      <td>13788</td>\n",
       "      <td>166.42999</td>\n",
       "      <td>166.49001</td>\n",
       "      <td>166.50000</td>\n",
       "      <td>ZTS</td>\n",
       "      <td>ZOETIS INC</td>\n",
       "    </tr>\n",
       "  </tbody>\n",
       "</table>\n",
       "<p>125725 rows × 7 columns</p>\n",
       "</div>"
      ],
      "text/plain": [
       "             date  permno        prc        bid        ask ticker  \\\n",
       "45     2018-02-07   87432   68.06000   68.06000   68.07000      A   \n",
       "46     2018-02-08   87432   65.05000   65.03000   65.05000      A   \n",
       "47     2018-02-09   87432   66.98000   66.97000   66.98000      A   \n",
       "48     2018-02-12   87432   68.43000   68.40000   68.41000      A   \n",
       "49     2018-02-13   87432   68.34000   68.33000   68.34000      A   \n",
       "...           ...     ...        ...        ...        ...    ...   \n",
       "965738 2023-02-15   13788  175.02000  175.10001  175.11000    ZTS   \n",
       "965739 2023-02-16   13788  173.92999  173.97000  174.02000    ZTS   \n",
       "965740 2023-02-17   13788  172.03000  172.09000  172.10001    ZTS   \n",
       "965741 2023-02-21   13788  169.84000  169.87000  169.89999    ZTS   \n",
       "965742 2023-02-22   13788  166.42999  166.49001  166.50000    ZTS   \n",
       "\n",
       "                          comnam  \n",
       "45      AGILENT TECHNOLOGIES INC  \n",
       "46      AGILENT TECHNOLOGIES INC  \n",
       "47      AGILENT TECHNOLOGIES INC  \n",
       "48      AGILENT TECHNOLOGIES INC  \n",
       "49      AGILENT TECHNOLOGIES INC  \n",
       "...                          ...  \n",
       "965738                ZOETIS INC  \n",
       "965739                ZOETIS INC  \n",
       "965740                ZOETIS INC  \n",
       "965741                ZOETIS INC  \n",
       "965742                ZOETIS INC  \n",
       "\n",
       "[125725 rows x 7 columns]"
      ]
     },
     "execution_count": 9,
     "metadata": {},
     "output_type": "execute_result"
    }
   ],
   "source": [
    "stock_prices = pd.read_parquet(\"stock_price_ED_20182023.parquet\")\n",
    "stock_prices"
   ]
  },
  {
   "cell_type": "code",
   "execution_count": 17,
   "metadata": {},
   "outputs": [
    {
     "data": {
      "text/plain": [
       "45       2018-02-07\n",
       "46       2018-02-08\n",
       "47       2018-02-09\n",
       "48       2018-02-12\n",
       "49       2018-02-13\n",
       "            ...    \n",
       "965738   2023-02-15\n",
       "965739   2023-02-16\n",
       "965740   2023-02-17\n",
       "965741   2023-02-21\n",
       "965742   2023-02-22\n",
       "Name: date, Length: 125725, dtype: datetime64[ns]"
      ]
     },
     "execution_count": 17,
     "metadata": {},
     "output_type": "execute_result"
    }
   ],
   "source": [
    "stock_prices['date']"
   ]
  },
  {
   "cell_type": "code",
   "execution_count": 14,
   "metadata": {},
   "outputs": [
    {
     "data": {
      "text/plain": [
       "0        2018-02-13\n",
       "1        2018-05-11\n",
       "2        2018-08-13\n",
       "3        2018-11-16\n",
       "4        2019-02-19\n",
       "            ...    \n",
       "19471    2023-02-13\n",
       "19472    2023-05-03\n",
       "19473    2023-08-07\n",
       "19474    2023-11-01\n",
       "19475    2024-02-12\n",
       "Name: trade_entry, Length: 19476, dtype: object"
      ]
     },
     "execution_count": 14,
     "metadata": {},
     "output_type": "execute_result"
    }
   ],
   "source": [
    "earnings_dates_for_tickers['trade_entry'] = pd.to_datetime(earnings_dates_for_tickers['trade_entry'])\n",
    "\n",
    "# Extract only the date part (YYYY-MM-DD)\n",
    "earnings_dates_for_tickers['trade_entry'] = earnings_dates_for_tickers['trade_entry'].dt.date\n",
    "earnings_dates_for_tickers['trade_entry']"
   ]
  },
  {
   "cell_type": "code",
   "execution_count": 15,
   "metadata": {},
   "outputs": [
    {
     "data": {
      "text/plain": [
       "0       2018-02-13\n",
       "1       2018-05-11\n",
       "2       2018-08-13\n",
       "3       2018-11-16\n",
       "4       2019-02-19\n",
       "           ...    \n",
       "19471   2023-02-13\n",
       "19472   2023-05-03\n",
       "19473   2023-08-07\n",
       "19474   2023-11-01\n",
       "19475   2024-02-12\n",
       "Name: trade_entry, Length: 19476, dtype: datetime64[ns]"
      ]
     },
     "execution_count": 15,
     "metadata": {},
     "output_type": "execute_result"
    }
   ],
   "source": [
    "earnings_dates_for_tickers['trade_entry'] = pd.to_datetime(earnings_dates_for_tickers['trade_entry'])\n",
    "earnings_dates_for_tickers['trade_entry']\n"
   ]
  },
  {
   "cell_type": "code",
   "execution_count": 16,
   "metadata": {},
   "outputs": [
    {
     "data": {
      "text/plain": [
       "0       2018-02-14\n",
       "1       2018-05-14\n",
       "2       2018-08-14\n",
       "3       2018-11-19\n",
       "4       2019-02-20\n",
       "           ...    \n",
       "19471   2023-02-14\n",
       "19472   2023-05-04\n",
       "19473   2023-08-08\n",
       "19474   2023-11-02\n",
       "19475   2024-02-13\n",
       "Name: trade_exit, Length: 19476, dtype: datetime64[ns]"
      ]
     },
     "execution_count": 16,
     "metadata": {},
     "output_type": "execute_result"
    }
   ],
   "source": [
    "earnings_dates_for_tickers['trade_exit'] = pd.to_datetime(earnings_dates_for_tickers['trade_exit'])\n",
    "\n",
    "# Extract only the date part (YYYY-MM-DD)\n",
    "earnings_dates_for_tickers['trade_exit'] = earnings_dates_for_tickers['trade_exit'].dt.date\n",
    "earnings_dates_for_tickers['trade_exit'] = pd.to_datetime(earnings_dates_for_tickers['trade_exit'])\n",
    "earnings_dates_for_tickers['trade_exit']\n",
    "\n"
   ]
  },
  {
   "cell_type": "code",
   "execution_count": 18,
   "metadata": {},
   "outputs": [
    {
     "data": {
      "text/html": [
       "<div>\n",
       "<style scoped>\n",
       "    .dataframe tbody tr th:only-of-type {\n",
       "        vertical-align: middle;\n",
       "    }\n",
       "\n",
       "    .dataframe tbody tr th {\n",
       "        vertical-align: top;\n",
       "    }\n",
       "\n",
       "    .dataframe thead th {\n",
       "        text-align: right;\n",
       "    }\n",
       "</style>\n",
       "<table border=\"1\" class=\"dataframe\">\n",
       "  <thead>\n",
       "    <tr style=\"text-align: right;\">\n",
       "      <th></th>\n",
       "      <th></th>\n",
       "      <th>permno</th>\n",
       "      <th>prc</th>\n",
       "      <th>bid</th>\n",
       "      <th>ask</th>\n",
       "      <th>comnam</th>\n",
       "    </tr>\n",
       "    <tr>\n",
       "      <th>date</th>\n",
       "      <th>ticker</th>\n",
       "      <th></th>\n",
       "      <th></th>\n",
       "      <th></th>\n",
       "      <th></th>\n",
       "      <th></th>\n",
       "    </tr>\n",
       "  </thead>\n",
       "  <tbody>\n",
       "    <tr>\n",
       "      <th>2018-02-07</th>\n",
       "      <th>A</th>\n",
       "      <td>87432</td>\n",
       "      <td>68.06000</td>\n",
       "      <td>68.06000</td>\n",
       "      <td>68.07000</td>\n",
       "      <td>AGILENT TECHNOLOGIES INC</td>\n",
       "    </tr>\n",
       "    <tr>\n",
       "      <th>2018-02-08</th>\n",
       "      <th>A</th>\n",
       "      <td>87432</td>\n",
       "      <td>65.05000</td>\n",
       "      <td>65.03000</td>\n",
       "      <td>65.05000</td>\n",
       "      <td>AGILENT TECHNOLOGIES INC</td>\n",
       "    </tr>\n",
       "    <tr>\n",
       "      <th>2018-02-09</th>\n",
       "      <th>A</th>\n",
       "      <td>87432</td>\n",
       "      <td>66.98000</td>\n",
       "      <td>66.97000</td>\n",
       "      <td>66.98000</td>\n",
       "      <td>AGILENT TECHNOLOGIES INC</td>\n",
       "    </tr>\n",
       "    <tr>\n",
       "      <th>2018-02-12</th>\n",
       "      <th>A</th>\n",
       "      <td>87432</td>\n",
       "      <td>68.43000</td>\n",
       "      <td>68.40000</td>\n",
       "      <td>68.41000</td>\n",
       "      <td>AGILENT TECHNOLOGIES INC</td>\n",
       "    </tr>\n",
       "    <tr>\n",
       "      <th>2018-02-13</th>\n",
       "      <th>A</th>\n",
       "      <td>87432</td>\n",
       "      <td>68.34000</td>\n",
       "      <td>68.33000</td>\n",
       "      <td>68.34000</td>\n",
       "      <td>AGILENT TECHNOLOGIES INC</td>\n",
       "    </tr>\n",
       "    <tr>\n",
       "      <th>...</th>\n",
       "      <th>...</th>\n",
       "      <td>...</td>\n",
       "      <td>...</td>\n",
       "      <td>...</td>\n",
       "      <td>...</td>\n",
       "      <td>...</td>\n",
       "    </tr>\n",
       "    <tr>\n",
       "      <th>2023-02-15</th>\n",
       "      <th>ZTS</th>\n",
       "      <td>13788</td>\n",
       "      <td>175.02000</td>\n",
       "      <td>175.10001</td>\n",
       "      <td>175.11000</td>\n",
       "      <td>ZOETIS INC</td>\n",
       "    </tr>\n",
       "    <tr>\n",
       "      <th>2023-02-16</th>\n",
       "      <th>ZTS</th>\n",
       "      <td>13788</td>\n",
       "      <td>173.92999</td>\n",
       "      <td>173.97000</td>\n",
       "      <td>174.02000</td>\n",
       "      <td>ZOETIS INC</td>\n",
       "    </tr>\n",
       "    <tr>\n",
       "      <th>2023-02-17</th>\n",
       "      <th>ZTS</th>\n",
       "      <td>13788</td>\n",
       "      <td>172.03000</td>\n",
       "      <td>172.09000</td>\n",
       "      <td>172.10001</td>\n",
       "      <td>ZOETIS INC</td>\n",
       "    </tr>\n",
       "    <tr>\n",
       "      <th>2023-02-21</th>\n",
       "      <th>ZTS</th>\n",
       "      <td>13788</td>\n",
       "      <td>169.84000</td>\n",
       "      <td>169.87000</td>\n",
       "      <td>169.89999</td>\n",
       "      <td>ZOETIS INC</td>\n",
       "    </tr>\n",
       "    <tr>\n",
       "      <th>2023-02-22</th>\n",
       "      <th>ZTS</th>\n",
       "      <td>13788</td>\n",
       "      <td>166.42999</td>\n",
       "      <td>166.49001</td>\n",
       "      <td>166.50000</td>\n",
       "      <td>ZOETIS INC</td>\n",
       "    </tr>\n",
       "  </tbody>\n",
       "</table>\n",
       "<p>125725 rows × 5 columns</p>\n",
       "</div>"
      ],
      "text/plain": [
       "                   permno        prc        bid        ask  \\\n",
       "date       ticker                                            \n",
       "2018-02-07 A        87432   68.06000   68.06000   68.07000   \n",
       "2018-02-08 A        87432   65.05000   65.03000   65.05000   \n",
       "2018-02-09 A        87432   66.98000   66.97000   66.98000   \n",
       "2018-02-12 A        87432   68.43000   68.40000   68.41000   \n",
       "2018-02-13 A        87432   68.34000   68.33000   68.34000   \n",
       "...                   ...        ...        ...        ...   \n",
       "2023-02-15 ZTS      13788  175.02000  175.10001  175.11000   \n",
       "2023-02-16 ZTS      13788  173.92999  173.97000  174.02000   \n",
       "2023-02-17 ZTS      13788  172.03000  172.09000  172.10001   \n",
       "2023-02-21 ZTS      13788  169.84000  169.87000  169.89999   \n",
       "2023-02-22 ZTS      13788  166.42999  166.49001  166.50000   \n",
       "\n",
       "                                     comnam  \n",
       "date       ticker                            \n",
       "2018-02-07 A       AGILENT TECHNOLOGIES INC  \n",
       "2018-02-08 A       AGILENT TECHNOLOGIES INC  \n",
       "2018-02-09 A       AGILENT TECHNOLOGIES INC  \n",
       "2018-02-12 A       AGILENT TECHNOLOGIES INC  \n",
       "2018-02-13 A       AGILENT TECHNOLOGIES INC  \n",
       "...                                     ...  \n",
       "2023-02-15 ZTS                   ZOETIS INC  \n",
       "2023-02-16 ZTS                   ZOETIS INC  \n",
       "2023-02-17 ZTS                   ZOETIS INC  \n",
       "2023-02-21 ZTS                   ZOETIS INC  \n",
       "2023-02-22 ZTS                   ZOETIS INC  \n",
       "\n",
       "[125725 rows x 5 columns]"
      ]
     },
     "execution_count": 18,
     "metadata": {},
     "output_type": "execute_result"
    }
   ],
   "source": [
    "stock_prices.set_index(['date','ticker'],inplace = True)\n",
    "stock_prices"
   ]
  },
  {
   "cell_type": "code",
   "execution_count": 31,
   "metadata": {},
   "outputs": [],
   "source": [
    "def entry_stock_price(row):\n",
    "    try:\n",
    "        return stock_prices.loc[(row['trade_entry'], row['Short_ticker'])]['prc'].mean()\n",
    "    except KeyError:\n",
    "        return np.nan\n",
    "earnings_dates_for_tickers['stock_price_entry'] = earnings_dates_for_tickers.apply(entry_stock_price,axis = 1)"
   ]
  },
  {
   "cell_type": "code",
   "execution_count": 32,
   "metadata": {},
   "outputs": [],
   "source": [
    "def exit_stock_price(row):\n",
    "    try:\n",
    "        return stock_prices.loc[(row['trade_exit'], row['Short_ticker'])]['prc'].mean()\n",
    "    except KeyError:\n",
    "        return np.nan\n",
    "earnings_dates_for_tickers['stock_price_exit'] = earnings_dates_for_tickers.apply(exit_stock_price,axis = 1)"
   ]
  },
  {
   "cell_type": "code",
   "execution_count": 56,
   "metadata": {},
   "outputs": [
    {
     "data": {
      "text/plain": [
       "0        2018\n",
       "1        2018\n",
       "2        2018\n",
       "3        2018\n",
       "4        2019\n",
       "         ... \n",
       "19471    2023\n",
       "19472    2023\n",
       "19473    2023\n",
       "19474    2023\n",
       "19475    2024\n",
       "Name: year_entry, Length: 19476, dtype: int32"
      ]
     },
     "execution_count": 56,
     "metadata": {},
     "output_type": "execute_result"
    }
   ],
   "source": [
    "earnings_dates_for_tickers['year_entry'] = earnings_dates_for_tickers['trade_entry'].dt.year\n",
    "\n",
    "# Create 'year_exit' column containing the year of 'trade_exit'\n",
    "earnings_dates_for_tickers['year_exit'] = earnings_dates_for_tickers['trade_exit'].dt.year\n",
    "earnings_dates_for_tickers['year_entry']"
   ]
  },
  {
   "cell_type": "code",
   "execution_count": 68,
   "metadata": {},
   "outputs": [],
   "source": [
    "def straddle_entry_mid(row):\n",
    "    if row['year_entry'] < 2017 or row['year_entry'] > 2023 or row['year_exit'] < 2017 or row['year_exit'] > 2023:\n",
    "        return np.nan\n",
    "    try:\n",
    "        options = options_dict[row['year_entry']].loc[(row['trade_entry'],row['Short_ticker'])]\n",
    "    except:\n",
    "        return np.nan\n",
    "    options['strike_price'] *= 0.001\n",
    "\n",
    "    # Calculate the absolute difference between 'strike_price' and row['stock_price_entry']\n",
    "    options['abs_difference'] = abs(options['strike_price'] - row['stock_price_entry'])\n",
    "\n",
    "    # Filter the DataFrame for rows with the minimum absolute difference\n",
    "    min_abs_difference = options['abs_difference'].min()\n",
    "    filtered_options = options[options['abs_difference'] == min_abs_difference]\n",
    "    if len(filtered_options) ==2 and ('C' in filtered_options['cp_flag'].values) and ('P' in filtered_options['cp_flag'].values):\n",
    "        return (filtered_options['best_bid'].mean()+filtered_options['best_offer'].mean())/2.0\n",
    "    return np.nan\n",
    "earnings_dates_for_tickers['straddle_entry_mid'] = earnings_dates_for_tickers.apply(straddle_entry_mid,axis = 1)"
   ]
  },
  {
   "cell_type": "code",
   "execution_count": 76,
   "metadata": {},
   "outputs": [],
   "source": [
    "def straddle_exit_mid(row):\n",
    "    if row['year_entry'] < 2017 or row['year_entry'] > 2023 or row['year_exit'] < 2017 or row['year_exit'] > 2023:\n",
    "        return np.nan\n",
    "    try:\n",
    "        options = options_dict[row['year_exit']].loc[(row['trade_exit'],row['Short_ticker'])]\n",
    "    except:\n",
    "        return np.nan\n",
    "    options['strike_price'] *= 0.001\n",
    "\n",
    "    # Calculate the absolute difference between 'strike_price' and row['stock_price_entry']\n",
    "    options['abs_difference'] = abs(options['strike_price'] - row['stock_price_entry'])\n",
    "\n",
    "    # Filter the DataFrame for rows with the minimum absolute difference\n",
    "    min_abs_difference = options['abs_difference'].min()\n",
    "    filtered_options = options[options['abs_difference'] == min_abs_difference]\n",
    "    if len(filtered_options) ==2 and ('C' in filtered_options['cp_flag'].values) and ('P' in filtered_options['cp_flag'].values):\n",
    "        return (filtered_options['best_bid'].mean()+filtered_options['best_offer'].mean())/2.0\n",
    "    return np.nan\n",
    "earnings_dates_for_tickers['straddle_exit_mid'] = earnings_dates_for_tickers.apply(straddle_exit_mid,axis = 1)"
   ]
  },
  {
   "cell_type": "code",
   "execution_count": 77,
   "metadata": {},
   "outputs": [
    {
     "data": {
      "text/plain": [
       "5288"
      ]
     },
     "execution_count": 77,
     "metadata": {},
     "output_type": "execute_result"
    }
   ],
   "source": [
    "earnings_dates_for_tickers['straddle_exit_mid'].count()"
   ]
  },
  {
   "cell_type": "code",
   "execution_count": 79,
   "metadata": {},
   "outputs": [],
   "source": [
    "earnings_dates_for_tickers['straddle_pnl'] = (earnings_dates_for_tickers['straddle_entry_mid'] - earnings_dates_for_tickers['straddle_exit_mid'])*1000.0/earnings_dates_for_tickers['straddle_entry_mid']"
   ]
  },
  {
   "cell_type": "code",
   "execution_count": 80,
   "metadata": {},
   "outputs": [
    {
     "data": {
      "text/plain": [
       "-26.64774755013799"
      ]
     },
     "execution_count": 80,
     "metadata": {},
     "output_type": "execute_result"
    }
   ],
   "source": [
    "earnings_dates_for_tickers['straddle_pnl'].mean()"
   ]
  },
  {
   "cell_type": "code",
   "execution_count": null,
   "metadata": {},
   "outputs": [],
   "source": []
  }
 ],
 "metadata": {
  "kernelspec": {
   "display_name": "Python 3",
   "language": "python",
   "name": "python3"
  },
  "language_info": {
   "codemirror_mode": {
    "name": "ipython",
    "version": 3
   },
   "file_extension": ".py",
   "mimetype": "text/x-python",
   "name": "python",
   "nbconvert_exporter": "python",
   "pygments_lexer": "ipython3",
   "version": "3.10.11"
  }
 },
 "nbformat": 4,
 "nbformat_minor": 2
}
