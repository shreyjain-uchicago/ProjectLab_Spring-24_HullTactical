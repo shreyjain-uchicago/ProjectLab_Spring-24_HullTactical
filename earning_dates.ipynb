{
 "cells": [
  {
   "cell_type": "code",
   "execution_count": 11,
   "metadata": {},
   "outputs": [],
   "source": [
    "import pandas as pd\n",
    "\n",
    "dates = pd.read_excel('earning dates.xlsx')\n",
    "#dates.set_index('Ticker', inplace=True)\n",
    "tickers = pd.read_csv('Equity_tickers_optionm.csv')\n",
    "\n"
   ]
  },
  {
   "cell_type": "code",
   "execution_count": 12,
   "metadata": {},
   "outputs": [
    {
     "data": {
      "text/html": [
       "<div>\n",
       "<style scoped>\n",
       "    .dataframe tbody tr th:only-of-type {\n",
       "        vertical-align: middle;\n",
       "    }\n",
       "\n",
       "    .dataframe tbody tr th {\n",
       "        vertical-align: top;\n",
       "    }\n",
       "\n",
       "    .dataframe thead th {\n",
       "        text-align: right;\n",
       "    }\n",
       "</style>\n",
       "<table border=\"1\" class=\"dataframe\">\n",
       "  <thead>\n",
       "    <tr style=\"text-align: right;\">\n",
       "      <th></th>\n",
       "      <th>Name</th>\n",
       "      <th>Ticker</th>\n",
       "      <th>Date</th>\n",
       "      <th>Event Type</th>\n",
       "    </tr>\n",
       "  </thead>\n",
       "  <tbody>\n",
       "    <tr>\n",
       "      <th>0</th>\n",
       "      <td>Commercial Metals Co</td>\n",
       "      <td>CMC US</td>\n",
       "      <td>2018-01-03 06:45:00</td>\n",
       "      <td>ER</td>\n",
       "    </tr>\n",
       "    <tr>\n",
       "      <th>1</th>\n",
       "      <td>RPM International Inc</td>\n",
       "      <td>RPM US</td>\n",
       "      <td>2018-01-04 06:45:00</td>\n",
       "      <td>ER</td>\n",
       "    </tr>\n",
       "    <tr>\n",
       "      <th>2</th>\n",
       "      <td>Walgreens Boots Alliance Inc</td>\n",
       "      <td>WBA US</td>\n",
       "      <td>2018-01-04 07:00:00</td>\n",
       "      <td>ER</td>\n",
       "    </tr>\n",
       "    <tr>\n",
       "      <th>3</th>\n",
       "      <td>Lamb Weston Holdings Inc</td>\n",
       "      <td>LW US</td>\n",
       "      <td>2018-01-04 08:30:00</td>\n",
       "      <td>ER</td>\n",
       "    </tr>\n",
       "    <tr>\n",
       "      <th>4</th>\n",
       "      <td>Aehr Test Systems</td>\n",
       "      <td>AEHR US</td>\n",
       "      <td>2018-01-04 16:06:00</td>\n",
       "      <td>ER</td>\n",
       "    </tr>\n",
       "  </tbody>\n",
       "</table>\n",
       "</div>"
      ],
      "text/plain": [
       "                           Name   Ticker                Date Event Type\n",
       "0          Commercial Metals Co   CMC US 2018-01-03 06:45:00         ER\n",
       "1         RPM International Inc   RPM US 2018-01-04 06:45:00         ER\n",
       "2  Walgreens Boots Alliance Inc   WBA US 2018-01-04 07:00:00         ER\n",
       "3      Lamb Weston Holdings Inc    LW US 2018-01-04 08:30:00         ER\n",
       "4             Aehr Test Systems  AEHR US 2018-01-04 16:06:00         ER"
      ]
     },
     "execution_count": 12,
     "metadata": {},
     "output_type": "execute_result"
    }
   ],
   "source": [
    "dates.head()"
   ]
  },
  {
   "cell_type": "code",
   "execution_count": 9,
   "metadata": {},
   "outputs": [
    {
     "data": {
      "text/html": [
       "<div>\n",
       "<style scoped>\n",
       "    .dataframe tbody tr th:only-of-type {\n",
       "        vertical-align: middle;\n",
       "    }\n",
       "\n",
       "    .dataframe tbody tr th {\n",
       "        vertical-align: top;\n",
       "    }\n",
       "\n",
       "    .dataframe thead th {\n",
       "        text-align: right;\n",
       "    }\n",
       "</style>\n",
       "<table border=\"1\" class=\"dataframe\">\n",
       "  <thead>\n",
       "    <tr style=\"text-align: right;\">\n",
       "      <th></th>\n",
       "      <th>Unnamed: 0</th>\n",
       "      <th>Ticker</th>\n",
       "    </tr>\n",
       "  </thead>\n",
       "  <tbody>\n",
       "    <tr>\n",
       "      <th>0</th>\n",
       "      <td>0</td>\n",
       "      <td>ZZZZ</td>\n",
       "    </tr>\n",
       "    <tr>\n",
       "      <th>1</th>\n",
       "      <td>1</td>\n",
       "      <td>AFAP</td>\n",
       "    </tr>\n",
       "    <tr>\n",
       "      <th>2</th>\n",
       "      <td>2</td>\n",
       "      <td>AWCSE</td>\n",
       "    </tr>\n",
       "    <tr>\n",
       "      <th>3</th>\n",
       "      <td>3</td>\n",
       "      <td>MRCBF</td>\n",
       "    </tr>\n",
       "    <tr>\n",
       "      <th>4</th>\n",
       "      <td>4</td>\n",
       "      <td>AACZE</td>\n",
       "    </tr>\n",
       "    <tr>\n",
       "      <th>...</th>\n",
       "      <td>...</td>\n",
       "      <td>...</td>\n",
       "    </tr>\n",
       "    <tr>\n",
       "      <th>14485</th>\n",
       "      <td>14485</td>\n",
       "      <td>UMAC</td>\n",
       "    </tr>\n",
       "    <tr>\n",
       "      <th>14486</th>\n",
       "      <td>14486</td>\n",
       "      <td>CLCO</td>\n",
       "    </tr>\n",
       "    <tr>\n",
       "      <th>14487</th>\n",
       "      <td>14487</td>\n",
       "      <td>NB</td>\n",
       "    </tr>\n",
       "    <tr>\n",
       "      <th>14488</th>\n",
       "      <td>14488</td>\n",
       "      <td>YS</td>\n",
       "    </tr>\n",
       "    <tr>\n",
       "      <th>14489</th>\n",
       "      <td>14489</td>\n",
       "      <td>CKHL</td>\n",
       "    </tr>\n",
       "  </tbody>\n",
       "</table>\n",
       "<p>14490 rows × 2 columns</p>\n",
       "</div>"
      ],
      "text/plain": [
       "       Unnamed: 0 Ticker\n",
       "0               0   ZZZZ\n",
       "1               1   AFAP\n",
       "2               2  AWCSE\n",
       "3               3  MRCBF\n",
       "4               4  AACZE\n",
       "...           ...    ...\n",
       "14485       14485   UMAC\n",
       "14486       14486   CLCO\n",
       "14487       14487     NB\n",
       "14488       14488     YS\n",
       "14489       14489   CKHL\n",
       "\n",
       "[14490 rows x 2 columns]"
      ]
     },
     "execution_count": 9,
     "metadata": {},
     "output_type": "execute_result"
    }
   ],
   "source": [
    "tickers.rename(columns={ tickers.columns[1]: 'Ticker' }, inplace=True)\n",
    "tickers"
   ]
  },
  {
   "cell_type": "code",
   "execution_count": 22,
   "metadata": {},
   "outputs": [
    {
     "name": "stdout",
     "output_type": "stream",
     "text": [
      "Empty DataFrame\n",
      "Columns: [Name, Ticker, Date, Event Type]\n",
      "Index: []\n"
     ]
    }
   ],
   "source": [
    "\n",
    "# Obtenemos una lista de los tickers únicos del DataFrame `tickers`\n",
    "tickers_list = tickers.iloc[:, 1].dropna().unique()\n",
    "\n",
    "earnings_dates_for_tickers = dates[dates['Ticker'].isin(tickers_list)]\n",
    "\n",
    "earnings_dates_for_tickers = earnings_dates_for_tickers.sort_values(by=['Ticker', 'Date'])\n",
    "\n",
    "print(earnings_dates_for_tickers)\n"
   ]
  }
 ],
 "metadata": {
  "kernelspec": {
   "display_name": "Python 3",
   "language": "python",
   "name": "python3"
  },
  "language_info": {
   "codemirror_mode": {
    "name": "ipython",
    "version": 3
   },
   "file_extension": ".py",
   "mimetype": "text/x-python",
   "name": "python",
   "nbconvert_exporter": "python",
   "pygments_lexer": "ipython3",
   "version": "3.11.4"
  }
 },
 "nbformat": 4,
 "nbformat_minor": 2
}
