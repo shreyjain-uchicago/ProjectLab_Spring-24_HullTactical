{
 "cells": [
  {
   "cell_type": "code",
   "execution_count": null,
   "metadata": {},
   "outputs": [],
   "source": [
    "import blpapi\n",
    "from datetime import datetime\n",
    "\n",
    "# Inicializa la sesión de Bloomberg\n",
    "session = blpapi.Session()\n",
    "if not session.start():\n",
    "    print(\"Failed to start session.\")\n",
    "    exit()\n",
    "\n",
    "if not session.openService(\"//blp/refdata\"):\n",
    "    print(\"Failed to open //blp/refdata\")\n",
    "    exit()\n",
    "\n",
    "service = session.getService(\"//blp/refdata\")\n",
    "request = service.createRequest(\"HistoricalDataRequest\")\n",
    "\n",
    "# Añade los tickers\n",
    "tickers = [\"AAPL US Equity\", \"MSFT US Equity\"]  # Ejemplo de tickers\n",
    "for ticker in tickers:\n",
    "    request.append(\"securities\", ticker)\n",
    "\n",
    "# Añade los campos que deseas solicitar, en este caso, la fecha de ganancias\n",
    "request.append(\"fields\", \"EARNINGS_ANNOUNCEMENT_DT\")\n",
    "\n",
    "# Establece el rango de fechas para la solicitud\n",
    "request.set(\"startDate\", \"20190101\")\n",
    "request.set(\"endDate\", datetime.today().strftime(\"%Y%m%d\"))\n",
    "\n",
    "# Envía la solicitud\n",
    "print(\"Sending Request:\", request)\n",
    "session.sendRequest(request)\n",
    "\n",
    "# Procesa las respuestas\n",
    "while True:\n",
    "    event = session.nextEvent()\n",
    "    for msg in event:\n",
    "        print(msg)\n",
    "\n",
    "    if event.eventType() == blpapi.Event.RESPONSE:\n",
    "        # Evento de respuesta final, sale del bucle\n",
    "        break\n",
    "\n",
    "# Cierra la sesión\n",
    "session.stop()\n"
   ]
  }
 ],
 "metadata": {
  "language_info": {
   "name": "python"
  }
 },
 "nbformat": 4,
 "nbformat_minor": 2
}
